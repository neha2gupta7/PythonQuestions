{
  "nbformat": 4,
  "nbformat_minor": 0,
  "metadata": {
    "colab": {
      "provenance": []
    },
    "kernelspec": {
      "name": "python3",
      "display_name": "Python 3"
    },
    "language_info": {
      "name": "python"
    }
  },
  "cells": [
    {
      "cell_type": "markdown",
      "source": [
        "# Find last position of substring\n",
        "# Write a python program to find the last position of a given substring."
      ],
      "metadata": {
        "id": "lVnJwWYa0SRP"
      }
    },
    {
      "cell_type": "code",
      "execution_count": null,
      "metadata": {
        "colab": {
          "base_uri": "https://localhost:8080/"
        },
        "id": "PjhLrGP70GRK",
        "outputId": "cf8a16a8-ec8d-4b85-94ae-74081a29977a"
      },
      "outputs": [
        {
          "output_type": "stream",
          "name": "stdout",
          "text": [
            "Emma is a data scientist who knows Python. Emma works at google.\n",
            "Emma\n",
            "Last occurrence of Emma starts at index 43\n"
          ]
        }
      ],
      "source": [
        "strl = input()\n",
        "substr = input()\n",
        "out = strl.rfind(substr)\n",
        "print(f\"Last occurrence of Emma starts at index {out}\")"
      ]
    },
    {
      "cell_type": "code",
      "source": [
        "strl = input()\n",
        "substr = input()\n",
        "out = strl.rfind(substr)\n",
        "print(f\"Last occurrence of {substr} starts at index {out}\")\n",
        "print(\"Last occurrence of {} starts at index {}\".format(substr, out))"
      ],
      "metadata": {
        "colab": {
          "base_uri": "https://localhost:8080/"
        },
        "id": "nDjAX8lX0hkf",
        "outputId": "e18396ed-a7a8-4c8c-fab3-bcbc9f8174c6"
      },
      "execution_count": null,
      "outputs": [
        {
          "output_type": "stream",
          "name": "stdout",
          "text": [
            "Emma is a data scientist who knows Python. Emma works at google.\n",
            "Emma\n",
            "Last occurrence of Emma starts at index 43\n",
            "Last occurrence of Emma starts at index 43\n"
          ]
        }
      ]
    },
    {
      "cell_type": "markdown",
      "source": [
        "Common ones out\n",
        "Easy\n",
        "Write a Python program to find common items from two lists."
      ],
      "metadata": {
        "id": "d15FrgPN2OiZ"
      }
    },
    {
      "cell_type": "code",
      "source": [
        "color1 = eval(input()) #first input list\n",
        "color2 = eval(input()) #second input list\n",
        "color_1 = set(color1)  #convert 1st list into set\n",
        "color_2 = set(color2)  #convert 2nd list into set\n",
        "print(list(color_1 & color_2))  #use Intersection operator and converted into list"
      ],
      "metadata": {
        "colab": {
          "base_uri": "https://localhost:8080/"
        },
        "id": "SFCZ83Jc19ZR",
        "outputId": "e0aa2c73-debf-43da-f9b1-f92127cbfeca"
      },
      "execution_count": null,
      "outputs": [
        {
          "output_type": "stream",
          "name": "stdout",
          "text": [
            "[\"Red\", \"Green\", \"Orange\", \"White\"]\n",
            "[\"Black\", \"Green\", \"White\", \"Pink\"]\n",
            "['Green', 'White']\n"
          ]
        }
      ]
    },
    {
      "cell_type": "markdown",
      "source": [
        "String Palindrome\n",
        "Write a Python program to check whether a String is Palindrome or not?"
      ],
      "metadata": {
        "id": "kokvoVt84k_3"
      }
    },
    {
      "cell_type": "code",
      "source": [
        "string = input()                              #Take input\n",
        "string1 = string[::-1]                        #Reverse the string\n",
        "if string == string1:                         #Check if both are equal\n",
        "  print(\"String is palindrome\")               #If true then print this output\n",
        "else:\n",
        "  print(\"String is not palindrome\")           #If false then print this output"
      ],
      "metadata": {
        "colab": {
          "base_uri": "https://localhost:8080/"
        },
        "id": "VPkSc2BJ4sTX",
        "outputId": "9a67981e-dfdd-462b-cf6e-04e08af5aac1"
      },
      "execution_count": null,
      "outputs": [
        {
          "output_type": "stream",
          "name": "stdout",
          "text": [
            "madam\n",
            "String is palindrome\n"
          ]
        }
      ]
    },
    {
      "cell_type": "markdown",
      "source": [
        "Find items starts with char.\n",
        "Write a Python program to find the items starts with specific character from a given list."
      ],
      "metadata": {
        "id": "8t1zOzdw6T5Y"
      }
    },
    {
      "cell_type": "code",
      "source": [
        "#take a list as an input\n",
        "text = eval(input())\n",
        "char = input()\n",
        "print([i for i in text if i.startswith(char)])"
      ],
      "metadata": {
        "colab": {
          "base_uri": "https://localhost:8080/"
        },
        "id": "kOgKaER86W-J",
        "outputId": "fd046121-0712-498b-9f67-594d01d28b5c"
      },
      "execution_count": null,
      "outputs": [
        {
          "output_type": "stream",
          "name": "stdout",
          "text": [
            "['abcd', 'abc', 'bcd', 'bkie', 'cder', 'cdsw', 'sdfsd', 'dagfa', 'acjd']\n",
            "b\n",
            "['bcd', 'bkie']\n"
          ]
        }
      ]
    },
    {
      "cell_type": "markdown",
      "source": [
        "Difference between two lists\n",
        "Write a Python program to compute the difference between two lists."
      ],
      "metadata": {
        "id": "Orhei2foAQTi"
      }
    },
    {
      "cell_type": "code",
      "source": [
        "L1 = eval(input())\n",
        "L2 = eval(input())\n",
        "L3 = list(set(L1)-set(L2))\n",
        "L4 = list(set(L2)-set(L1))\n",
        "print(f\"L1-L2={L3}\")\n",
        "print(f\"L2-L1={L4}\")"
      ],
      "metadata": {
        "colab": {
          "base_uri": "https://localhost:8080/"
        },
        "id": "QBKE3F4gARbH",
        "outputId": "5d811ba6-084c-48a7-dc18-1ae96ab6467a"
      },
      "execution_count": null,
      "outputs": [
        {
          "output_type": "stream",
          "name": "stdout",
          "text": [
            "[\"red\", \"orange\", \"green\", \"blue\", \"white\"]\n",
            "[\"black\", \"yellow\", \"green\", \"blue\"]\n",
            "L1-L2=['red', 'orange', 'white']\n",
            "L2-L1=['yellow', 'black']\n"
          ]
        }
      ]
    },
    {
      "cell_type": "code",
      "source": [
        "L1 = eval(input())\n",
        "L2 = eval(input())\n",
        "L3 = sorted(list(set(L1)-set(L2)))\n",
        "L4 = sorted(list(set(L2)-set(L1)))\n",
        "print(f\"L1-L2={L3}\")\n",
        "print(f\"L2-L1={L4}\")"
      ],
      "metadata": {
        "colab": {
          "base_uri": "https://localhost:8080/"
        },
        "id": "qw1HXZa7ATTP",
        "outputId": "161ea151-1c76-4c9a-dcb6-c5f7a8bdcb30"
      },
      "execution_count": null,
      "outputs": [
        {
          "output_type": "stream",
          "name": "stdout",
          "text": [
            "[\"red\", \"orange\", \"green\", \"blue\", \"white\"]\n",
            "[\"black\", \"yellow\", \"green\", \"blue\"]\n",
            "L1-L2=['orange', 'red', 'white']\n",
            "L2-L1=['black', 'yellow']\n"
          ]
        }
      ]
    },
    {
      "cell_type": "code",
      "source": [
        "int('1')"
      ],
      "metadata": {
        "id": "-vvQFZDYA51q",
        "colab": {
          "base_uri": "https://localhost:8080/"
        },
        "outputId": "5bd2ffc7-9a03-4ad2-f72f-6d0a6bf85928"
      },
      "execution_count": null,
      "outputs": [
        {
          "output_type": "execute_result",
          "data": {
            "text/plain": [
              "1"
            ]
          },
          "metadata": {},
          "execution_count": 2
        }
      ]
    },
    {
      "cell_type": "code",
      "source": [
        "float('1')"
      ],
      "metadata": {
        "colab": {
          "base_uri": "https://localhost:8080/"
        },
        "id": "GCOAMKtBQ4o6",
        "outputId": "efd3c1ee-45a7-4d72-e361-3f0769e43f9b"
      },
      "execution_count": null,
      "outputs": [
        {
          "output_type": "execute_result",
          "data": {
            "text/plain": [
              "1.0"
            ]
          },
          "metadata": {},
          "execution_count": 3
        }
      ]
    },
    {
      "cell_type": "code",
      "source": [
        "int('011', 16)"
      ],
      "metadata": {
        "colab": {
          "base_uri": "https://localhost:8080/"
        },
        "id": "iXZ4_yugRG_y",
        "outputId": "77413257-d655-43bc-b3f6-a16231acf268"
      },
      "execution_count": null,
      "outputs": [
        {
          "output_type": "execute_result",
          "data": {
            "text/plain": [
              "17"
            ]
          },
          "metadata": {},
          "execution_count": 16
        }
      ]
    },
    {
      "cell_type": "code",
      "source": [
        "#Define the string\n",
        "string_number = \"123\"\n",
        "\n",
        "# Convert the string to a number\n",
        "number = eval(string_number)\n",
        "\n",
        "number1 = float(string_number)\n",
        "\n",
        "# Print the number\n",
        "print(number)\n",
        "print(type(number))\n",
        "print(number1)\n",
        "print(type(number1))"
      ],
      "metadata": {
        "colab": {
          "base_uri": "https://localhost:8080/"
        },
        "id": "QW3yBoinRNVV",
        "outputId": "f29c77fd-ecbc-4e3e-a0c9-06ce8f9b059d"
      },
      "execution_count": null,
      "outputs": [
        {
          "output_type": "stream",
          "name": "stdout",
          "text": [
            "123\n",
            "<class 'int'>\n",
            "123.0\n",
            "<class 'float'>\n"
          ]
        }
      ]
    },
    {
      "cell_type": "code",
      "source": [
        "def count_character_frequency(input_string):\n",
        "  char_frequency = {}\n",
        "  for char in input_string.lower():\n",
        "    if char in char_frequency:\n",
        "      char_frequency[char] += 1\n",
        "    else:\n",
        "      char_frequency[char] = 1\n",
        "  return char_frequency"
      ],
      "metadata": {
        "id": "aX50wFtGTU-F"
      },
      "execution_count": null,
      "outputs": []
    },
    {
      "cell_type": "code",
      "source": [
        "input_string = input()\n",
        "frequency = count_character_frequency(input_string)\n",
        "print(frequency)"
      ],
      "metadata": {
        "colab": {
          "base_uri": "https://localhost:8080/"
        },
        "id": "ABXN38Zkqkwd",
        "outputId": "1fb26672-d70c-466a-b44b-04f3596dbc47"
      },
      "execution_count": null,
      "outputs": [
        {
          "output_type": "stream",
          "name": "stdout",
          "text": [
            "AlmaBetter\n",
            "{'a': 2, 'l': 1, 'm': 1, 'b': 1, 'e': 2, 't': 2, 'r': 1}\n"
          ]
        }
      ]
    },
    {
      "cell_type": "code",
      "source": [
        "str1 = \"I am A Coder.\"\n",
        "print(str1.endswith(\"er.\"))\n",
        "print(str1.capitalize())\n",
        "print(str1.count(\"am\"))\n",
        "print(str1.find(\"am\"))\n",
        "print(str1.replace(\"am\", \"was\"))"
      ],
      "metadata": {
        "id": "vzSodzs6qxck",
        "colab": {
          "base_uri": "https://localhost:8080/"
        },
        "outputId": "e8674d17-1194-4a4f-999d-7fb304978f78"
      },
      "execution_count": null,
      "outputs": [
        {
          "output_type": "stream",
          "name": "stdout",
          "text": [
            "True\n",
            "I am a coder.\n",
            "1\n",
            "2\n",
            "I was A Coder.\n"
          ]
        }
      ]
    },
    {
      "cell_type": "code",
      "source": [
        "first_name = input()\n",
        "print(len(first_name))"
      ],
      "metadata": {
        "colab": {
          "base_uri": "https://localhost:8080/"
        },
        "id": "beTG2Hk5X07G",
        "outputId": "01c48cf2-3a67-4201-aa51-96a36630fb9c"
      },
      "execution_count": null,
      "outputs": [
        {
          "output_type": "stream",
          "name": "stdout",
          "text": [
            "Nehagupta\n",
            "9\n"
          ]
        }
      ]
    },
    {
      "cell_type": "code",
      "source": [
        "check_occ = input()\n",
        "print(check_occ.count('$'))"
      ],
      "metadata": {
        "colab": {
          "base_uri": "https://localhost:8080/"
        },
        "id": "Y4o5uxPhYddb",
        "outputId": "3ae3dd70-5f4b-4975-ed64-7c932a48f21b"
      },
      "execution_count": null,
      "outputs": [
        {
          "output_type": "stream",
          "name": "stdout",
          "text": [
            "$Myname$$is$neh$a\n",
            "5\n"
          ]
        }
      ]
    },
    {
      "cell_type": "code",
      "source": [
        "age = int(input())\n",
        "if(age >= 21):\n",
        "  print(\"You are eligible to vote\")\n",
        "else:\n",
        "  print(\"You are not eligible to vote\")"
      ],
      "metadata": {
        "colab": {
          "base_uri": "https://localhost:8080/"
        },
        "id": "7Hzzpli-Yr7Z",
        "outputId": "70aa4c9e-2e4e-4b30-9311-be0c4fe75f26"
      },
      "execution_count": null,
      "outputs": [
        {
          "output_type": "stream",
          "name": "stdout",
          "text": [
            "16\n",
            "You are not eligible to vote\n"
          ]
        }
      ]
    },
    {
      "cell_type": "code",
      "source": [
        "number = int(input())\n",
        "if (number % 2 == 0):\n",
        "  print(\"Even\")\n",
        "else:\n",
        "  print(\"Odd\")"
      ],
      "metadata": {
        "colab": {
          "base_uri": "https://localhost:8080/"
        },
        "id": "Pax9FEwhaSwU",
        "outputId": "07858ee5-5672-41b5-df6b-b7e128807286"
      },
      "execution_count": null,
      "outputs": [
        {
          "output_type": "stream",
          "name": "stdout",
          "text": [
            "16\n",
            "Even\n"
          ]
        }
      ]
    },
    {
      "cell_type": "code",
      "source": [
        "a = int(input())\n",
        "b = int(input())\n",
        "c = int(input())\n",
        "if(a > c) and (a > b):\n",
        "  print(a)\n",
        "elif(b > a) and (b > c):\n",
        "  print(b)\n",
        "else:\n",
        "  print(c)"
      ],
      "metadata": {
        "colab": {
          "base_uri": "https://localhost:8080/"
        },
        "id": "IauqbeEsbt5_",
        "outputId": "74d5c60c-2b63-4d67-d6fe-30f17e5192c3"
      },
      "execution_count": null,
      "outputs": [
        {
          "output_type": "stream",
          "name": "stdout",
          "text": [
            "5\n",
            "7\n",
            "8\n",
            "8\n"
          ]
        }
      ]
    },
    {
      "cell_type": "code",
      "source": [
        "number = int(input())\n",
        "if (number % 7 == 0):\n",
        "  print(\"It is multiple of 7\")\n",
        "else:\n",
        "  print(\"It's not multiple of 7\")\n"
      ],
      "metadata": {
        "colab": {
          "base_uri": "https://localhost:8080/"
        },
        "id": "erWvANO6bxOO",
        "outputId": "2f472c2e-edb5-48db-f7d8-f40c72fd54ca"
      },
      "execution_count": null,
      "outputs": [
        {
          "output_type": "stream",
          "name": "stdout",
          "text": [
            "20\n",
            "It's not multiple of 7\n"
          ]
        }
      ]
    },
    {
      "cell_type": "code",
      "source": [
        "marks1 = 94.4\n",
        "marks2 = 87.5\n",
        "marks3 = 95.2\n",
        "marks4 = 66.4\n",
        "marks5 = 45.1\n",
        "\n",
        "marks = [marks1, marks2, marks3, marks4, marks5]\n",
        "print(marks)"
      ],
      "metadata": {
        "colab": {
          "base_uri": "https://localhost:8080/"
        },
        "id": "sHiTQ8Y1csnO",
        "outputId": "32db6a8a-d4ef-4dae-d2c1-057a65ccb395"
      },
      "execution_count": null,
      "outputs": [
        {
          "output_type": "stream",
          "name": "stdout",
          "text": [
            "[94.4, 87.5, 95.2, 66.4, 45.1]\n"
          ]
        }
      ]
    },
    {
      "cell_type": "code",
      "source": [
        "str1 = \"Shalu\"\n",
        "print(str1[0])"
      ],
      "metadata": {
        "colab": {
          "base_uri": "https://localhost:8080/"
        },
        "id": "qitdcztIeBt0",
        "outputId": "67c05ddb-77a5-437c-d26f-8461a3e9dfb0"
      },
      "execution_count": null,
      "outputs": [
        {
          "output_type": "stream",
          "name": "stdout",
          "text": [
            "S\n"
          ]
        }
      ]
    },
    {
      "cell_type": "code",
      "source": [
        "list = [2, 1, 3]\n",
        "#list.append(4)\n",
        "#print(list)\n",
        "#list.sort()\n",
        "#print(list)\n",
        "#list.sort(reverse=True)\n",
        "#print(list)\n",
        "list.reverse()\n",
        "print(list)\n",
        "list.insert(2, 5)\n",
        "print(list)\n",
        "list.remove(1)\n",
        "print(list)\n",
        "list.pop(2)\n",
        "print(list)\n",
        "list.clear()\n",
        "print(list)"
      ],
      "metadata": {
        "colab": {
          "base_uri": "https://localhost:8080/"
        },
        "id": "omGh8T0wfHE1",
        "outputId": "815ec796-1351-48ae-b4c0-85e10431fb0d"
      },
      "execution_count": null,
      "outputs": [
        {
          "output_type": "stream",
          "name": "stdout",
          "text": [
            "[3, 1, 2]\n",
            "[3, 1, 5, 2]\n",
            "[3, 5, 2]\n",
            "[3, 5]\n",
            "[]\n"
          ]
        }
      ]
    },
    {
      "cell_type": "code",
      "source": [
        "tup = (2,1,3,1)\n",
        "print(tup.index(3))   #returns index of first occurrence\n",
        "print(tup.count(2))   #returns count of given element\n"
      ],
      "metadata": {
        "colab": {
          "base_uri": "https://localhost:8080/"
        },
        "id": "TsyMOF1Ifp6M",
        "outputId": "cbe70df8-08ad-4abf-e42a-d87ec114b746"
      },
      "execution_count": null,
      "outputs": [
        {
          "output_type": "stream",
          "name": "stdout",
          "text": [
            "2\n",
            "1\n"
          ]
        }
      ]
    },
    {
      "cell_type": "code",
      "source": [
        "movies = []\n",
        "mov1 = input(\"enter first movie: \")\n",
        "mov2 = input(\"enter second movie: \")\n",
        "mov3 = input(\"enter third movie: \")\n",
        "\n",
        "movies.append(mov1)\n",
        "movies.append(mov2)\n",
        "movies.append(mov3)\n",
        "print(movies)\n"
      ],
      "metadata": {
        "colab": {
          "base_uri": "https://localhost:8080/"
        },
        "id": "W2eEqB4vi2kC",
        "outputId": "8ece5457-dc16-4bc5-b70c-7eb595d85315"
      },
      "execution_count": null,
      "outputs": [
        {
          "output_type": "stream",
          "name": "stdout",
          "text": [
            "enter first movie: Hitler\n",
            "enter second movie: harry potter\n",
            "enter third movie: iron man\n",
            "['Hitler', 'harry potter', 'iron man']\n"
          ]
        }
      ]
    },
    {
      "cell_type": "code",
      "source": [
        "movies = eval(input())\n",
        "print(movies)"
      ],
      "metadata": {
        "colab": {
          "base_uri": "https://localhost:8080/"
        },
        "id": "NiSmMlqWkP_Q",
        "outputId": "223084ea-30be-4810-b5e0-ccf2b7b252d0"
      },
      "execution_count": null,
      "outputs": [
        {
          "output_type": "stream",
          "name": "stdout",
          "text": [
            "['Hitler', 'harry potter', 'iron man']\n",
            "['Hitler', 'harry potter', 'iron man']\n"
          ]
        }
      ]
    },
    {
      "cell_type": "code",
      "source": [
        "lis1 = [1,2,3]\n",
        "lis2 = [4,5,6]\n",
        "lis1.extend(lis2)\n",
        "print(lis1)"
      ],
      "metadata": {
        "colab": {
          "base_uri": "https://localhost:8080/"
        },
        "id": "WAPDPMNIkajc",
        "outputId": "72fd8800-4fd0-476f-ff6b-c90c83721d47"
      },
      "execution_count": null,
      "outputs": [
        {
          "output_type": "stream",
          "name": "stdout",
          "text": [
            "[1, 2, 3, 4, 5, 6]\n"
          ]
        }
      ]
    },
    {
      "cell_type": "code",
      "source": [
        "lis1 = [1,2,3,2,1]\n",
        "\n",
        "copylis1=lis1.copy()\n",
        "copylis1.reverse()\n",
        "\n",
        "if (copylis1 == lis1):\n",
        "  print(\"Palindrome\")\n",
        "else:\n",
        "  print(\"Not Palindrome\")"
      ],
      "metadata": {
        "colab": {
          "base_uri": "https://localhost:8080/"
        },
        "id": "f6UoXROIk3Wb",
        "outputId": "61ef5aa3-f8aa-4a3d-887d-a53181b2e19a"
      },
      "execution_count": null,
      "outputs": [
        {
          "output_type": "stream",
          "name": "stdout",
          "text": [
            "Palindrome\n"
          ]
        }
      ]
    },
    {
      "cell_type": "code",
      "source": [
        "str1 = \"ma'am\"\n",
        "str1[::-1]\n",
        "if (str1[::-1] == str1):\n",
        "  print(\"Palindrome\")\n",
        "else:\n",
        "  print(\"Not Palindrome\")"
      ],
      "metadata": {
        "colab": {
          "base_uri": "https://localhost:8080/"
        },
        "id": "HV2l9shGluLs",
        "outputId": "e63beff7-eb4c-47d0-f966-0eafc2e43194"
      },
      "execution_count": null,
      "outputs": [
        {
          "output_type": "stream",
          "name": "stdout",
          "text": [
            "Palindrome\n"
          ]
        }
      ]
    },
    {
      "cell_type": "code",
      "source": [
        "grade = (\"C\", \"D\", \"A\", \"A\", \"B\", \"B\", \"A\")\n",
        "print(grade.count(\"A\"))\n",
        "print(grade.index(\"A\"))\n"
      ],
      "metadata": {
        "colab": {
          "base_uri": "https://localhost:8080/"
        },
        "id": "pw6yPmH0o7kn",
        "outputId": "69f737be-332f-468b-a067-7b20917c60d2"
      },
      "execution_count": null,
      "outputs": [
        {
          "output_type": "stream",
          "name": "stdout",
          "text": [
            "3\n",
            "2\n"
          ]
        }
      ]
    },
    {
      "cell_type": "code",
      "source": [
        "grade = [\"C\", \"D\", \"A\", \"A\", \"B\", \"B\", \"A\"]\n",
        "grade.sort()\n",
        "print(grade)"
      ],
      "metadata": {
        "colab": {
          "base_uri": "https://localhost:8080/"
        },
        "id": "FhQZct_8p2U8",
        "outputId": "ce12c809-1adf-4ff8-fba2-94eebe4d699c"
      },
      "execution_count": null,
      "outputs": [
        {
          "output_type": "stream",
          "name": "stdout",
          "text": [
            "['A', 'A', 'A', 'B', 'B', 'C', 'D']\n"
          ]
        }
      ]
    },
    {
      "cell_type": "code",
      "source": [
        "student = {\n",
        "    \"name\" : \"rahul kumar\",\n",
        "    \"subjects\" : {\n",
        "        \"phy\" : 97,\n",
        "        \"chem\" : 98,\n",
        "        \"math\" : 95\n",
        "    }\n",
        "}\n",
        "\n",
        "print(student[\"subjects\"][\"chem\"])"
      ],
      "metadata": {
        "id": "yQttpuvbq0Zf",
        "colab": {
          "base_uri": "https://localhost:8080/"
        },
        "outputId": "d1b7d013-7f5d-464b-d139-3f6e064c3efa"
      },
      "execution_count": null,
      "outputs": [
        {
          "output_type": "stream",
          "name": "stdout",
          "text": [
            "98\n"
          ]
        }
      ]
    },
    {
      "cell_type": "code",
      "source": [
        "print(student.keys())   #to access keys in dictionary"
      ],
      "metadata": {
        "colab": {
          "base_uri": "https://localhost:8080/"
        },
        "id": "fojpaGmLXm_e",
        "outputId": "867a818d-93c3-4004-8f58-970eb212b078"
      },
      "execution_count": null,
      "outputs": [
        {
          "output_type": "stream",
          "name": "stdout",
          "text": [
            "dict_keys(['name', 'subjects'])\n"
          ]
        }
      ]
    },
    {
      "cell_type": "code",
      "source": [
        "print(list(student.keys()))  #type casting into list"
      ],
      "metadata": {
        "colab": {
          "base_uri": "https://localhost:8080/"
        },
        "id": "ZtNRbDFvWfAf",
        "outputId": "89dfca73-8660-4f3b-b77d-f5bbfa543bdc"
      },
      "execution_count": null,
      "outputs": [
        {
          "output_type": "stream",
          "name": "stdout",
          "text": [
            "['name', 'subjects']\n"
          ]
        }
      ]
    },
    {
      "cell_type": "code",
      "source": [
        "print(len(student))"
      ],
      "metadata": {
        "colab": {
          "base_uri": "https://localhost:8080/"
        },
        "id": "KxYrYDAGXz78",
        "outputId": "914d7700-787e-41e4-ff5d-6503a4ed5c90"
      },
      "execution_count": null,
      "outputs": [
        {
          "output_type": "stream",
          "name": "stdout",
          "text": [
            "2\n"
          ]
        }
      ]
    },
    {
      "cell_type": "code",
      "source": [
        "print(student.values())"
      ],
      "metadata": {
        "colab": {
          "base_uri": "https://localhost:8080/"
        },
        "id": "wXbsscIOXO8M",
        "outputId": "d9e7f85c-18a8-4081-95ea-8f1e7ede408d"
      },
      "execution_count": null,
      "outputs": [
        {
          "output_type": "stream",
          "name": "stdout",
          "text": [
            "dict_values(['rahul kumar', {'phy': 97, 'chem': 98, 'math': 95}])\n"
          ]
        }
      ]
    },
    {
      "cell_type": "code",
      "source": [
        "print(list(student.values()))"
      ],
      "metadata": {
        "colab": {
          "base_uri": "https://localhost:8080/"
        },
        "id": "NOApfcHLXXK8",
        "outputId": "e8afd9d4-be7f-4b1e-846e-f472c85e8d44"
      },
      "execution_count": null,
      "outputs": [
        {
          "output_type": "stream",
          "name": "stdout",
          "text": [
            "['rahul kumar', {'phy': 97, 'chem': 98, 'math': 95}]\n"
          ]
        }
      ]
    },
    {
      "cell_type": "code",
      "source": [
        "print(student.items())"
      ],
      "metadata": {
        "colab": {
          "base_uri": "https://localhost:8080/"
        },
        "id": "JzP_5m_wYKaR",
        "outputId": "6479efdd-fc7a-463b-a256-fcd5d628877f"
      },
      "execution_count": null,
      "outputs": [
        {
          "output_type": "stream",
          "name": "stdout",
          "text": [
            "dict_items([('name', 'rahul kumar'), ('subjects', {'phy': 97, 'chem': 98, 'math': 95})])\n"
          ]
        }
      ]
    },
    {
      "cell_type": "code",
      "source": [
        "student.get(\"name\")"
      ],
      "metadata": {
        "colab": {
          "base_uri": "https://localhost:8080/",
          "height": 35
        },
        "id": "Fzy_qFodYQTz",
        "outputId": "b19004e1-1062-4e53-9729-e8f61a08ffee"
      },
      "execution_count": null,
      "outputs": [
        {
          "output_type": "execute_result",
          "data": {
            "text/plain": [
              "'rahul kumar'"
            ],
            "application/vnd.google.colaboratory.intrinsic+json": {
              "type": "string"
            }
          },
          "metadata": {},
          "execution_count": 17
        }
      ]
    },
    {
      "cell_type": "code",
      "source": [
        "new_dict = {\"name\" : \"Neha\", \"city\" : \"saharanpur\"}\n",
        "student.update(new_dict)\n",
        "print(student)"
      ],
      "metadata": {
        "colab": {
          "base_uri": "https://localhost:8080/"
        },
        "id": "ZajpK9YbY1v_",
        "outputId": "60a76230-ae1c-4df0-d460-2b7683e4fbfe"
      },
      "execution_count": null,
      "outputs": [
        {
          "output_type": "stream",
          "name": "stdout",
          "text": [
            "{'name': 'Neha', 'subjects': {'phy': 97, 'chem': 98, 'math': 95}, 'city': 'saharanpur'}\n"
          ]
        }
      ]
    },
    {
      "cell_type": "code",
      "source": [
        "nums = {1,2,3,4}\n",
        "set2 = {1,2,2,2}\n",
        "null_set = set()\n",
        "print(nums)\n",
        "print(set2)\n",
        "print(null_set)"
      ],
      "metadata": {
        "colab": {
          "base_uri": "https://localhost:8080/"
        },
        "id": "m5ltXYxRuiHT",
        "outputId": "b366bfdc-c0be-41a0-8f3e-47c077352e0d"
      },
      "execution_count": null,
      "outputs": [
        {
          "output_type": "stream",
          "name": "stdout",
          "text": [
            "{1, 2, 3, 4}\n",
            "{1, 2}\n",
            "set()\n"
          ]
        }
      ]
    },
    {
      "cell_type": "code",
      "source": [
        "nums.add(5)"
      ],
      "metadata": {
        "id": "pBiPR_5E0IEs"
      },
      "execution_count": null,
      "outputs": []
    },
    {
      "cell_type": "code",
      "source": [
        "nums"
      ],
      "metadata": {
        "colab": {
          "base_uri": "https://localhost:8080/"
        },
        "id": "r46zUojq1nsG",
        "outputId": "e1f8e5ff-948d-4bab-88fa-f3c9257387ed"
      },
      "execution_count": null,
      "outputs": [
        {
          "output_type": "execute_result",
          "data": {
            "text/plain": [
              "{1, 2, 3, 4, 5}"
            ]
          },
          "metadata": {},
          "execution_count": 27
        }
      ]
    },
    {
      "cell_type": "code",
      "source": [
        "nums.remove(1)"
      ],
      "metadata": {
        "id": "6EPaqwIr1iWR"
      },
      "execution_count": null,
      "outputs": []
    },
    {
      "cell_type": "code",
      "source": [
        "nums"
      ],
      "metadata": {
        "colab": {
          "base_uri": "https://localhost:8080/"
        },
        "id": "EMHX7IxT1sUC",
        "outputId": "0916b575-5bd6-4e8e-ff0c-e794e0847e25"
      },
      "execution_count": null,
      "outputs": [
        {
          "output_type": "execute_result",
          "data": {
            "text/plain": [
              "{2, 3, 4, 5}"
            ]
          },
          "metadata": {},
          "execution_count": 29
        }
      ]
    },
    {
      "cell_type": "code",
      "source": [
        "nums.clear()"
      ],
      "metadata": {
        "id": "Dg8mE12T1tCe"
      },
      "execution_count": null,
      "outputs": []
    },
    {
      "cell_type": "code",
      "source": [
        "nums"
      ],
      "metadata": {
        "colab": {
          "base_uri": "https://localhost:8080/"
        },
        "id": "E50YpMcG1wIP",
        "outputId": "fcf2505f-c0f9-47da-cc3a-de3fe2f4ebb7"
      },
      "execution_count": null,
      "outputs": [
        {
          "output_type": "execute_result",
          "data": {
            "text/plain": [
              "set()"
            ]
          },
          "metadata": {},
          "execution_count": 31
        }
      ]
    },
    {
      "cell_type": "code",
      "source": [
        "set2.pop()"
      ],
      "metadata": {
        "colab": {
          "base_uri": "https://localhost:8080/"
        },
        "id": "lgXVRUyg1w-F",
        "outputId": "226fd3f4-09bc-4ae1-8034-63715a2eabbc"
      },
      "execution_count": null,
      "outputs": [
        {
          "output_type": "execute_result",
          "data": {
            "text/plain": [
              "1"
            ]
          },
          "metadata": {},
          "execution_count": 32
        }
      ]
    },
    {
      "cell_type": "code",
      "source": [
        "set2"
      ],
      "metadata": {
        "colab": {
          "base_uri": "https://localhost:8080/"
        },
        "id": "wee3wITt13hR",
        "outputId": "a7a069bb-a655-4d6d-8f45-de8aaff3418f"
      },
      "execution_count": null,
      "outputs": [
        {
          "output_type": "execute_result",
          "data": {
            "text/plain": [
              "{2}"
            ]
          },
          "metadata": {},
          "execution_count": 33
        }
      ]
    },
    {
      "cell_type": "code",
      "source": [
        "collection = {\"hello\", \"apancollege\", \"world\", \"coding\", \"python\"}\n",
        "print(collection.pop() + \" \" + collection.pop())"
      ],
      "metadata": {
        "colab": {
          "base_uri": "https://localhost:8080/"
        },
        "id": "2QLWarmw14zX",
        "outputId": "e807b69c-fa2d-4310-fcb6-ec961d5197d7"
      },
      "execution_count": null,
      "outputs": [
        {
          "output_type": "stream",
          "name": "stdout",
          "text": [
            "hello apancollege\n"
          ]
        }
      ]
    },
    {
      "cell_type": "code",
      "source": [
        "print(collection.pop())"
      ],
      "metadata": {
        "colab": {
          "base_uri": "https://localhost:8080/"
        },
        "id": "hsl67Vaq4hYR",
        "outputId": "968c1c4b-aa88-4278-f40f-2016c12eea43"
      },
      "execution_count": null,
      "outputs": [
        {
          "output_type": "stream",
          "name": "stdout",
          "text": [
            "coding\n"
          ]
        }
      ]
    },
    {
      "cell_type": "code",
      "source": [
        "collection"
      ],
      "metadata": {
        "colab": {
          "base_uri": "https://localhost:8080/"
        },
        "id": "0sWK9zyv4ntK",
        "outputId": "2e8904c0-3ded-4c05-9800-01b877bf28f3"
      },
      "execution_count": null,
      "outputs": [
        {
          "output_type": "execute_result",
          "data": {
            "text/plain": [
              "{'python', 'world'}"
            ]
          },
          "metadata": {},
          "execution_count": 44
        }
      ]
    },
    {
      "cell_type": "code",
      "source": [
        "dic = {}\n",
        "dic[\"table\"] = [\"a piece of furniture\", \"lists of facts & figures\"]"
      ],
      "metadata": {
        "id": "ioVbBUUW4pe_"
      },
      "execution_count": null,
      "outputs": []
    },
    {
      "cell_type": "code",
      "source": [
        "dic"
      ],
      "metadata": {
        "colab": {
          "base_uri": "https://localhost:8080/"
        },
        "id": "bu0rtkpc5yUC",
        "outputId": "09c86ef5-9065-41ea-bcb6-c27484b7ab38"
      },
      "execution_count": null,
      "outputs": [
        {
          "output_type": "execute_result",
          "data": {
            "text/plain": [
              "{'table': ['a piece of furniture', 'lists of facts & figures']}"
            ]
          },
          "metadata": {},
          "execution_count": 50
        }
      ]
    },
    {
      "cell_type": "code",
      "source": [
        "dic[\"cat\"] = \"a small animal\"\n",
        "dic"
      ],
      "metadata": {
        "colab": {
          "base_uri": "https://localhost:8080/"
        },
        "id": "2fqFVupP55Bn",
        "outputId": "bdbade2e-e349-4318-9073-8a372ff376a5"
      },
      "execution_count": null,
      "outputs": [
        {
          "output_type": "execute_result",
          "data": {
            "text/plain": [
              "{'table': ['a piece of furniture', 'lists of facts & figures'],\n",
              " 'cat': 'a small animal'}"
            ]
          },
          "metadata": {},
          "execution_count": 51
        }
      ]
    },
    {
      "cell_type": "code",
      "source": [
        "lis1 = [\"python\", \"java\", \"C++\", \"python\", \"javascript\", \"java\", \"python\", \"java\", \"C++\", \"C\"]\n",
        "set1 = set(lis1)\n",
        "len(set1)"
      ],
      "metadata": {
        "colab": {
          "base_uri": "https://localhost:8080/"
        },
        "id": "n_kmGZiP6AMK",
        "outputId": "f6c67714-a144-4262-a3b2-775b840e5bb9"
      },
      "execution_count": null,
      "outputs": [
        {
          "output_type": "execute_result",
          "data": {
            "text/plain": [
              "5"
            ]
          },
          "metadata": {},
          "execution_count": 56
        }
      ]
    },
    {
      "cell_type": "code",
      "source": [
        "age_str = input(\"Enter your age: \")\n",
        "age_int = int(age_str)\n",
        "print(\"You will be \" + str(age_int+1)+ \" in next year\")"
      ],
      "metadata": {
        "id": "hv7Q3Y2f62sH",
        "colab": {
          "base_uri": "https://localhost:8080/"
        },
        "outputId": "72987322-77ca-4319-bfd7-067b636c3b69"
      },
      "execution_count": null,
      "outputs": [
        {
          "output_type": "stream",
          "name": "stdout",
          "text": [
            "Enter your age: 33\n",
            "You will be 34 in next year\n"
          ]
        }
      ]
    },
    {
      "cell_type": "code",
      "source": [
        "# Measure some strings:\n",
        "words = ['cat', 'window', 'defenestrate']\n",
        "for w in words:\n",
        "    print(w,\":\",len(w))"
      ],
      "metadata": {
        "colab": {
          "base_uri": "https://localhost:8080/"
        },
        "id": "S2OuH9GPgLgj",
        "outputId": "a5c18759-caa6-49f6-afc8-c1ce4ad055c9"
      },
      "execution_count": null,
      "outputs": [
        {
          "output_type": "stream",
          "name": "stdout",
          "text": [
            "cat : 3\n",
            "window : 6\n",
            "defenestrate : 12\n"
          ]
        }
      ]
    },
    {
      "cell_type": "code",
      "source": [
        "# Create a sample collection\n",
        "users = {'Hans': 'active', 'Éléonore': 'inactive', '景太郎': 'active'}\n",
        "\n",
        "# Strategy:  Iterate over a copy\n",
        "for user, status in users.copy().items():\n",
        "    if status == 'inactive':\n",
        "        del users[user]\n",
        "\n",
        "# Strategy:  Create a new collection\n",
        "active_users = {}\n",
        "for user, status in users.items():\n",
        "    if status == 'active':\n",
        "        active_users[user] = status\n",
        "\n",
        "print(active_users)"
      ],
      "metadata": {
        "colab": {
          "base_uri": "https://localhost:8080/"
        },
        "id": "WHJPoJFUhGre",
        "outputId": "5cec1142-18fe-4c17-b3cf-c9fd5a51904e"
      },
      "execution_count": null,
      "outputs": [
        {
          "output_type": "stream",
          "name": "stdout",
          "text": [
            "{'Hans': 'active', '景太郎': 'active'}\n"
          ]
        }
      ]
    },
    {
      "cell_type": "code",
      "source": [
        "list(range(5,10))"
      ],
      "metadata": {
        "colab": {
          "base_uri": "https://localhost:8080/"
        },
        "id": "8EomZYeGh_GS",
        "outputId": "9390e0b5-2e1a-43c1-e315-8b7553da998e"
      },
      "execution_count": null,
      "outputs": [
        {
          "output_type": "execute_result",
          "data": {
            "text/plain": [
              "[5, 6, 7, 8, 9]"
            ]
          },
          "metadata": {},
          "execution_count": 14
        }
      ]
    },
    {
      "cell_type": "code",
      "source": [
        "list(range(0, 10, 3))"
      ],
      "metadata": {
        "colab": {
          "base_uri": "https://localhost:8080/"
        },
        "id": "HvJlIcFOjPq4",
        "outputId": "6f733869-db36-45db-c85f-76734e448403"
      },
      "execution_count": null,
      "outputs": [
        {
          "output_type": "execute_result",
          "data": {
            "text/plain": [
              "[0, 3, 6, 9]"
            ]
          },
          "metadata": {},
          "execution_count": 15
        }
      ]
    },
    {
      "cell_type": "code",
      "source": [
        "list(range(-10, -100, -30))"
      ],
      "metadata": {
        "colab": {
          "base_uri": "https://localhost:8080/"
        },
        "id": "DFbiLRhljUkl",
        "outputId": "dbe80757-6675-4689-bc8f-90ddf6908a01"
      },
      "execution_count": null,
      "outputs": [
        {
          "output_type": "execute_result",
          "data": {
            "text/plain": [
              "[-10, -40, -70]"
            ]
          },
          "metadata": {},
          "execution_count": 16
        }
      ]
    },
    {
      "cell_type": "code",
      "source": [
        "a = ['Mary', 'had', 'a', 'little', 'lamb']\n",
        "for i in range(len(a)):\n",
        "  print(i,\":\",a[i])"
      ],
      "metadata": {
        "colab": {
          "base_uri": "https://localhost:8080/"
        },
        "id": "MZUMU1_TjXJA",
        "outputId": "1260b127-e578-45e0-cc6f-729dc441d4d0"
      },
      "execution_count": null,
      "outputs": [
        {
          "output_type": "stream",
          "name": "stdout",
          "text": [
            "0 : Mary\n",
            "1 : had\n",
            "2 : a\n",
            "3 : little\n",
            "4 : lamb\n"
          ]
        }
      ]
    },
    {
      "cell_type": "code",
      "source": [
        "range(10)"
      ],
      "metadata": {
        "colab": {
          "base_uri": "https://localhost:8080/"
        },
        "id": "Uzu075oljmJ3",
        "outputId": "fa706b0c-41fb-4ab4-b73b-81926eee45c9"
      },
      "execution_count": null,
      "outputs": [
        {
          "output_type": "execute_result",
          "data": {
            "text/plain": [
              "range(0, 10)"
            ]
          },
          "metadata": {},
          "execution_count": 18
        }
      ]
    },
    {
      "cell_type": "code",
      "source": [
        "sum(range(4))"
      ],
      "metadata": {
        "colab": {
          "base_uri": "https://localhost:8080/"
        },
        "id": "IQ1I8mRmjz-h",
        "outputId": "ffa0b9cb-1a56-47a2-f82c-0b0a8e417b00"
      },
      "execution_count": null,
      "outputs": [
        {
          "output_type": "execute_result",
          "data": {
            "text/plain": [
              "6"
            ]
          },
          "metadata": {},
          "execution_count": 19
        }
      ]
    },
    {
      "cell_type": "code",
      "source": [
        "for n in range(2, 10):\n",
        "  for x in range(2, n):\n",
        "    if n % x == 0:\n",
        "      print(n, 'equals', x, '*', n//x)\n",
        "      break\n",
        "  else:\n",
        "    # loop fell through without finding a factor\n",
        "    print(n, 'is a prime number')"
      ],
      "metadata": {
        "colab": {
          "base_uri": "https://localhost:8080/"
        },
        "id": "gb-jslLBj31m",
        "outputId": "282127c6-25bf-4643-ad65-ec015d500cf5"
      },
      "execution_count": null,
      "outputs": [
        {
          "output_type": "stream",
          "name": "stdout",
          "text": [
            "2 is a prime number\n",
            "3 is a prime number\n",
            "4 equals 2 * 2\n",
            "5 is a prime number\n",
            "6 equals 2 * 3\n",
            "7 is a prime number\n",
            "8 equals 2 * 4\n",
            "9 equals 3 * 3\n"
          ]
        }
      ]
    },
    {
      "cell_type": "code",
      "source": [
        "round(1.45, 1)"
      ],
      "metadata": {
        "colab": {
          "base_uri": "https://localhost:8080/"
        },
        "id": "mfSdyH5PkqYq",
        "outputId": "32e4bba8-5c6b-406e-fb3a-0c7b90e10394"
      },
      "execution_count": null,
      "outputs": [
        {
          "output_type": "execute_result",
          "data": {
            "text/plain": [
              "1.4"
            ]
          },
          "metadata": {},
          "execution_count": 21
        }
      ]
    },
    {
      "cell_type": "code",
      "source": [
        "lis1 = [1,2,3,4,5,6,11,8,9,10]\n",
        "max(lis1)"
      ],
      "metadata": {
        "colab": {
          "base_uri": "https://localhost:8080/"
        },
        "id": "fKBU2ODzmnVz",
        "outputId": "2d11be9f-4320-4d28-9992-a7a4ff03f46d"
      },
      "execution_count": null,
      "outputs": [
        {
          "output_type": "execute_result",
          "data": {
            "text/plain": [
              "11"
            ]
          },
          "metadata": {},
          "execution_count": 23
        }
      ]
    },
    {
      "cell_type": "code",
      "source": [
        "min(lis1)"
      ],
      "metadata": {
        "colab": {
          "base_uri": "https://localhost:8080/"
        },
        "id": "YtkVLLIkmsVO",
        "outputId": "4637d8c8-6b1c-4123-d5eb-d9978103a331"
      },
      "execution_count": null,
      "outputs": [
        {
          "output_type": "execute_result",
          "data": {
            "text/plain": [
              "1"
            ]
          },
          "metadata": {},
          "execution_count": 24
        }
      ]
    },
    {
      "cell_type": "code",
      "source": [
        "abs(-2.4578)"
      ],
      "metadata": {
        "colab": {
          "base_uri": "https://localhost:8080/"
        },
        "id": "ktVWetKPmwF5",
        "outputId": "31e2736c-d9f6-4300-e39b-97d05eb1f8ca"
      },
      "execution_count": null,
      "outputs": [
        {
          "output_type": "execute_result",
          "data": {
            "text/plain": [
              "2.4578"
            ]
          },
          "metadata": {},
          "execution_count": 26
        }
      ]
    },
    {
      "cell_type": "code",
      "source": [
        "sum(lis1)"
      ],
      "metadata": {
        "colab": {
          "base_uri": "https://localhost:8080/"
        },
        "id": "UMkln3PSmzsA",
        "outputId": "2c2e73ce-f14d-40dc-9563-7f466f865f3d"
      },
      "execution_count": null,
      "outputs": [
        {
          "output_type": "execute_result",
          "data": {
            "text/plain": [
              "59"
            ]
          },
          "metadata": {},
          "execution_count": 29
        }
      ]
    },
    {
      "cell_type": "code",
      "source": [
        "str1 = \"surji\"\n",
        "list(str1)"
      ],
      "metadata": {
        "colab": {
          "base_uri": "https://localhost:8080/"
        },
        "id": "FoIo752rnBGH",
        "outputId": "1b0c24e0-54f4-48f2-eb98-5ce2fb925f8a"
      },
      "execution_count": null,
      "outputs": [
        {
          "output_type": "execute_result",
          "data": {
            "text/plain": [
              "['s', 'u', 'r', 'j', 'i']"
            ]
          },
          "metadata": {},
          "execution_count": 30
        }
      ]
    },
    {
      "cell_type": "code",
      "source": [
        "ex = [3, 7, 5, 9, 1]\n",
        "list(enumerate(ex, start=1\n",
        "               ))"
      ],
      "metadata": {
        "colab": {
          "base_uri": "https://localhost:8080/"
        },
        "id": "VUvUfxxPngF_",
        "outputId": "a2c33ba9-71be-4c83-c97c-cc20284f6c29"
      },
      "execution_count": null,
      "outputs": [
        {
          "output_type": "execute_result",
          "data": {
            "text/plain": [
              "[(1, 3), (2, 7), (3, 5), (4, 9), (5, 1)]"
            ]
          },
          "metadata": {},
          "execution_count": 36
        }
      ]
    },
    {
      "cell_type": "code",
      "source": [
        "lis1 = [2,3,5,7]\n",
        "lis2 = ['a','b','c','d']\n",
        "list(zip(lis2, lis1))\n",
        "dict(zip(lis2, lis1))"
      ],
      "metadata": {
        "colab": {
          "base_uri": "https://localhost:8080/"
        },
        "id": "aArSr6QSn9uA",
        "outputId": "7e73cfe0-93e6-48a8-b97d-8f4728c0f1f6"
      },
      "execution_count": null,
      "outputs": [
        {
          "output_type": "execute_result",
          "data": {
            "text/plain": [
              "{'a': 2, 'b': 3, 'c': 5, 'd': 7}"
            ]
          },
          "metadata": {},
          "execution_count": 45
        }
      ]
    },
    {
      "cell_type": "code",
      "source": [
        "eval('[2,3,4,6]')"
      ],
      "metadata": {
        "colab": {
          "base_uri": "https://localhost:8080/"
        },
        "id": "gLg_QtJco5Tj",
        "outputId": "e23d89f5-6e7a-4749-ccc2-2a8f45da789f"
      },
      "execution_count": null,
      "outputs": [
        {
          "output_type": "execute_result",
          "data": {
            "text/plain": [
              "[2, 3, 4, 6]"
            ]
          },
          "metadata": {},
          "execution_count": 46
        }
      ]
    },
    {
      "cell_type": "code",
      "source": [
        "eval(\"print('hello')\")"
      ],
      "metadata": {
        "colab": {
          "base_uri": "https://localhost:8080/"
        },
        "id": "g1hjMfsgp7OG",
        "outputId": "153d81f8-16e3-4b6b-8549-e9dc5fbc31a2"
      },
      "execution_count": null,
      "outputs": [
        {
          "output_type": "stream",
          "name": "stdout",
          "text": [
            "hello\n"
          ]
        }
      ]
    },
    {
      "cell_type": "code",
      "source": [
        "exec(\"ex=[1,2,3]\\nprint(ex)\")"
      ],
      "metadata": {
        "colab": {
          "base_uri": "https://localhost:8080/"
        },
        "id": "d_sls49Ip_fL",
        "outputId": "d02380c5-68e8-4a56-b401-05ade5f7d745"
      },
      "execution_count": null,
      "outputs": [
        {
          "output_type": "stream",
          "name": "stdout",
          "text": [
            "[1, 2, 3]\n"
          ]
        }
      ]
    },
    {
      "cell_type": "code",
      "source": [
        "abs(1+2j)"
      ],
      "metadata": {
        "colab": {
          "base_uri": "https://localhost:8080/"
        },
        "id": "PtbexhR1rDuJ",
        "outputId": "54085a93-98e8-4331-8230-c6b25c99f7db"
      },
      "execution_count": null,
      "outputs": [
        {
          "output_type": "execute_result",
          "data": {
            "text/plain": [
              "2.23606797749979"
            ]
          },
          "metadata": {},
          "execution_count": 56
        }
      ]
    },
    {
      "cell_type": "code",
      "source": [
        "def all(iterable):\n",
        "    for element in iterable:\n",
        "        if not element:\n",
        "            return False\n",
        "    return True\n",
        "\n",
        "all([\"neha\", 1, \"suraj\", 4, (1+2j), True])"
      ],
      "metadata": {
        "colab": {
          "base_uri": "https://localhost:8080/"
        },
        "id": "qULZFXGQralU",
        "outputId": "0ab0a997-9d25-4d36-a2dd-0a1d19e54828"
      },
      "execution_count": null,
      "outputs": [
        {
          "output_type": "execute_result",
          "data": {
            "text/plain": [
              "True"
            ]
          },
          "metadata": {},
          "execution_count": 62
        }
      ]
    },
    {
      "cell_type": "code",
      "source": [
        "any([\"neha\", 1, \"suraj\", 4, (1+2j)])"
      ],
      "metadata": {
        "colab": {
          "base_uri": "https://localhost:8080/"
        },
        "id": "MZFG32vUr6Bu",
        "outputId": "28240f12-7941-43aa-bfb7-78457152adee"
      },
      "execution_count": null,
      "outputs": [
        {
          "output_type": "execute_result",
          "data": {
            "text/plain": [
              "True"
            ]
          },
          "metadata": {},
          "execution_count": 64
        }
      ]
    },
    {
      "cell_type": "code",
      "source": [
        "my_list = list([1,2,3])\n",
        "print(\"my_list - \", my_list)\n",
        "print(\"my_list[0] - \", my_list[0])"
      ],
      "metadata": {
        "colab": {
          "base_uri": "https://localhost:8080/"
        },
        "id": "lA4QcmXCsZUB",
        "outputId": "11cf315d-a25b-4f7f-97f0-edc0401cb362"
      },
      "execution_count": null,
      "outputs": [
        {
          "output_type": "stream",
          "name": "stdout",
          "text": [
            "my_list -  [1, 2, 3]\n",
            "my_list[0] -  1\n"
          ]
        }
      ]
    },
    {
      "cell_type": "code",
      "source": [
        "my_dict = dict(a=1, b=2, c=3)\n",
        "print(\"my_dict - \", my_dict)"
      ],
      "metadata": {
        "colab": {
          "base_uri": "https://localhost:8080/"
        },
        "id": "W4_zeOhRua6W",
        "outputId": "3107a2b9-5c70-44f0-af2c-9e84ee05b695"
      },
      "execution_count": null,
      "outputs": [
        {
          "output_type": "stream",
          "name": "stdout",
          "text": [
            "my_dict -  {'a': 1, 'b': 2, 'c': 3}\n"
          ]
        }
      ]
    },
    {
      "cell_type": "code",
      "source": [
        "my_set = set(my_dict)\n",
        "print(\"my_set - \", my_set)"
      ],
      "metadata": {
        "colab": {
          "base_uri": "https://localhost:8080/"
        },
        "id": "3Ph-afuGuous",
        "outputId": "c826d01b-6b8d-4513-e0f9-26995f585ae5"
      },
      "execution_count": null,
      "outputs": [
        {
          "output_type": "stream",
          "name": "stdout",
          "text": [
            "my_set -  {'b', 'c', 'a'}\n"
          ]
        }
      ]
    },
    {
      "cell_type": "code",
      "source": [
        "my_tuple = tuple(my_set)\n",
        "print(\"my_tuple - \", my_tuple)"
      ],
      "metadata": {
        "colab": {
          "base_uri": "https://localhost:8080/"
        },
        "id": "zRTTwEa-utBf",
        "outputId": "3cbf8c84-5ecb-4047-9892-08c7f916cf01"
      },
      "execution_count": null,
      "outputs": [
        {
          "output_type": "stream",
          "name": "stdout",
          "text": [
            "my_tuple -  ('b', 'c', 'a')\n"
          ]
        }
      ]
    },
    {
      "cell_type": "code",
      "source": [
        "my_string = \"Hello, World!\"\n",
        "print(\"my_string - \", my_string)"
      ],
      "metadata": {
        "colab": {
          "base_uri": "https://localhost:8080/"
        },
        "id": "v9ixHJ86u0dV",
        "outputId": "13712144-ead7-49aa-a7cc-d8183539f889"
      },
      "execution_count": null,
      "outputs": [
        {
          "output_type": "stream",
          "name": "stdout",
          "text": [
            "my_string -  Hello, World!\n"
          ]
        }
      ]
    },
    {
      "cell_type": "code",
      "source": [
        "my_int = int(14)\n",
        "print(\"my_int - \", my_int)"
      ],
      "metadata": {
        "colab": {
          "base_uri": "https://localhost:8080/"
        },
        "id": "pnzpZGxju5eo",
        "outputId": "3ca2265e-6421-48b8-9f43-191facdf6ad0"
      },
      "execution_count": null,
      "outputs": [
        {
          "output_type": "stream",
          "name": "stdout",
          "text": [
            "my_int -  14\n"
          ]
        }
      ]
    },
    {
      "cell_type": "code",
      "source": [
        "my_int = 42\n",
        "my_string = str(my_int)\n",
        "print(\"Type casting from int to str: \", type(my_string), type(my_int))"
      ],
      "metadata": {
        "colab": {
          "base_uri": "https://localhost:8080/"
        },
        "id": "jWNu7lCKvACh",
        "outputId": "293a023a-864d-4c3e-e246-6e29acf953df"
      },
      "execution_count": null,
      "outputs": [
        {
          "output_type": "stream",
          "name": "stdout",
          "text": [
            "Type casting from int to str:  <class 'str'> <class 'int'>\n"
          ]
        }
      ]
    },
    {
      "cell_type": "code",
      "source": [
        "my_string = '42'\n",
        "my_int = int(my_string)\n",
        "print(\"Type casting from str to int: \", type(my_string), type(my_int))"
      ],
      "metadata": {
        "colab": {
          "base_uri": "https://localhost:8080/"
        },
        "id": "DRJb-VAPxOXZ",
        "outputId": "8b570cb8-ab42-4bf7-e657-494486e83f31"
      },
      "execution_count": null,
      "outputs": [
        {
          "output_type": "stream",
          "name": "stdout",
          "text": [
            "Type casting from str to int:  <class 'str'> <class 'int'>\n"
          ]
        }
      ]
    },
    {
      "cell_type": "code",
      "source": [
        "my_list = [1, 2, 3, 3]\n",
        "my_set = set(my_list)\n",
        "print(\"Type casting from list to set: \", type(my_list), type(my_set))\n",
        "print(my_set)"
      ],
      "metadata": {
        "colab": {
          "base_uri": "https://localhost:8080/"
        },
        "id": "eBQzf49rxVOQ",
        "outputId": "31091b08-ec64-47bd-e69a-814ed8495a93"
      },
      "execution_count": null,
      "outputs": [
        {
          "output_type": "stream",
          "name": "stdout",
          "text": [
            "Type casting from list to set:  <class 'list'> <class 'set'>\n",
            "{1, 2, 3}\n"
          ]
        }
      ]
    },
    {
      "cell_type": "code",
      "source": [
        "my_set = {1, 2, 3, 3}\n",
        "my_list = list(my_set)\n",
        "print(\"Type casting from set to list: \", type(my_set), type(my_list))\n",
        "print(my_list)"
      ],
      "metadata": {
        "colab": {
          "base_uri": "https://localhost:8080/"
        },
        "id": "NM0fEYnHxlYK",
        "outputId": "17313294-1bea-4747-c562-ef0ba7af25ba"
      },
      "execution_count": null,
      "outputs": [
        {
          "output_type": "stream",
          "name": "stdout",
          "text": [
            "Type casting from set to list:  <class 'set'> <class 'list'>\n",
            "[1, 2, 3]\n"
          ]
        }
      ]
    },
    {
      "cell_type": "code",
      "source": [
        "my_list.index(3)"
      ],
      "metadata": {
        "colab": {
          "base_uri": "https://localhost:8080/"
        },
        "id": "mZEkaqPkx7xP",
        "outputId": "d955f1a9-7309-45f7-c5b6-8f2fd7d3a6f1"
      },
      "execution_count": null,
      "outputs": [
        {
          "output_type": "execute_result",
          "data": {
            "text/plain": [
              "2"
            ]
          },
          "metadata": {},
          "execution_count": 81
        }
      ]
    },
    {
      "cell_type": "code",
      "source": [
        "my_dict = {'a': 1, 'b': 2, 'c': 3}\n",
        "my_dict.get('a')"
      ],
      "metadata": {
        "colab": {
          "base_uri": "https://localhost:8080/"
        },
        "id": "HMw4iw-Mys1S",
        "outputId": "2ddcb799-edf4-461c-fe95-da81129518f2"
      },
      "execution_count": null,
      "outputs": [
        {
          "output_type": "execute_result",
          "data": {
            "text/plain": [
              "1"
            ]
          },
          "metadata": {},
          "execution_count": 83
        }
      ]
    },
    {
      "cell_type": "code",
      "source": [
        "str1 = \"Shreenidhi\"\n",
        "str1.count('e')"
      ],
      "metadata": {
        "colab": {
          "base_uri": "https://localhost:8080/"
        },
        "id": "AgcBo0tQy99o",
        "outputId": "ddfce0c8-2b31-43e0-ee50-d6ae03f4603b"
      },
      "execution_count": null,
      "outputs": [
        {
          "output_type": "execute_result",
          "data": {
            "text/plain": [
              "2"
            ]
          },
          "metadata": {},
          "execution_count": 86
        }
      ]
    },
    {
      "cell_type": "code",
      "source": [
        "my_string = \"Hello, world!\"\n",
        "index = my_string.find(\"world\")\n",
        "print(index)"
      ],
      "metadata": {
        "colab": {
          "base_uri": "https://localhost:8080/"
        },
        "id": "LejFc1aqzPIm",
        "outputId": "dddace4f-2d66-4d14-d6b4-21879a9c53fa"
      },
      "execution_count": null,
      "outputs": [
        {
          "output_type": "stream",
          "name": "stdout",
          "text": [
            "7\n"
          ]
        }
      ]
    },
    {
      "cell_type": "code",
      "source": [
        "sn = input()\n"
      ],
      "metadata": {
        "colab": {
          "base_uri": "https://localhost:8080/"
        },
        "id": "1duq0CYjzmvK",
        "outputId": "2d6db05a-b68d-457e-f80a-bbfec6ca92e4"
      },
      "execution_count": null,
      "outputs": [
        {
          "name": "stdout",
          "output_type": "stream",
          "text": [
            "1 2 find look seek\n"
          ]
        }
      ]
    },
    {
      "cell_type": "code",
      "source": [
        "my_set = set(sn.split(\" \"))\n",
        "print(my_set)"
      ],
      "metadata": {
        "colab": {
          "base_uri": "https://localhost:8080/"
        },
        "id": "ZB5u57551iHY",
        "outputId": "b3d7a34a-1da4-4f3e-da4a-c3b5ef9eb067"
      },
      "execution_count": null,
      "outputs": [
        {
          "output_type": "stream",
          "name": "stdout",
          "text": [
            "{'2', 'seek', 'look', 'find', '1'}\n"
          ]
        }
      ]
    },
    {
      "cell_type": "code",
      "source": [
        "len(my_set)"
      ],
      "metadata": {
        "colab": {
          "base_uri": "https://localhost:8080/"
        },
        "id": "4Tw5eGy71n1X",
        "outputId": "9d34feea-e52d-4d55-d596-3f3f068f7e7a"
      },
      "execution_count": null,
      "outputs": [
        {
          "output_type": "execute_result",
          "data": {
            "text/plain": [
              "5"
            ]
          },
          "metadata": {},
          "execution_count": 98
        }
      ]
    },
    {
      "cell_type": "code",
      "source": [
        "dct = eval(input())\n",
        "val = eval(input())\n",
        "dct.update(val)\n",
        "print(dct)"
      ],
      "metadata": {
        "colab": {
          "base_uri": "https://localhost:8080/"
        },
        "id": "Q8sJND3C2e8_",
        "outputId": "1c5bd2d4-e130-4a62-c959-a7ab6de6cb17"
      },
      "execution_count": null,
      "outputs": [
        {
          "output_type": "stream",
          "name": "stdout",
          "text": [
            "{'name': 'xyz', 'age': 27, 'salary': 50000}\n",
            "{'manager': 'abc'}\n",
            "{'name': 'xyz', 'age': 27, 'salary': 50000, 'manager': 'abc'}\n"
          ]
        }
      ]
    },
    {
      "cell_type": "code",
      "source": [
        "tup = input()\n",
        "item = input()\n",
        "tup_new = tuple(tup.split(','))\n",
        "my_list = list(tup_new)\n",
        "my_list.remove(item)\n",
        "tup_new = tuple(my_list)\n",
        "print(tup_new)"
      ],
      "metadata": {
        "colab": {
          "base_uri": "https://localhost:8080/"
        },
        "id": "xtRoVGNn34no",
        "outputId": "c8096e38-3c19-4966-9e0e-2a67efb29737"
      },
      "execution_count": null,
      "outputs": [
        {
          "output_type": "stream",
          "name": "stdout",
          "text": [
            "a,b,c,d,e,f,g\n",
            "f\n",
            "('a', 'b', 'c', 'd', 'e', 'g')\n"
          ]
        }
      ]
    },
    {
      "cell_type": "code",
      "source": [
        "my_list = ['cat', 'dog', 'bear', \"Dog\"]\n",
        "print(max(my_list))"
      ],
      "metadata": {
        "colab": {
          "base_uri": "https://localhost:8080/"
        },
        "id": "kA8NZ3ko5265",
        "outputId": "941ccba6-7713-40f0-afc7-d162a0dee55d"
      },
      "execution_count": null,
      "outputs": [
        {
          "output_type": "stream",
          "name": "stdout",
          "text": [
            "dog\n"
          ]
        }
      ]
    },
    {
      "cell_type": "code",
      "source": [
        "my_list = ['cat', 'dog', 'elephant', 'bear']\n",
        "print(min(my_list))"
      ],
      "metadata": {
        "colab": {
          "base_uri": "https://localhost:8080/"
        },
        "id": "qiPLxxTx-m7J",
        "outputId": "15a25dd0-9452-45a6-fbe1-562022a1961a"
      },
      "execution_count": null,
      "outputs": [
        {
          "output_type": "stream",
          "name": "stdout",
          "text": [
            "bear\n"
          ]
        }
      ]
    },
    {
      "cell_type": "code",
      "source": [
        "len(input(\"string\"))"
      ],
      "metadata": {
        "colab": {
          "base_uri": "https://localhost:8080/"
        },
        "id": "pk7OfHVh-vEF",
        "outputId": "2e394991-5423-49d0-b1cb-81c9e798e55c"
      },
      "execution_count": null,
      "outputs": [
        {
          "name": "stdout",
          "output_type": "stream",
          "text": [
            "stringneha gupta\n"
          ]
        },
        {
          "output_type": "execute_result",
          "data": {
            "text/plain": [
              "10"
            ]
          },
          "metadata": {},
          "execution_count": 111
        }
      ]
    },
    {
      "cell_type": "code",
      "source": [
        "string = \"      NeHa Gupta Is           \"\n",
        "string.strip()"
      ],
      "metadata": {
        "colab": {
          "base_uri": "https://localhost:8080/",
          "height": 36
        },
        "id": "2MthiwqV_BLj",
        "outputId": "6411ed20-994b-4145-9526-278c9e349c0d"
      },
      "execution_count": null,
      "outputs": [
        {
          "output_type": "execute_result",
          "data": {
            "text/plain": [
              "'NeHa Gupta Is'"
            ],
            "application/vnd.google.colaboratory.intrinsic+json": {
              "type": "string"
            }
          },
          "metadata": {},
          "execution_count": 117
        }
      ]
    },
    {
      "cell_type": "code",
      "source": [
        "# sorted() - Lists, tuple, set. Doctionary\n",
        "# append() - Lists\n",
        "# update() - Dictionary\n",
        "# replace() - String\n",
        "# extend() - Lists (iterable - list, tuple, set, string or any other)"
      ],
      "metadata": {
        "id": "XjjQKdwP_qms"
      },
      "execution_count": null,
      "outputs": []
    },
    {
      "cell_type": "code",
      "source": [
        "# insert(): Adds an element at a specified position.\n",
        "list1 = [1, 2, 3]\n",
        "list1.insert(1, 4)\n",
        "print(list1)"
      ],
      "metadata": {
        "colab": {
          "base_uri": "https://localhost:8080/"
        },
        "id": "18w0k9XWdHvH",
        "outputId": "a5fea318-84ee-4ce3-8a57-edee769304ea"
      },
      "execution_count": null,
      "outputs": [
        {
          "output_type": "stream",
          "name": "stdout",
          "text": [
            "[1, 4, 2, 3]\n"
          ]
        }
      ]
    },
    {
      "cell_type": "code",
      "source": [
        "# setdefault(): Updates the dictionary with specified key-value pairs.\n",
        "dict1 = {'a': 1, 'b': 2}\n",
        "dict1.setdefault('c', 3)\n",
        "print(dict1)"
      ],
      "metadata": {
        "colab": {
          "base_uri": "https://localhost:8080/"
        },
        "id": "VMudpZgvdVdE",
        "outputId": "c9fc3b93-b8ca-4889-b4c7-553ea8757062"
      },
      "execution_count": null,
      "outputs": [
        {
          "output_type": "stream",
          "name": "stdout",
          "text": [
            "{'a': 1, 'b': 2, 'c': 3}\n"
          ]
        }
      ]
    },
    {
      "cell_type": "code",
      "source": [
        "ex = {'a' :1 , 'b':2}\n",
        "ex.setdefault('a',\"None\")\n",
        "print(ex)"
      ],
      "metadata": {
        "colab": {
          "base_uri": "https://localhost:8080/"
        },
        "id": "gsoPHb2Mdat2",
        "outputId": "81c01347-1a0b-4f66-d68e-194ac2cf16c5"
      },
      "execution_count": null,
      "outputs": [
        {
          "output_type": "stream",
          "name": "stdout",
          "text": [
            "{'a': 1, 'b': 2}\n"
          ]
        }
      ]
    },
    {
      "cell_type": "code",
      "source": [
        "ex1 = {'a' :1 , 'b':2}\n",
        "ex1.setdefault('c',\"None\")\n",
        "print(ex1)"
      ],
      "metadata": {
        "colab": {
          "base_uri": "https://localhost:8080/"
        },
        "id": "QbKcUnDId0SW",
        "outputId": "dcb53daf-2422-4d3c-a1bf-ed74b3e08d8a"
      },
      "execution_count": null,
      "outputs": [
        {
          "output_type": "stream",
          "name": "stdout",
          "text": [
            "{'a': 1, 'b': 2, 'c': 'None'}\n"
          ]
        }
      ]
    },
    {
      "cell_type": "code",
      "source": [
        "lis1 = [1,2,3]\n",
        "del lis1[0]\n",
        "print(lis1)"
      ],
      "metadata": {
        "colab": {
          "base_uri": "https://localhost:8080/"
        },
        "id": "oJAzu5bUd58i",
        "outputId": "2a9348b0-6699-4ad0-efcb-ce35918b6025"
      },
      "execution_count": null,
      "outputs": [
        {
          "output_type": "stream",
          "name": "stdout",
          "text": [
            "[2, 3]\n"
          ]
        }
      ]
    },
    {
      "cell_type": "code",
      "source": [
        "str1 = \"Hello Python\"\n",
        "str1.upper()\n",
        "str1.lower()"
      ],
      "metadata": {
        "id": "tTwu4DpzfAR4"
      },
      "execution_count": null,
      "outputs": []
    },
    {
      "cell_type": "markdown",
      "source": [
        "Even number or Odd number\n",
        "\n",
        "Write a Python program to find whether a given number (accept from the user) is even or odd, print out an appropriate message to the user."
      ],
      "metadata": {
        "id": "3XLOQ9eTwNEd"
      }
    },
    {
      "cell_type": "code",
      "source": [
        "number = int(input())\n",
        "if number % 2 == 0:\n",
        "  print(\"This is an even number.\")\n",
        "else:\n",
        "  print(\"This is an odd number.\")"
      ],
      "metadata": {
        "colab": {
          "base_uri": "https://localhost:8080/"
        },
        "id": "7m9rbJO7wQXd",
        "outputId": "e021268c-e01d-48dd-e8fd-7ae6cf368334"
      },
      "execution_count": null,
      "outputs": [
        {
          "output_type": "stream",
          "name": "stdout",
          "text": [
            "6\n",
            "This is an even number.\n"
          ]
        }
      ]
    },
    {
      "cell_type": "markdown",
      "source": [
        "Sum and check the digit length\n",
        "\n",
        "Write a Python program to compute and print sum of two given integers (more than or equal to zero). If given integers or the sum have more than 80 digits, print \"Overflow!\"."
      ],
      "metadata": {
        "id": "WbIrG1vByCtc"
      }
    },
    {
      "cell_type": "code",
      "source": [
        "num1 = int(input())\n",
        "num2 = int(input())\n",
        "sum1 = num1 + num2\n",
        "if num1>=10**80 or num2>=10**80 or sum1>=10**80:\n",
        "  print(\"Overflow!\")\n",
        "else:\n",
        "  print(sum1)\n"
      ],
      "metadata": {
        "colab": {
          "base_uri": "https://localhost:8080/"
        },
        "id": "l-SlBP2JwfQu",
        "outputId": "0ddea626-09ac-42b0-c5e8-8b7258878e43"
      },
      "execution_count": null,
      "outputs": [
        {
          "output_type": "stream",
          "name": "stdout",
          "text": [
            "22\n",
            "25\n",
            "47\n"
          ]
        }
      ]
    },
    {
      "cell_type": "markdown",
      "source": [
        "Armstrong Number"
      ],
      "metadata": {
        "id": "-GIKhqJa_-9R"
      }
    },
    {
      "cell_type": "code",
      "source": [
        "# Input the number to be checked\n",
        "number = int(input())\n",
        "k = 0\n",
        "count = 0\n",
        "m = []\n",
        "\n",
        "# count lenght of digit of given value\n",
        "l = len(str(number))\n",
        "\n",
        "# Iterate over the digits of the number\n",
        "for i in str(number):\n",
        "  k = k + (int(i)**l)\n",
        "  m.append(k)\n",
        "  k = 0\n",
        "\n",
        "# add value in list\n",
        "for j in m:\n",
        "  count = count+j\n",
        "\n",
        "if count == number:\n",
        "    print(\"Number is Armstrong\")\n",
        "else:\n",
        "    print(\"Number is not Armstrong\")"
      ],
      "metadata": {
        "colab": {
          "base_uri": "https://localhost:8080/"
        },
        "id": "HIFDuHKUxdNI",
        "outputId": "48fc00ef-46b6-4854-b437-5d162772158d"
      },
      "execution_count": null,
      "outputs": [
        {
          "output_type": "stream",
          "name": "stdout",
          "text": [
            "370\n",
            "Number is Armstrong\n"
          ]
        }
      ]
    },
    {
      "cell_type": "markdown",
      "source": [
        "Calculate Euclidean distance\n",
        "\n",
        "Write a Python program to calculate Euclidean Distance."
      ],
      "metadata": {
        "id": "JUXG_D6QAP6D"
      }
    },
    {
      "cell_type": "code",
      "source": [
        "# take input from the user\n",
        "x1 = int(input())\n",
        "y1 = int(input())\n",
        "x2 = int(input())\n",
        "y2 = int(input())\n",
        "\n",
        "# calculate distance\n",
        "PQ = ((x2-x1)**2 + (y2-y1)**2)**0.5\n",
        "\n",
        "# print distance\n",
        "print(f\"The Euclidean Distance between the above given two points 'PQ' = {PQ}\")"
      ],
      "metadata": {
        "colab": {
          "base_uri": "https://localhost:8080/"
        },
        "id": "WLYY9BNa9lsa",
        "outputId": "ddecd7a6-67ff-470f-de20-10328a811bb3"
      },
      "execution_count": null,
      "outputs": [
        {
          "output_type": "stream",
          "name": "stdout",
          "text": [
            "6\n",
            "7\n",
            "5\n",
            "4\n",
            "The Euclidean Distance between the above given two points 'PQ' = 3.1622776601683795\n"
          ]
        }
      ]
    },
    {
      "cell_type": "markdown",
      "source": [
        "Largest element of list\n",
        "\n",
        "Write a Python program to get the largest number from a list."
      ],
      "metadata": {
        "id": "5yiXy6ddHePB"
      }
    },
    {
      "cell_type": "code",
      "source": [
        "lis1 = eval(input())\n",
        "max1 = max(lis1)\n",
        "print(max1)"
      ],
      "metadata": {
        "colab": {
          "base_uri": "https://localhost:8080/"
        },
        "id": "yoAwH26JGTF1",
        "outputId": "eff91076-d66c-42b4-f970-46ad4509d85d"
      },
      "execution_count": null,
      "outputs": [
        {
          "output_type": "stream",
          "name": "stdout",
          "text": [
            "[1,2,-8,0]\n",
            "2\n"
          ]
        }
      ]
    },
    {
      "cell_type": "code",
      "source": [
        "num = eval(input())\n",
        "str1 = \"emp\"\n",
        "new_lis1 = []\n",
        "\n",
        "for i in num:\n",
        "    new_lis1.append(str1+str(i))\n",
        "\n",
        "print(new_lis1)"
      ],
      "metadata": {
        "colab": {
          "base_uri": "https://localhost:8080/"
        },
        "id": "M3Y-5ffMHhPz",
        "outputId": "addcf007-faad-4431-a459-f91350fc6bbb"
      },
      "execution_count": null,
      "outputs": [
        {
          "output_type": "stream",
          "name": "stdout",
          "text": [
            "[1,2,3,4]\n",
            "['emp1', 'emp2', 'emp3', 'emp4']\n"
          ]
        }
      ]
    },
    {
      "cell_type": "code",
      "source": [
        "a = 10\n",
        "b = 6\n",
        "sum = a + b\n",
        "if 15 < sum < 20:\n",
        "  print(20)\n",
        "else:\n",
        "  print(sum)"
      ],
      "metadata": {
        "id": "BZHYCHzjIKAC",
        "colab": {
          "base_uri": "https://localhost:8080/"
        },
        "outputId": "08dc48e1-6f19-4e39-83aa-8a26463ef803"
      },
      "execution_count": null,
      "outputs": [
        {
          "output_type": "stream",
          "name": "stdout",
          "text": [
            "20\n"
          ]
        }
      ]
    },
    {
      "cell_type": "markdown",
      "source": [
        "### Write a Python program to check the weather of a city, if it is positive, negative or zero.\n",
        "\n"
      ],
      "metadata": {
        "id": "uGsTluzDHhbM"
      }
    },
    {
      "cell_type": "code",
      "source": [
        "weather = int(input())\n",
        "if weather == 0:\n",
        "  print(\"It is a zero number\")\n",
        "elif weather < 0:\n",
        "  print(\"It is a negative number\")\n",
        "else:\n",
        "  print(\"It is a positive number\")"
      ],
      "metadata": {
        "colab": {
          "base_uri": "https://localhost:8080/"
        },
        "id": "uZ1brUbOGcIW",
        "outputId": "9ad15dc0-02ce-44bf-ad01-b529a8df0138"
      },
      "execution_count": null,
      "outputs": [
        {
          "output_type": "stream",
          "name": "stdout",
          "text": [
            "50\n",
            "It is a positive number\n"
          ]
        }
      ]
    },
    {
      "cell_type": "code",
      "source": [
        "def weather(num):\n",
        "  if num == 0:\n",
        "    print(\"It is a zero number\")\n",
        "  elif num < 0:\n",
        "    print(\"It is a negative number\")\n",
        "  else:\n",
        "    print(\"It is a positive number\")\n",
        "  return\n",
        "\n",
        "print(weather(int(input())))"
      ],
      "metadata": {
        "colab": {
          "base_uri": "https://localhost:8080/"
        },
        "id": "2IT67qEPHyK-",
        "outputId": "3d0ba172-eb73-43db-b135-1fc324feb206"
      },
      "execution_count": null,
      "outputs": [
        {
          "output_type": "stream",
          "name": "stdout",
          "text": [
            "-50\n",
            "It is a negative number\n",
            "None\n"
          ]
        }
      ]
    },
    {
      "cell_type": "markdown",
      "source": [
        "### Biggest even number\n",
        "\n",
        "Write a Python program to find the biggest even number between two numbers inclusive."
      ],
      "metadata": {
        "id": "1Ps59x2ZcLzV"
      }
    },
    {
      "cell_type": "code",
      "source": [
        "m = int(input())\n",
        "n = int(input())\n",
        "lis1 = []\n",
        "\n",
        "for i in range(m,n+1):\n",
        "  if i % 2 == 0:\n",
        "    lis1.append(i)\n",
        "\n",
        "print(max(lis1))"
      ],
      "metadata": {
        "id": "qmQYhDZVIXUA",
        "colab": {
          "base_uri": "https://localhost:8080/"
        },
        "outputId": "ffba93b7-8d30-4b16-92e6-ef78d73ab255"
      },
      "execution_count": null,
      "outputs": [
        {
          "output_type": "stream",
          "name": "stdout",
          "text": [
            "11\n",
            "22\n",
            "22\n"
          ]
        }
      ]
    },
    {
      "cell_type": "code",
      "source": [
        "def maxeve(m, n):\n",
        "  eve_lis1 = []\n",
        "  for i in range(m,n+1):\n",
        "    if i % 2 == 0:\n",
        "      eve_lis1.append(i)\n",
        "  return max(eve_lis1)\n",
        "\n",
        "print(maxeve(int(input()), int(input())))"
      ],
      "metadata": {
        "colab": {
          "base_uri": "https://localhost:8080/"
        },
        "id": "oTThY6FzeYtV",
        "outputId": "730e6b87-ef03-4d17-c3f0-b4afc63bf28a"
      },
      "execution_count": null,
      "outputs": [
        {
          "output_type": "stream",
          "name": "stdout",
          "text": [
            "12\n",
            "22\n",
            "22\n"
          ]
        }
      ]
    },
    {
      "cell_type": "markdown",
      "source": [
        "### Numbers below threshold\n",
        "\n",
        "Write a Python program to find the indexes of numbers of a given list below a given threshold."
      ],
      "metadata": {
        "id": "jfGnxDZQgODl"
      }
    },
    {
      "cell_type": "code",
      "source": [
        "list1 = eval(input())\n",
        "new_list1 =[]\n",
        "threshold = int(input())\n",
        "\n",
        "for i in list1:\n",
        "  if i < threshold:\n",
        "    new_list1.append(list1.index(i))\n",
        "\n",
        "print(new_list1)"
      ],
      "metadata": {
        "colab": {
          "base_uri": "https://localhost:8080/"
        },
        "id": "GOwutFZbgNd1",
        "outputId": "7a9938cc-8924-4a61-850f-ba0653553db3"
      },
      "execution_count": null,
      "outputs": [
        {
          "output_type": "stream",
          "name": "stdout",
          "text": [
            "[0, 12, 45, 3, 4923, 322, 105, 29, 15, 39, 55]\n",
            "100\n",
            "[0, 1, 2, 3, 7, 8, 9, 10]\n"
          ]
        }
      ]
    },
    {
      "cell_type": "code",
      "source": [
        "def index(list1, threshold):\n",
        "  new_list1 =[]\n",
        "  for i in list1:\n",
        "    if i < threshold:\n",
        "      new_list1.append(list1.index(i))\n",
        "  return new_list1\n",
        "\n",
        "print(index(eval(input()), int(input())))\n"
      ],
      "metadata": {
        "colab": {
          "base_uri": "https://localhost:8080/"
        },
        "id": "Y0-MsqjydUVm",
        "outputId": "5bc56552-1ea7-49fb-b7bc-ccc632270639"
      },
      "execution_count": null,
      "outputs": [
        {
          "output_type": "stream",
          "name": "stdout",
          "text": [
            "[0, 12, 45, 3, 4923, 322, 105, 29, 15, 39, 55]\n",
            "100\n",
            "[0, 1, 2, 3, 7, 8, 9, 10]\n"
          ]
        }
      ]
    },
    {
      "cell_type": "markdown",
      "source": [
        "### Remove NONE\n",
        "\n",
        "Write a Python program to remove None value from a given list. (Using list comprehension)"
      ],
      "metadata": {
        "id": "nz2nErd8irMB"
      }
    },
    {
      "cell_type": "code",
      "source": [
        "list2 = eval(input())\n",
        "\n",
        "for i in list2:\n",
        "  if i == None:\n",
        "    list2.remove(i)\n",
        "\n",
        "print(list2)"
      ],
      "metadata": {
        "colab": {
          "base_uri": "https://localhost:8080/"
        },
        "id": "yAzhVp2eiqiE",
        "outputId": "e07cb21f-1a8c-40f2-dff7-182260df623b"
      },
      "execution_count": null,
      "outputs": [
        {
          "output_type": "stream",
          "name": "stdout",
          "text": [
            "[12, 0, None, 23, None, -55, 234, 89, None, 0, 6, -12]\n",
            "[12, 0, 23, -55, 234, 89, 0, 6, -12]\n"
          ]
        }
      ]
    },
    {
      "cell_type": "code",
      "source": [
        "list2 = eval(input())\n",
        "list2 = [i for i in list2 if i != None]\n",
        "print(list2)"
      ],
      "metadata": {
        "colab": {
          "base_uri": "https://localhost:8080/"
        },
        "id": "Blt5DKy0iRuX",
        "outputId": "fd6b4c60-4712-4bc0-f40c-5ba20040677e"
      },
      "execution_count": null,
      "outputs": [
        {
          "output_type": "stream",
          "name": "stdout",
          "text": [
            "[12, 0, None, 23, None, -55, 234, 89, None, 0, 6, -12]\n",
            "[12, 0, 23, -55, 234, 89, 0, 6, -12]\n"
          ]
        }
      ]
    },
    {
      "cell_type": "code",
      "source": [
        "def removenone(list2):\n",
        "  list2 = [i for i in list2 if i != None]\n",
        "  return list2\n",
        "\n",
        "print(removenone(eval(input())))"
      ],
      "metadata": {
        "colab": {
          "base_uri": "https://localhost:8080/"
        },
        "id": "ZpMUkdQTjnbt",
        "outputId": "6845aee3-bc1a-4dbb-bb4c-1d89152fb8e0"
      },
      "execution_count": null,
      "outputs": [
        {
          "output_type": "stream",
          "name": "stdout",
          "text": [
            "[12, 0, None, 23, None, -55, 234, 89, None, 0, 6, -12]\n",
            "[12, 0, 23, -55, 234, 89, 0, 6, -12]\n"
          ]
        }
      ]
    },
    {
      "cell_type": "markdown",
      "source": [
        "### Indexes of None\n",
        "\n",
        "Write a Python program to find the indexes of all None items in a given list."
      ],
      "metadata": {
        "id": "Om1hvINGkuje"
      }
    },
    {
      "cell_type": "code",
      "source": [
        "list3 = eval(input())\n",
        "new_list = []\n",
        "\n",
        "for i in range(0, len(list3)):\n",
        "  if list3[i] == None:\n",
        "    new_list.append(i)\n",
        "\n",
        "print(new_list)\n",
        "\n"
      ],
      "metadata": {
        "colab": {
          "base_uri": "https://localhost:8080/"
        },
        "id": "3OLNF1M9kA6M",
        "outputId": "d6a73e44-1f44-4ec4-ffc8-1d94efd7d03d"
      },
      "execution_count": null,
      "outputs": [
        {
          "output_type": "stream",
          "name": "stdout",
          "text": [
            "[1, None, 5, 4,None, 0, None, None]\n",
            "[1, 4, 6, 7]\n"
          ]
        }
      ]
    },
    {
      "cell_type": "markdown",
      "source": [
        "# Remove specific word\n",
        "\n",
        "## Write a Python program to remove specific words from a given list. (Using List comprehension)"
      ],
      "metadata": {
        "id": "2wIUoUmctmlF"
      }
    },
    {
      "cell_type": "code",
      "source": [
        "list4 = eval(input())\n",
        "list2 = eval(input())\n",
        "\n",
        "for i in list4:\n",
        "  for j in list2:\n",
        "    if i == j:\n",
        "      list4.remove(i)..0\n",
        "\n",
        "print(list4)"
      ],
      "metadata": {
        "colab": {
          "base_uri": "https://localhost:8080/"
        },
        "id": "sQlJMNiDk0BT",
        "outputId": "d6c97ed5-11e5-48c4-f13f-00f7e044c3a7"
      },
      "execution_count": null,
      "outputs": [
        {
          "output_type": "stream",
          "name": "stdout",
          "text": [
            "['red', 'green', 'blue', 'white', 'black', 'orange']\n",
            "['white', 'orange']\n",
            "['red', 'green', 'blue', 'black']\n"
          ]
        }
      ]
    },
    {
      "cell_type": "code",
      "source": [
        "a = 9\n",
        "b = 2\n",
        "\n",
        "print(f\"value of a is : {a}\")\n",
        "print(f\"value of b is : {b}\")\n",
        "\n",
        "a = a + b\n",
        "b = a - b\n",
        "a = a - b\n",
        "\n",
        "print(\"After swapping\")\n",
        "print(f\"value of a is : {a}\")\n",
        "print(f\"value of b is : {b}\")"
      ],
      "metadata": {
        "colab": {
          "base_uri": "https://localhost:8080/"
        },
        "id": "S5nZ53eus_Sh",
        "outputId": "06f6994f-0266-4049-a49e-aa8c26c6f474"
      },
      "execution_count": null,
      "outputs": [
        {
          "output_type": "stream",
          "name": "stdout",
          "text": [
            "value of a is : 9\n",
            "value of b is : 2\n",
            "After swapping\n",
            "value of a is : 2\n",
            "value of b is : 9\n"
          ]
        }
      ]
    },
    {
      "cell_type": "code",
      "source": [
        "list1 = [1,2,3,4,5,6,7,8,9,10]\n",
        "list1.reverse()"
      ],
      "metadata": {
        "id": "TmIi1FUrvloq"
      },
      "execution_count": null,
      "outputs": []
    },
    {
      "cell_type": "code",
      "source": [
        "list1"
      ],
      "metadata": {
        "colab": {
          "base_uri": "https://localhost:8080/"
        },
        "id": "v5azixn_GTe4",
        "outputId": "e0215555-e78b-47d0-ec1a-2cbe55110183"
      },
      "execution_count": null,
      "outputs": [
        {
          "output_type": "execute_result",
          "data": {
            "text/plain": [
              "[10, 9, 8, 7, 6, 5, 4, 3, 2, 1]"
            ]
          },
          "metadata": {},
          "execution_count": 68
        }
      ]
    },
    {
      "cell_type": "code",
      "source": [
        "\"-\",join(\"to be or not to be\")"
      ],
      "metadata": {
        "colab": {
          "base_uri": "https://localhost:8080/",
          "height": 141
        },
        "id": "fL1nv7l6GUxL",
        "outputId": "c5bf28fb-e9d2-4fc7-f445-70b80901e54d"
      },
      "execution_count": null,
      "outputs": [
        {
          "output_type": "error",
          "ename": "NameError",
          "evalue": "name 'join' is not defined",
          "traceback": [
            "\u001b[0;31m---------------------------------------------------------------------------\u001b[0m",
            "\u001b[0;31mNameError\u001b[0m                                 Traceback (most recent call last)",
            "\u001b[0;32m<ipython-input-74-b326d06145d2>\u001b[0m in \u001b[0;36m<cell line: 1>\u001b[0;34m()\u001b[0m\n\u001b[0;32m----> 1\u001b[0;31m \u001b[0;34m\"-\"\u001b[0m\u001b[0;34m,\u001b[0m\u001b[0mjoin\u001b[0m\u001b[0;34m(\u001b[0m\u001b[0;34m\"to be or not to be\"\u001b[0m\u001b[0;34m)\u001b[0m\u001b[0;34m\u001b[0m\u001b[0;34m\u001b[0m\u001b[0m\n\u001b[0m",
            "\u001b[0;31mNameError\u001b[0m: name 'join' is not defined"
          ]
        }
      ]
    },
    {
      "cell_type": "markdown",
      "source": [
        "## Product of list elements\n",
        "\n",
        "## Alex is solving algebra equations and now wants to multiply each root value. Thus, write a Python program to multiply all the items in a list."
      ],
      "metadata": {
        "id": "bM-3JgtSN8O-"
      }
    },
    {
      "cell_type": "code",
      "source": [
        "def prod_mul(list1):\n",
        "  count = 1\n",
        "  for i in list1:\n",
        "    count = count * i\n",
        "  return int(count)\n",
        "\n",
        "print(prod_mul(eval(input())))"
      ],
      "metadata": {
        "id": "B2TNlorHIXrm",
        "colab": {
          "base_uri": "https://localhost:8080/"
        },
        "outputId": "2a5663aa-84c8-4b03-cbc4-d57abea1b858"
      },
      "execution_count": null,
      "outputs": [
        {
          "output_type": "stream",
          "name": "stdout",
          "text": [
            "[1,2,-8]\n",
            "-16\n"
          ]
        }
      ]
    },
    {
      "cell_type": "code",
      "source": [
        "import numpy\n",
        "list1 = [1, 2, -8]\n",
        "\n",
        "result1 = numpy.prod(list1)\n",
        "print(result1)"
      ],
      "metadata": {
        "colab": {
          "base_uri": "https://localhost:8080/"
        },
        "id": "Jp7sQ6zwO7Fu",
        "outputId": "40bd0d2d-ac3f-44dc-b179-d1f55e9dd2da"
      },
      "execution_count": null,
      "outputs": [
        {
          "output_type": "stream",
          "name": "stdout",
          "text": [
            "-16\n"
          ]
        }
      ]
    },
    {
      "cell_type": "code",
      "source": [
        "import math\n",
        "list1 = [1, 2, -8]\n",
        "result1 = math.prod(list1)\n",
        "print(result1)"
      ],
      "metadata": {
        "colab": {
          "base_uri": "https://localhost:8080/"
        },
        "id": "LzQFCiP7OW3-",
        "outputId": "7428e134-6dfd-4f69-9128-6ad2f7d1e31d"
      },
      "execution_count": null,
      "outputs": [
        {
          "output_type": "stream",
          "name": "stdout",
          "text": [
            "-16\n"
          ]
        }
      ]
    },
    {
      "cell_type": "markdown",
      "source": [
        "## While Loop\n",
        "#### 1. Print numbers from 1 to 100\n",
        "#### 2. Print numbers from 100 to 1\n",
        "#### 3. Print numbers from 1 to 100the multiplication table of a number n\n",
        "#### 4. Print the elements of the following list using a loop:\n",
        "####    [1,4,9,16,25,49,64,81,100]\n",
        "#### 5. Search for a number x in this tuple using loop:\n",
        "####    [1,4,9,16,25,49,64,81,100]\n",
        "\n"
      ],
      "metadata": {
        "id": "xaFJZrxPVfCe"
      }
    },
    {
      "cell_type": "code",
      "source": [
        "num = 1\n",
        "\n",
        "while num <= 100:\n",
        "  print(num)\n",
        "  num = num + 1"
      ],
      "metadata": {
        "colab": {
          "base_uri": "https://localhost:8080/"
        },
        "id": "oU4MBrN7P2kQ",
        "outputId": "e4626ff3-5ce6-4c4a-cd15-eb3f69c3517c"
      },
      "execution_count": null,
      "outputs": [
        {
          "output_type": "stream",
          "name": "stdout",
          "text": [
            "1\n",
            "2\n",
            "3\n",
            "4\n",
            "5\n",
            "6\n",
            "7\n",
            "8\n",
            "9\n",
            "10\n",
            "11\n",
            "12\n",
            "13\n",
            "14\n",
            "15\n",
            "16\n",
            "17\n",
            "18\n",
            "19\n",
            "20\n",
            "21\n",
            "22\n",
            "23\n",
            "24\n",
            "25\n",
            "26\n",
            "27\n",
            "28\n",
            "29\n",
            "30\n",
            "31\n",
            "32\n",
            "33\n",
            "34\n",
            "35\n",
            "36\n",
            "37\n",
            "38\n",
            "39\n",
            "40\n",
            "41\n",
            "42\n",
            "43\n",
            "44\n",
            "45\n",
            "46\n",
            "47\n",
            "48\n",
            "49\n",
            "50\n",
            "51\n",
            "52\n",
            "53\n",
            "54\n",
            "55\n",
            "56\n",
            "57\n",
            "58\n",
            "59\n",
            "60\n",
            "61\n",
            "62\n",
            "63\n",
            "64\n",
            "65\n",
            "66\n",
            "67\n",
            "68\n",
            "69\n",
            "70\n",
            "71\n",
            "72\n",
            "73\n",
            "74\n",
            "75\n",
            "76\n",
            "77\n",
            "78\n",
            "79\n",
            "80\n",
            "81\n",
            "82\n",
            "83\n",
            "84\n",
            "85\n",
            "86\n",
            "87\n",
            "88\n",
            "89\n",
            "90\n",
            "91\n",
            "92\n",
            "93\n",
            "94\n",
            "95\n",
            "96\n",
            "97\n",
            "98\n",
            "99\n",
            "100\n"
          ]
        }
      ]
    },
    {
      "cell_type": "code",
      "source": [
        "num = 100\n",
        "\n",
        "while num >= 1:\n",
        "  print(num)\n",
        "  num = num - 1"
      ],
      "metadata": {
        "colab": {
          "base_uri": "https://localhost:8080/"
        },
        "id": "ei6a2XyUT7Dt",
        "outputId": "1c7e4bea-d2bd-4766-b640-0205ade9cfc4"
      },
      "execution_count": null,
      "outputs": [
        {
          "output_type": "stream",
          "name": "stdout",
          "text": [
            "100\n",
            "99\n",
            "98\n",
            "97\n",
            "96\n",
            "95\n",
            "94\n",
            "93\n",
            "92\n",
            "91\n",
            "90\n",
            "89\n",
            "88\n",
            "87\n",
            "86\n",
            "85\n",
            "84\n",
            "83\n",
            "82\n",
            "81\n",
            "80\n",
            "79\n",
            "78\n",
            "77\n",
            "76\n",
            "75\n",
            "74\n",
            "73\n",
            "72\n",
            "71\n",
            "70\n",
            "69\n",
            "68\n",
            "67\n",
            "66\n",
            "65\n",
            "64\n",
            "63\n",
            "62\n",
            "61\n",
            "60\n",
            "59\n",
            "58\n",
            "57\n",
            "56\n",
            "55\n",
            "54\n",
            "53\n",
            "52\n",
            "51\n",
            "50\n",
            "49\n",
            "48\n",
            "47\n",
            "46\n",
            "45\n",
            "44\n",
            "43\n",
            "42\n",
            "41\n",
            "40\n",
            "39\n",
            "38\n",
            "37\n",
            "36\n",
            "35\n",
            "34\n",
            "33\n",
            "32\n",
            "31\n",
            "30\n",
            "29\n",
            "28\n",
            "27\n",
            "26\n",
            "25\n",
            "24\n",
            "23\n",
            "22\n",
            "21\n",
            "20\n",
            "19\n",
            "18\n",
            "17\n",
            "16\n",
            "15\n",
            "14\n",
            "13\n",
            "12\n",
            "11\n",
            "10\n",
            "9\n",
            "8\n",
            "7\n",
            "6\n",
            "5\n",
            "4\n",
            "3\n",
            "2\n",
            "1\n"
          ]
        }
      ]
    },
    {
      "cell_type": "code",
      "source": [
        "n = int(input(\"Enter Table of : \"))\n",
        "i = 1\n",
        "\n",
        "while i <= 10:\n",
        "  print(n*i)\n",
        "  i = i + 1"
      ],
      "metadata": {
        "colab": {
          "base_uri": "https://localhost:8080/"
        },
        "id": "5sdnlhwZUGFw",
        "outputId": "abce9f8a-6225-4888-f8e7-f8ec6fadf599"
      },
      "execution_count": null,
      "outputs": [
        {
          "output_type": "stream",
          "name": "stdout",
          "text": [
            "Enter Table of : 4\n",
            "4\n",
            "8\n",
            "12\n",
            "16\n",
            "20\n",
            "24\n",
            "28\n",
            "32\n",
            "36\n",
            "40\n"
          ]
        }
      ]
    },
    {
      "cell_type": "code",
      "source": [
        "i = 1\n",
        "list1 = []\n",
        "\n",
        "while i <= 10:\n",
        "  list1.append(i**2)\n",
        "  i = i + 1\n",
        "\n",
        "print(list1)"
      ],
      "metadata": {
        "colab": {
          "base_uri": "https://localhost:8080/"
        },
        "id": "iub0bga6VQdC",
        "outputId": "8c51828f-b7fa-4584-93d5-1952c14090f6"
      },
      "execution_count": null,
      "outputs": [
        {
          "output_type": "stream",
          "name": "stdout",
          "text": [
            "[1, 4, 9, 16, 25, 36, 49, 64, 81, 100]\n"
          ]
        }
      ]
    },
    {
      "cell_type": "code",
      "source": [
        "list2 = [1, 4, 9, 16, 25, 36, 49, 64, 81, 100]\n",
        "i = 0\n",
        "\n",
        "while i < len(list2):\n",
        "  print(list2[i])\n",
        "  i = i + 1"
      ],
      "metadata": {
        "colab": {
          "base_uri": "https://localhost:8080/"
        },
        "id": "3GftwJ2JaBsO",
        "outputId": "9d8a62be-eadd-4788-e48f-08779469fe38"
      },
      "execution_count": null,
      "outputs": [
        {
          "output_type": "stream",
          "name": "stdout",
          "text": [
            "1\n",
            "4\n",
            "9\n",
            "16\n",
            "25\n",
            "36\n",
            "49\n",
            "64\n",
            "81\n",
            "100\n"
          ]
        }
      ]
    },
    {
      "cell_type": "code",
      "source": [
        "tup = tuple(list1)\n",
        "n = int(input(\"Enter a Value : \"))\n",
        "i = 0 #intialization\n",
        "\n",
        "while i < len(tup):\n",
        "  if (tup[i] == n):\n",
        "    print(\"Found at index : \", i)\n",
        "    break                             #used to terminate the loop when encountered\n",
        "  else:\n",
        "    print(\"finding.....!\")\n",
        "  i = i + 1"
      ],
      "metadata": {
        "colab": {
          "base_uri": "https://localhost:8080/"
        },
        "id": "jdaqeUkfW5g7",
        "outputId": "ea0e517a-77aa-401a-add8-2c98bb4631fb"
      },
      "execution_count": null,
      "outputs": [
        {
          "output_type": "stream",
          "name": "stdout",
          "text": [
            "Enter a Value : 49\n",
            "finding.....!\n",
            "finding.....!\n",
            "finding.....!\n",
            "finding.....!\n",
            "finding.....!\n",
            "finding.....!\n",
            "Found at index :  6\n"
          ]
        }
      ]
    },
    {
      "cell_type": "markdown",
      "source": [
        "## Mails by Mary\n",
        "\n",
        "#### Write a Python program for Mary to help her send emails to clients addressing their last name first, followed by their first name. For this, the program should accept the user's first and last names and thereby print them in reverse order with a space between them."
      ],
      "metadata": {
        "id": "1s-nx0lyotGx"
      }
    },
    {
      "cell_type": "code",
      "source": [
        "fname = input()\n",
        "lname = input()\n",
        "\n",
        "print(f\"Hello {lname} {fname}\")"
      ],
      "metadata": {
        "id": "31l3rGUZZC_X",
        "colab": {
          "base_uri": "https://localhost:8080/"
        },
        "outputId": "24c0b4cc-c9be-4686-c6f5-4e539d78e7e5"
      },
      "execution_count": null,
      "outputs": [
        {
          "output_type": "stream",
          "name": "stdout",
          "text": [
            "Danny\n",
            "Bonne\n",
            "Hello Bonne Danny\n"
          ]
        }
      ]
    },
    {
      "cell_type": "markdown",
      "source": [
        "## Write function to get maximum number\n",
        "\n",
        "####Write a Python function to find the Max of three numbers."
      ],
      "metadata": {
        "id": "hu_0bI_PpwBN"
      }
    },
    {
      "cell_type": "code",
      "source": [
        "def maxofthree(a, b, c):\n",
        "  if a > b and a > c:\n",
        "    return a\n",
        "  elif b > a and b > c:\n",
        "    return b\n",
        "  else:\n",
        "    return c\n",
        "\n",
        "print(maxofthree(int(input()), int(input()), int(input())))"
      ],
      "metadata": {
        "id": "q2iwPdLLogOc"
      },
      "execution_count": null,
      "outputs": []
    },
    {
      "cell_type": "markdown",
      "source": [
        "# Break and Continue Keywords\n",
        "\n",
        "#### Break : loop me jahan break likh denge wahi loop ruk jaayega\n",
        "#### Continue : Current iteration ko terminate kar deta hai & next loop par chala jata hai"
      ],
      "metadata": {
        "id": "rLuc3E-hu8h3"
      }
    },
    {
      "cell_type": "code",
      "source": [
        "i = 1\n",
        "\n",
        "while i <= 10:\n",
        "  print(i)\n",
        "  if (i == 5):\n",
        "    break\n",
        "  i = i + 1\n",
        "\n",
        "print(\"end of loop\")"
      ],
      "metadata": {
        "colab": {
          "base_uri": "https://localhost:8080/"
        },
        "id": "Ns91EBhHtQpA",
        "outputId": "dae0a9a0-5c23-4f7a-92e8-be4025a55670"
      },
      "execution_count": null,
      "outputs": [
        {
          "output_type": "stream",
          "name": "stdout",
          "text": [
            "1\n",
            "2\n",
            "3\n",
            "4\n",
            "5\n",
            "end of loop\n"
          ]
        }
      ]
    },
    {
      "cell_type": "code",
      "source": [
        "i = 0\n",
        "\n",
        "while i <= 10:\n",
        "  if i == 5:\n",
        "    i = i + 1\n",
        "    continue\n",
        "  print(i)\n",
        "  i = i + 1"
      ],
      "metadata": {
        "colab": {
          "base_uri": "https://localhost:8080/"
        },
        "id": "UJz5v49guSC_",
        "outputId": "e62e12b7-24a0-4833-934d-85c13795d8fc"
      },
      "execution_count": null,
      "outputs": [
        {
          "output_type": "stream",
          "name": "stdout",
          "text": [
            "0\n",
            "1\n",
            "2\n",
            "3\n",
            "4\n",
            "6\n",
            "7\n",
            "8\n",
            "9\n",
            "10\n"
          ]
        }
      ]
    },
    {
      "cell_type": "code",
      "source": [
        "i = 1\n",
        "\n",
        "while i <= 10:\n",
        "  if i % 2 == 0:\n",
        "    i = i + 1\n",
        "    continue\n",
        "  print(i)\n",
        "  i = i + 1"
      ],
      "metadata": {
        "colab": {
          "base_uri": "https://localhost:8080/"
        },
        "id": "zFPcBW4fvyTl",
        "outputId": "8b06e015-2098-455d-8ebc-e195fcf70819"
      },
      "execution_count": null,
      "outputs": [
        {
          "output_type": "stream",
          "name": "stdout",
          "text": [
            "1\n",
            "3\n",
            "5\n",
            "7\n",
            "9\n"
          ]
        }
      ]
    },
    {
      "cell_type": "markdown",
      "source": [
        "## Take a string as a input and print odd index as output using python\n"
      ],
      "metadata": {
        "id": "-N3BsmiHvZE-"
      }
    },
    {
      "cell_type": "code",
      "source": [
        "strng = input()\n",
        "i = 0\n",
        "leng = len(strng)-1\n",
        "\n",
        "while i <= leng:\n",
        "  if i % 2 == 0:\n",
        "    i = i + 1\n",
        "    continue\n",
        "  print(strng[i])\n",
        "  i = i + 1"
      ],
      "metadata": {
        "colab": {
          "base_uri": "https://localhost:8080/"
        },
        "id": "7wCCRX5c892F",
        "outputId": "a5c1116e-82b6-4d7e-f74c-1dc14ba93827"
      },
      "execution_count": null,
      "outputs": [
        {
          "output_type": "stream",
          "name": "stdout",
          "text": [
            "data science\n",
            "a\n",
            "a\n",
            "s\n",
            "i\n",
            "n\n",
            "e\n"
          ]
        }
      ]
    },
    {
      "cell_type": "code",
      "source": [
        "def oddindex(strng):\n",
        "  new_strng = strng[0::2]\n",
        "  return new_strng\n",
        "\n",
        "print(oddindex(input()))"
      ],
      "metadata": {
        "colab": {
          "base_uri": "https://localhost:8080/"
        },
        "id": "gHbMZEtc_H5O",
        "outputId": "3e9d7138-5ca1-4ba2-a52b-e597dced1bd7"
      },
      "execution_count": null,
      "outputs": [
        {
          "output_type": "stream",
          "name": "stdout",
          "text": [
            "data science\n",
            "dt cec\n"
          ]
        }
      ]
    },
    {
      "cell_type": "code",
      "source": [
        "for i in range(0,4,2):\n",
        "  print(i)"
      ],
      "metadata": {
        "colab": {
          "base_uri": "https://localhost:8080/"
        },
        "id": "00h8auDOBJU3",
        "outputId": "e91eac56-6d3d-4ea8-8bca-05c3340a2e0d"
      },
      "execution_count": null,
      "outputs": [
        {
          "output_type": "stream",
          "name": "stdout",
          "text": [
            "0\n",
            "2\n"
          ]
        }
      ]
    },
    {
      "cell_type": "code",
      "source": [
        "str1 = \"apnacollege\"\n",
        "\n",
        "for char in str1:\n",
        "  if char == \"e\":\n",
        "    print(\"e found\")\n",
        "    break\n",
        "  print(char)\n",
        "else:\n",
        "  print(\"End\")"
      ],
      "metadata": {
        "id": "LhvuU8k5Aovc",
        "colab": {
          "base_uri": "https://localhost:8080/"
        },
        "outputId": "2a1c64d5-5122-4b33-e648-56558d5ec46a"
      },
      "execution_count": null,
      "outputs": [
        {
          "output_type": "stream",
          "name": "stdout",
          "text": [
            "a\n",
            "p\n",
            "n\n",
            "a\n",
            "c\n",
            "o\n",
            "l\n",
            "l\n",
            "e found\n"
          ]
        }
      ]
    },
    {
      "cell_type": "markdown",
      "source": [
        "### Print the element of the following list using a loop:\n",
        "    [1, 4, 9, 16, 25, 36, 49, 64, 81, 100]"
      ],
      "metadata": {
        "id": "ZPNFI5UpOQWS"
      }
    },
    {
      "cell_type": "code",
      "source": [
        "list1 = [1, 4, 9, 16, 25, 36, 49, 64, 81, 100]\n",
        "\n",
        "for i in list1:\n",
        "  print(i)\n",
        "else:\n",
        "  print(\"end\")"
      ],
      "metadata": {
        "colab": {
          "base_uri": "https://localhost:8080/"
        },
        "id": "erfCod_PNHv-",
        "outputId": "2d802587-cfa7-4eb9-ce61-be1db425a957"
      },
      "execution_count": null,
      "outputs": [
        {
          "output_type": "stream",
          "name": "stdout",
          "text": [
            "1\n",
            "4\n",
            "9\n",
            "16\n",
            "25\n",
            "36\n",
            "49\n",
            "64\n",
            "81\n",
            "100\n",
            "end\n"
          ]
        }
      ]
    },
    {
      "cell_type": "markdown",
      "source": [
        "### Search for a number x in this tuple using loop:\n",
        "\n",
        "    (1, 4, 9, 16, 25, 36, 49, 64, 81, 100)"
      ],
      "metadata": {
        "id": "gyuCBAsTObV6"
      }
    },
    {
      "cell_type": "code",
      "source": [
        "tup1 = (1, 4, 9, 16, 25, 36, 49, 64, 81, 100, 25)\n",
        "nums = int(input())\n",
        "\n",
        "idx = 0\n",
        "\n",
        "for i in tup1:\n",
        "  if i == nums:\n",
        "    print(\"number found in tuple at idx.\", idx)\n",
        "    break\n",
        "  idx = idx + 1"
      ],
      "metadata": {
        "colab": {
          "base_uri": "https://localhost:8080/"
        },
        "id": "HPWGvVUGOacB",
        "outputId": "f149273b-ff68-4550-ffae-7f356e1a56a6"
      },
      "execution_count": null,
      "outputs": [
        {
          "output_type": "stream",
          "name": "stdout",
          "text": [
            "25\n",
            "number found in tuple at idx. 4\n"
          ]
        }
      ]
    },
    {
      "cell_type": "markdown",
      "source": [
        "### Range(start?, stop, step?)"
      ],
      "metadata": {
        "id": "UhEmfZysS0n0"
      }
    },
    {
      "cell_type": "code",
      "source": [
        "def printnum(start, stop, step):\n",
        "  for i in range(start, stop+1, step):\n",
        "    print(i)\n",
        "\n",
        "printnum(1, 101, 1)"
      ],
      "metadata": {
        "colab": {
          "base_uri": "https://localhost:8080/"
        },
        "id": "ZGqAFQ1-Zrqf",
        "outputId": "ba304efe-f041-48c9-ef71-cc93ec72b557"
      },
      "execution_count": null,
      "outputs": [
        {
          "output_type": "stream",
          "name": "stdout",
          "text": [
            "1\n",
            "2\n",
            "3\n",
            "4\n",
            "5\n",
            "6\n",
            "7\n",
            "8\n",
            "9\n",
            "10\n",
            "11\n",
            "12\n",
            "13\n",
            "14\n",
            "15\n",
            "16\n",
            "17\n",
            "18\n",
            "19\n",
            "20\n",
            "21\n",
            "22\n",
            "23\n",
            "24\n",
            "25\n",
            "26\n",
            "27\n",
            "28\n",
            "29\n",
            "30\n",
            "31\n",
            "32\n",
            "33\n",
            "34\n",
            "35\n",
            "36\n",
            "37\n",
            "38\n",
            "39\n",
            "40\n",
            "41\n",
            "42\n",
            "43\n",
            "44\n",
            "45\n",
            "46\n",
            "47\n",
            "48\n",
            "49\n",
            "50\n",
            "51\n",
            "52\n",
            "53\n",
            "54\n",
            "55\n",
            "56\n",
            "57\n",
            "58\n",
            "59\n",
            "60\n",
            "61\n",
            "62\n",
            "63\n",
            "64\n",
            "65\n",
            "66\n",
            "67\n",
            "68\n",
            "69\n",
            "70\n",
            "71\n",
            "72\n",
            "73\n",
            "74\n",
            "75\n",
            "76\n",
            "77\n",
            "78\n",
            "79\n",
            "80\n",
            "81\n",
            "82\n",
            "83\n",
            "84\n",
            "85\n",
            "86\n",
            "87\n",
            "88\n",
            "89\n",
            "90\n",
            "91\n",
            "92\n",
            "93\n",
            "94\n",
            "95\n",
            "96\n",
            "97\n",
            "98\n",
            "99\n",
            "100\n"
          ]
        }
      ]
    },
    {
      "cell_type": "code",
      "source": [
        "def rev_print(start, stop, step):\n",
        "  for i in range(start, stop, step):\n",
        "    print(i)\n",
        "\n",
        "rev_print(100, 0, -1)"
      ],
      "metadata": {
        "colab": {
          "base_uri": "https://localhost:8080/"
        },
        "id": "KjZd-x78Z20_",
        "outputId": "37b0f14d-9f4f-4bcc-e099-38145e2c5d79"
      },
      "execution_count": null,
      "outputs": [
        {
          "output_type": "stream",
          "name": "stdout",
          "text": [
            "100\n",
            "99\n",
            "98\n",
            "97\n",
            "96\n",
            "95\n",
            "94\n",
            "93\n",
            "92\n",
            "91\n",
            "90\n",
            "89\n",
            "88\n",
            "87\n",
            "86\n",
            "85\n",
            "84\n",
            "83\n",
            "82\n",
            "81\n",
            "80\n",
            "79\n",
            "78\n",
            "77\n",
            "76\n",
            "75\n",
            "74\n",
            "73\n",
            "72\n",
            "71\n",
            "70\n",
            "69\n",
            "68\n",
            "67\n",
            "66\n",
            "65\n",
            "64\n",
            "63\n",
            "62\n",
            "61\n",
            "60\n",
            "59\n",
            "58\n",
            "57\n",
            "56\n",
            "55\n",
            "54\n",
            "53\n",
            "52\n",
            "51\n",
            "50\n",
            "49\n",
            "48\n",
            "47\n",
            "46\n",
            "45\n",
            "44\n",
            "43\n",
            "42\n",
            "41\n",
            "40\n",
            "39\n",
            "38\n",
            "37\n",
            "36\n",
            "35\n",
            "34\n",
            "33\n",
            "32\n",
            "31\n",
            "30\n",
            "29\n",
            "28\n",
            "27\n",
            "26\n",
            "25\n",
            "24\n",
            "23\n",
            "22\n",
            "21\n",
            "20\n",
            "19\n",
            "18\n",
            "17\n",
            "16\n",
            "15\n",
            "14\n",
            "13\n",
            "12\n",
            "11\n",
            "10\n",
            "9\n",
            "8\n",
            "7\n",
            "6\n",
            "5\n",
            "4\n",
            "3\n",
            "2\n",
            "1\n"
          ]
        }
      ]
    },
    {
      "cell_type": "code",
      "source": [
        "def mul(a):\n",
        "  for i in range(1, 11):\n",
        "    print(f\"{a} * {i} =\", a*i)\n",
        "\n",
        "mul(int(input(\"Print table for : \")))"
      ],
      "metadata": {
        "colab": {
          "base_uri": "https://localhost:8080/"
        },
        "id": "MSZeGELfaYRr",
        "outputId": "92c43dba-7dd4-4a50-de99-c98ea7517fb5"
      },
      "execution_count": null,
      "outputs": [
        {
          "output_type": "stream",
          "name": "stdout",
          "text": [
            "Print table for : 14\n",
            "14 * 1 = 14\n",
            "14 * 2 = 28\n",
            "14 * 3 = 42\n",
            "14 * 4 = 56\n",
            "14 * 5 = 70\n",
            "14 * 6 = 84\n",
            "14 * 7 = 98\n",
            "14 * 8 = 112\n",
            "14 * 9 = 126\n",
            "14 * 10 = 140\n"
          ]
        }
      ]
    },
    {
      "cell_type": "markdown",
      "source": [
        "## Pass Statement -\n",
        "\n",
        "#### pass is a null statement that does nothing. It is used as a placeholder for future code"
      ],
      "metadata": {
        "id": "IaWN_eYWcpLx"
      }
    },
    {
      "cell_type": "code",
      "source": [
        "for i in range(5):\n",
        "  pass\n",
        "\n",
        "print(\"some useful work\")\n",
        "\n",
        "\n"
      ],
      "metadata": {
        "colab": {
          "base_uri": "https://localhost:8080/"
        },
        "id": "c2aepUV5anBM",
        "outputId": "1c5ec165-7a0c-4cbc-8511-097fca0ccd16"
      },
      "execution_count": null,
      "outputs": [
        {
          "output_type": "stream",
          "name": "stdout",
          "text": [
            "some useful work\n"
          ]
        }
      ]
    },
    {
      "cell_type": "markdown",
      "source": [
        "### WAP to find the sum of first n (natural) numbers (using while loop)"
      ],
      "metadata": {
        "id": "l55z9tXnGFDj"
      }
    },
    {
      "cell_type": "code",
      "source": [
        "list1 = [14, 16, 18, 20, 25, 78, 90, 101]\n",
        "sum = 0\n",
        "i = 0\n",
        "\n",
        "while i <= (len(list1)-1):\n",
        "  sum = sum + list1[i]\n",
        "  i += 1\n",
        "\n",
        "print(\"Sum of : \", sum)"
      ],
      "metadata": {
        "id": "jpc6uR6YdUEK",
        "colab": {
          "base_uri": "https://localhost:8080/"
        },
        "outputId": "b920f82e-fb21-4fda-ff9f-7032233fcad2"
      },
      "execution_count": null,
      "outputs": [
        {
          "output_type": "stream",
          "name": "stdout",
          "text": [
            "Sum of :  362\n"
          ]
        }
      ]
    },
    {
      "cell_type": "markdown",
      "source": [
        "### WAP to find the factorial of first n numbers (using for loop)"
      ],
      "metadata": {
        "id": "f6avp31_Aljh"
      }
    },
    {
      "cell_type": "code",
      "source": [
        "n = 4\n",
        "i = 1\n",
        "factorial = 1\n",
        "\n",
        "while i <= n:\n",
        "  factorial = factorial * i\n",
        "  i = i + 1\n",
        "\n",
        "print(\"factorial of {n}! = \", factorial)"
      ],
      "metadata": {
        "colab": {
          "base_uri": "https://localhost:8080/"
        },
        "id": "oWL00OXw_IR0",
        "outputId": "99f56ffa-a431-4dc8-96cf-fcf009919547"
      },
      "execution_count": null,
      "outputs": [
        {
          "output_type": "stream",
          "name": "stdout",
          "text": [
            "factorial of {n}! =  24\n"
          ]
        }
      ]
    },
    {
      "cell_type": "code",
      "source": [
        "n = 5\n",
        "i = 1\n",
        "factorial = 1\n",
        "\n",
        "for i in range(1, n+1):\n",
        "  factorial = factorial * i\n",
        "\n",
        "print(\"factorial of {n}! = \", factorial)"
      ],
      "metadata": {
        "colab": {
          "base_uri": "https://localhost:8080/"
        },
        "id": "Q2AYn0UJJBdM",
        "outputId": "d9fc5e93-e52f-4693-8a3e-402a5507d0b3"
      },
      "execution_count": null,
      "outputs": [
        {
          "output_type": "stream",
          "name": "stdout",
          "text": [
            "factorial of {n}! =  120\n"
          ]
        }
      ]
    },
    {
      "cell_type": "markdown",
      "source": [
        "### Largest element of list\n",
        "\n",
        "Write a Python program to get the largest number from a list."
      ],
      "metadata": {
        "id": "WZpvYAYoOyO0"
      }
    },
    {
      "cell_type": "code",
      "source": [
        "def lar_num(list1):\n",
        "  lar_num = list[0]\n",
        "  for i in list1:\n",
        "    if i > lar_num:\n",
        "      lar_num = i\n",
        "  return lar_num\n",
        "\n",
        "list1 = eval(input())\n",
        "print(lar_num(list1))"
      ],
      "metadata": {
        "colab": {
          "base_uri": "https://localhost:8080/"
        },
        "id": "A53Pf192_cfq",
        "outputId": "3d453a91-c390-4ac9-fca7-c4d70b222988"
      },
      "execution_count": null,
      "outputs": [
        {
          "output_type": "stream",
          "name": "stdout",
          "text": [
            "[1, 2, -8, 0]\n",
            "2\n"
          ]
        }
      ]
    },
    {
      "cell_type": "markdown",
      "source": [
        "### Print every nth element\n",
        "\n",
        "Write a Python program to get the every nth element in a given list."
      ],
      "metadata": {
        "id": "T8P-dO3AO4dX"
      }
    },
    {
      "cell_type": "code",
      "source": [
        "list1 = eval(input())\n",
        "n = int(input())\n",
        "new_list = []\n",
        "\n",
        "for i in range(1, len(list1), n):\n",
        "  new_list.append(list1[i])\n",
        "\n",
        "print(new_list)"
      ],
      "metadata": {
        "colab": {
          "base_uri": "https://localhost:8080/"
        },
        "id": "1yqql2kwLOBd",
        "outputId": "05c4d456-ecac-4fb3-d6d7-b35b8be15ffd"
      },
      "execution_count": null,
      "outputs": [
        {
          "output_type": "stream",
          "name": "stdout",
          "text": [
            "[1, 2, 3, 4, 5, 6, 7, 8, 9, 10]\n",
            "2\n",
            "[2, 4, 6, 8, 10]\n"
          ]
        }
      ]
    },
    {
      "cell_type": "code",
      "source": [
        "a = [14, 15, 16, 20, 25]\n",
        "total = sum(a)              #Use a different variable name to store the result\n",
        "print(total)"
      ],
      "metadata": {
        "colab": {
          "base_uri": "https://localhost:8080/",
          "height": 176
        },
        "id": "xSwLR-5oPX6d",
        "outputId": "390e3363-64f2-41b0-c858-2d20c644e0c2"
      },
      "execution_count": null,
      "outputs": [
        {
          "output_type": "error",
          "ename": "TypeError",
          "evalue": "'int' object is not callable",
          "traceback": [
            "\u001b[0;31m---------------------------------------------------------------------------\u001b[0m",
            "\u001b[0;31mTypeError\u001b[0m                                 Traceback (most recent call last)",
            "\u001b[0;32m<ipython-input-36-ba9102e65f9a>\u001b[0m in \u001b[0;36m<cell line: 2>\u001b[0;34m()\u001b[0m\n\u001b[1;32m      1\u001b[0m \u001b[0ma\u001b[0m \u001b[0;34m=\u001b[0m \u001b[0;34m[\u001b[0m\u001b[0;36m14\u001b[0m\u001b[0;34m,\u001b[0m \u001b[0;36m15\u001b[0m\u001b[0;34m,\u001b[0m \u001b[0;36m16\u001b[0m\u001b[0;34m,\u001b[0m \u001b[0;36m20\u001b[0m\u001b[0;34m,\u001b[0m \u001b[0;36m25\u001b[0m\u001b[0;34m]\u001b[0m\u001b[0;34m\u001b[0m\u001b[0;34m\u001b[0m\u001b[0m\n\u001b[0;32m----> 2\u001b[0;31m \u001b[0mtotal\u001b[0m \u001b[0;34m=\u001b[0m \u001b[0msum\u001b[0m\u001b[0;34m(\u001b[0m\u001b[0ma\u001b[0m\u001b[0;34m)\u001b[0m             \u001b[0;31m# Use a different variable name to store the result\u001b[0m\u001b[0;34m\u001b[0m\u001b[0;34m\u001b[0m\u001b[0m\n\u001b[0m\u001b[1;32m      3\u001b[0m \u001b[0mprint\u001b[0m\u001b[0;34m(\u001b[0m\u001b[0mtotal\u001b[0m\u001b[0;34m)\u001b[0m\u001b[0;34m\u001b[0m\u001b[0;34m\u001b[0m\u001b[0m\n",
            "\u001b[0;31mTypeError\u001b[0m: 'int' object is not callable"
          ]
        }
      ]
    },
    {
      "cell_type": "markdown",
      "source": [
        "### Which method can be used to check if a list contains a specific element in Python?\n",
        "\n",
        "\n"
      ],
      "metadata": {
        "id": "Bu6ye4MSbeNt"
      }
    },
    {
      "cell_type": "code",
      "source": [
        "i = 0\n",
        "while i < 5:\n",
        "    if i % 2 == 0:\n",
        "        print(i)\n",
        "    i += 1"
      ],
      "metadata": {
        "colab": {
          "base_uri": "https://localhost:8080/"
        },
        "id": "K-ZpkEg4T9UO",
        "outputId": "91af9f0a-0cfb-469e-8176-247de5cb9e6c"
      },
      "execution_count": null,
      "outputs": [
        {
          "output_type": "stream",
          "name": "stdout",
          "text": [
            "0\n",
            "2\n",
            "4\n"
          ]
        }
      ]
    },
    {
      "cell_type": "code",
      "source": [
        "for i in range(3, 10, 2):\n",
        "    print(i)"
      ],
      "metadata": {
        "colab": {
          "base_uri": "https://localhost:8080/"
        },
        "id": "qgCdDjRtbovT",
        "outputId": "71fb8e75-bf13-4ec9-c9f4-3f7dd6278d67"
      },
      "execution_count": null,
      "outputs": [
        {
          "output_type": "stream",
          "name": "stdout",
          "text": [
            "3\n",
            "5\n",
            "7\n",
            "9\n"
          ]
        }
      ]
    },
    {
      "cell_type": "code",
      "source": [
        "list1 = [9,8,7]\n",
        "result = list1 * 2\n",
        "print(result)"
      ],
      "metadata": {
        "colab": {
          "base_uri": "https://localhost:8080/"
        },
        "id": "paUeEoL6cQqA",
        "outputId": "0f4c1005-abf9-4d4d-8249-f2ea74b8c781"
      },
      "execution_count": null,
      "outputs": [
        {
          "output_type": "stream",
          "name": "stdout",
          "text": [
            "[9, 8, 7, 9, 8, 7]\n"
          ]
        }
      ]
    },
    {
      "cell_type": "code",
      "source": [
        "my_list = ['cat', 'dog', 'bear', \"Dog\"]\n",
        "print(max(my_list))"
      ],
      "metadata": {
        "colab": {
          "base_uri": "https://localhost:8080/"
        },
        "id": "W8KQfRTMcgkX",
        "outputId": "8de2ef6d-2b4d-41bb-f88a-feba51489409"
      },
      "execution_count": null,
      "outputs": [
        {
          "output_type": "stream",
          "name": "stdout",
          "text": [
            "dog\n"
          ]
        }
      ]
    },
    {
      "cell_type": "code",
      "source": [
        "x = -5\n",
        "y = 10\n",
        "if x > 0:\n",
        "    if y > 0:\n",
        "        print(\"x and y are both positive\")\n",
        "    else:\n",
        "        print(\"x is positive and y is non-positive\")\n",
        "else:\n",
        "    print(\"x is non-positive\")"
      ],
      "metadata": {
        "colab": {
          "base_uri": "https://localhost:8080/"
        },
        "id": "F1fBPlvecl5d",
        "outputId": "aeb196c8-445e-4a00-f5bc-d3ad15a70375"
      },
      "execution_count": null,
      "outputs": [
        {
          "output_type": "stream",
          "name": "stdout",
          "text": [
            "x is non-positive\n"
          ]
        }
      ]
    },
    {
      "cell_type": "code",
      "source": [
        "dict1 = {\"a\" : 2, \"b\" : 3}\n",
        "value = dict1.get(\"c\", 4)\n",
        "print(value)"
      ],
      "metadata": {
        "colab": {
          "base_uri": "https://localhost:8080/"
        },
        "id": "1I3Yi2J-c78z",
        "outputId": "710dca88-cb1c-4b05-bbea-a46dcd96074c"
      },
      "execution_count": null,
      "outputs": [
        {
          "output_type": "stream",
          "name": "stdout",
          "text": [
            "4\n"
          ]
        }
      ]
    },
    {
      "cell_type": "code",
      "source": [
        "x = 5\n",
        "y = \"5\"\n",
        "if x == y:\n",
        "    print(\"x is equal to y\")\n",
        "else:\n",
        "    print(\"x is not equal to y\")"
      ],
      "metadata": {
        "colab": {
          "base_uri": "https://localhost:8080/"
        },
        "id": "xdhQEf34d56n",
        "outputId": "8ab5069f-4d3c-499f-b8e1-3ba203c1e7ec"
      },
      "execution_count": null,
      "outputs": [
        {
          "output_type": "stream",
          "name": "stdout",
          "text": [
            "x is not equal to y\n"
          ]
        }
      ]
    },
    {
      "cell_type": "code",
      "source": [
        "my_list = ['cat', 'dog', 'bear', \"Dog\"]\n",
        "my_list[::-2]"
      ],
      "metadata": {
        "colab": {
          "base_uri": "https://localhost:8080/"
        },
        "id": "ZBFeIFxmfjWs",
        "outputId": "45262fe3-a383-4a5d-bd7e-fab52363400f"
      },
      "execution_count": null,
      "outputs": [
        {
          "output_type": "execute_result",
          "data": {
            "text/plain": [
              "['Dog', 'dog']"
            ]
          },
          "metadata": {},
          "execution_count": 64
        }
      ]
    },
    {
      "cell_type": "code",
      "source": [
        "list1 = [1, 2, 3, 4, 5]\n",
        "print(list1[3:])"
      ],
      "metadata": {
        "colab": {
          "base_uri": "https://localhost:8080/"
        },
        "id": "JN9okdiwfwEf",
        "outputId": "f9813e3f-2c88-4c18-dcc9-6b8cb7fdde62"
      },
      "execution_count": null,
      "outputs": [
        {
          "output_type": "stream",
          "name": "stdout",
          "text": [
            "[4, 5]\n"
          ]
        }
      ]
    },
    {
      "cell_type": "code",
      "source": [
        "x=1\n",
        "\n",
        "y=1\n",
        "\n",
        "a = (x/(x+y)*x)*(x+y)\n",
        "\n",
        "print(a)"
      ],
      "metadata": {
        "colab": {
          "base_uri": "https://localhost:8080/"
        },
        "id": "oG80O6VogZwj",
        "outputId": "05e7cb0a-2786-44ed-df4c-42e908889ed7"
      },
      "execution_count": null,
      "outputs": [
        {
          "output_type": "stream",
          "name": "stdout",
          "text": [
            "1.0\n"
          ]
        }
      ]
    },
    {
      "cell_type": "code",
      "source": [
        "for i in range(1, 6):\n",
        "    if i % 2 == 0:\n",
        "        continue\n",
        "    print(i)"
      ],
      "metadata": {
        "colab": {
          "base_uri": "https://localhost:8080/"
        },
        "id": "8IFZOOmRgrI2",
        "outputId": "61b03c8e-071f-4165-ada2-c8d6cf4f57f9"
      },
      "execution_count": null,
      "outputs": [
        {
          "output_type": "stream",
          "name": "stdout",
          "text": [
            "1\n",
            "3\n",
            "5\n"
          ]
        }
      ]
    },
    {
      "cell_type": "code",
      "source": [
        "my_list = [5, 2, 7, 1, 9]\n",
        "print(max(my_list))"
      ],
      "metadata": {
        "colab": {
          "base_uri": "https://localhost:8080/"
        },
        "id": "5glBsy59hEVi",
        "outputId": "be2a6a28-2767-44db-ee9f-53f62d2ffd02"
      },
      "execution_count": null,
      "outputs": [
        {
          "output_type": "stream",
          "name": "stdout",
          "text": [
            "9\n"
          ]
        }
      ]
    },
    {
      "cell_type": "code",
      "source": [
        "print(3**4)"
      ],
      "metadata": {
        "colab": {
          "base_uri": "https://localhost:8080/"
        },
        "id": "ofFylATUhOhN",
        "outputId": "428d2fc5-0535-46dc-e287-5e0595cc6698"
      },
      "execution_count": null,
      "outputs": [
        {
          "output_type": "stream",
          "name": "stdout",
          "text": [
            "81\n"
          ]
        }
      ]
    },
    {
      "cell_type": "code",
      "source": [
        "my_dict = {\"a\": 1, \"b\": 2, \"c\": 3}\n",
        "print(my_dict.get(\"d\", 0))"
      ],
      "metadata": {
        "colab": {
          "base_uri": "https://localhost:8080/"
        },
        "id": "jRa-e91ghSnl",
        "outputId": "af9c9d4c-703a-47d6-d4dc-2775a949dfd5"
      },
      "execution_count": null,
      "outputs": [
        {
          "output_type": "stream",
          "name": "stdout",
          "text": [
            "0\n"
          ]
        }
      ]
    },
    {
      "cell_type": "code",
      "source": [
        "my_dict = {\"red\": 2, \"blue\": 3, \"green\": 4}\n",
        "del my_dict[\"red\"]\n",
        "print(my_dict)"
      ],
      "metadata": {
        "colab": {
          "base_uri": "https://localhost:8080/"
        },
        "id": "NWcr1Hy5haCB",
        "outputId": "1b29e017-eb71-4024-f7ee-dc182c9ed240"
      },
      "execution_count": null,
      "outputs": [
        {
          "output_type": "stream",
          "name": "stdout",
          "text": [
            "{'blue': 3, 'green': 4}\n"
          ]
        }
      ]
    },
    {
      "cell_type": "code",
      "source": [
        "x = 10\n",
        "if x < 5:\n",
        "    print(\"x is less than 5\")\n",
        "elif x > 15:\n",
        "    print(\"x is greater than 15\")\n",
        "else:\n",
        "    print(\"x is between 5 and 15\")"
      ],
      "metadata": {
        "colab": {
          "base_uri": "https://localhost:8080/"
        },
        "id": "80JQUTg3hhMs",
        "outputId": "e2d07af7-56ab-4de9-e1fb-03b566d7b979"
      },
      "execution_count": null,
      "outputs": [
        {
          "output_type": "stream",
          "name": "stdout",
          "text": [
            "x is between 5 and 15\n"
          ]
        }
      ]
    },
    {
      "cell_type": "code",
      "source": [
        "score = 85\n",
        "if score >= 90:\n",
        "    grade = \"A\"\n",
        "elif score >= 80:\n",
        "    grade = \"B\"\n",
        "else:\n",
        "    grade = \"C\"\n"
      ],
      "metadata": {
        "id": "dpy6P4hZhrbl"
      },
      "execution_count": null,
      "outputs": []
    },
    {
      "cell_type": "code",
      "source": [
        "i = 0\n",
        "while i < 5:\n",
        "   print(i)\n",
        "   i+=1"
      ],
      "metadata": {
        "colab": {
          "base_uri": "https://localhost:8080/"
        },
        "id": "pMDFYjUhiBCT",
        "outputId": "81668964-ef48-4b37-8189-681853732d26"
      },
      "execution_count": null,
      "outputs": [
        {
          "output_type": "stream",
          "name": "stdout",
          "text": [
            "0\n",
            "1\n",
            "2\n",
            "3\n",
            "4\n"
          ]
        }
      ]
    },
    {
      "cell_type": "code",
      "source": [
        "sentence=\"Data Science is a pretty interesting subject\"\n",
        "\n",
        "print(type(\"sentence\"))"
      ],
      "metadata": {
        "colab": {
          "base_uri": "https://localhost:8080/"
        },
        "id": "0bDLrY4EiOe8",
        "outputId": "6635c730-8afd-44ea-9989-74234995ba0a"
      },
      "execution_count": null,
      "outputs": [
        {
          "output_type": "stream",
          "name": "stdout",
          "text": [
            "<class 'str'>\n"
          ]
        }
      ]
    },
    {
      "cell_type": "code",
      "source": [
        "sentence=(\"My name is Ami. Ami is my friend. Ami loves to play guitar\")\n",
        "print(sentence.count('Ami'))"
      ],
      "metadata": {
        "colab": {
          "base_uri": "https://localhost:8080/"
        },
        "id": "20R__PM1jTgc",
        "outputId": "a5c2cfc9-7beb-4687-abff-b93ad67d2fa2"
      },
      "execution_count": null,
      "outputs": [
        {
          "output_type": "stream",
          "name": "stdout",
          "text": [
            "3\n"
          ]
        }
      ]
    },
    {
      "cell_type": "code",
      "source": [
        "tuple1 = (1, 2, 3, 4, 5)\n",
        "print(tuple1[3:6])"
      ],
      "metadata": {
        "colab": {
          "base_uri": "https://localhost:8080/"
        },
        "id": "E7E0QkirjZzt",
        "outputId": "cb811528-f780-490e-d02a-f324f20f76b8"
      },
      "execution_count": null,
      "outputs": [
        {
          "output_type": "stream",
          "name": "stdout",
          "text": [
            "(4, 5)\n"
          ]
        }
      ]
    },
    {
      "cell_type": "code",
      "source": [
        "numbers = [1, 2, 3, 4, 5]\n",
        "for number in numbers:\n",
        "    if number == 3:\n",
        "        continue\n",
        "    print(number)"
      ],
      "metadata": {
        "colab": {
          "base_uri": "https://localhost:8080/"
        },
        "id": "pvJCXwIGj1u3",
        "outputId": "d16d9882-fb84-4e5a-e38d-3492c6488211"
      },
      "execution_count": null,
      "outputs": [
        {
          "output_type": "stream",
          "name": "stdout",
          "text": [
            "1\n",
            "2\n",
            "4\n",
            "5\n"
          ]
        }
      ]
    },
    {
      "cell_type": "code",
      "source": [
        "for i in range(10):\n",
        "    if i % 3 == 0:\n",
        "        continue\n",
        "    print(i)"
      ],
      "metadata": {
        "colab": {
          "base_uri": "https://localhost:8080/"
        },
        "id": "qQ3SUHyMkAy0",
        "outputId": "4079088c-dcb1-47f7-ecea-d0de487f6a8d"
      },
      "execution_count": null,
      "outputs": [
        {
          "output_type": "stream",
          "name": "stdout",
          "text": [
            "1\n",
            "2\n",
            "4\n",
            "5\n",
            "7\n",
            "8\n"
          ]
        }
      ]
    },
    {
      "cell_type": "code",
      "source": [
        "i = 10\n",
        "while i > 0:\n",
        "    print(i)\n",
        "    i -= 2"
      ],
      "metadata": {
        "colab": {
          "base_uri": "https://localhost:8080/"
        },
        "id": "GMW77R0MkVy2",
        "outputId": "d6646fb7-affa-4f9a-9388-9d887221b67a"
      },
      "execution_count": null,
      "outputs": [
        {
          "output_type": "stream",
          "name": "stdout",
          "text": [
            "10\n",
            "8\n",
            "6\n",
            "4\n",
            "2\n"
          ]
        }
      ]
    },
    {
      "cell_type": "code",
      "source": [
        "print(list(range(3)))"
      ],
      "metadata": {
        "colab": {
          "base_uri": "https://localhost:8080/"
        },
        "id": "tLoUNkNIkVc9",
        "outputId": "85d80eef-4378-4017-b7e0-688a48889c41"
      },
      "execution_count": null,
      "outputs": [
        {
          "output_type": "stream",
          "name": "stdout",
          "text": [
            "[0, 1, 2]\n"
          ]
        }
      ]
    },
    {
      "cell_type": "code",
      "source": [
        "tuple1=(10,20,30,40,50)\n",
        "print(tuple1[-3:])"
      ],
      "metadata": {
        "colab": {
          "base_uri": "https://localhost:8080/"
        },
        "id": "cnF-bzEBkk8v",
        "outputId": "23dfbbcc-6909-4d95-ab8c-e7309431d055"
      },
      "execution_count": null,
      "outputs": [
        {
          "output_type": "stream",
          "name": "stdout",
          "text": [
            "(30, 40, 50)\n"
          ]
        }
      ]
    },
    {
      "cell_type": "code",
      "source": [
        "languages=[\"Python\", \"Java\", \"C\", \"C++\"]\n",
        "for language in languages:\n",
        "    print(language)"
      ],
      "metadata": {
        "colab": {
          "base_uri": "https://localhost:8080/"
        },
        "id": "Cgr9NDdNlTlL",
        "outputId": "9ccce3b9-87fb-4989-8912-d8c1c482c42a"
      },
      "execution_count": null,
      "outputs": [
        {
          "output_type": "stream",
          "name": "stdout",
          "text": [
            "Python\n",
            "Java\n",
            "C\n",
            "C++\n"
          ]
        }
      ]
    },
    {
      "cell_type": "code",
      "source": [
        "print(len(\"Pseudopodia\"))\n",
        "\n"
      ],
      "metadata": {
        "colab": {
          "base_uri": "https://localhost:8080/"
        },
        "id": "zCFyvED-liqi",
        "outputId": "3e065f80-304d-45dc-8ade-2632b47fed07"
      },
      "execution_count": null,
      "outputs": [
        {
          "output_type": "stream",
          "name": "stdout",
          "text": [
            "11\n"
          ]
        }
      ]
    },
    {
      "cell_type": "code",
      "source": [
        "my_dict = {\"a\": 1, \"b\": 2, \"c\": 3}\n",
        "print(my_dict.keys())"
      ],
      "metadata": {
        "colab": {
          "base_uri": "https://localhost:8080/"
        },
        "id": "U-hHFd2XloJQ",
        "outputId": "c062781f-bfd8-4326-f17b-f06cbbce5ca2"
      },
      "execution_count": null,
      "outputs": [
        {
          "output_type": "stream",
          "name": "stdout",
          "text": [
            "dict_keys(['a', 'b', 'c'])\n"
          ]
        }
      ]
    },
    {
      "cell_type": "code",
      "source": [
        "count = 0\n",
        "while count < 5:\n",
        "    print(count)\n",
        "    count += 1"
      ],
      "metadata": {
        "colab": {
          "base_uri": "https://localhost:8080/"
        },
        "id": "RKcFpf0Xlw8V",
        "outputId": "ff0cfc88-5b9f-4fd8-ba06-251a317437d3"
      },
      "execution_count": null,
      "outputs": [
        {
          "output_type": "stream",
          "name": "stdout",
          "text": [
            "0\n",
            "1\n",
            "2\n",
            "3\n",
            "4\n"
          ]
        }
      ]
    },
    {
      "cell_type": "code",
      "source": [
        "for i in range(2):\n",
        "    for j in range(2, 4):\n",
        "        print(i+j)"
      ],
      "metadata": {
        "colab": {
          "base_uri": "https://localhost:8080/"
        },
        "id": "wqwhImfvl24u",
        "outputId": "019ba6c1-fe3c-4024-b93b-464353c151c6"
      },
      "execution_count": null,
      "outputs": [
        {
          "output_type": "stream",
          "name": "stdout",
          "text": [
            "2\n",
            "3\n",
            "3\n",
            "4\n"
          ]
        }
      ]
    },
    {
      "cell_type": "code",
      "source": [
        "numbers = [1, 2, 3, 4, 5]\n",
        "for num in numbers:\n",
        "    if num == 3:\n",
        "        break\n",
        "    print(num)"
      ],
      "metadata": {
        "colab": {
          "base_uri": "https://localhost:8080/"
        },
        "id": "35bLSAhEmIWE",
        "outputId": "50b8216a-9c67-48c2-cdcf-98d8ee16d416"
      },
      "execution_count": null,
      "outputs": [
        {
          "output_type": "stream",
          "name": "stdout",
          "text": [
            "1\n",
            "2\n"
          ]
        }
      ]
    },
    {
      "cell_type": "code",
      "source": [
        "my_list = [1, 2, 3, 4, 5]\n",
        "print(my_list[1:4:2])"
      ],
      "metadata": {
        "colab": {
          "base_uri": "https://localhost:8080/"
        },
        "id": "SRQooQIBmlQg",
        "outputId": "7540cd06-d632-46fe-aa15-e3242c1fd4b5"
      },
      "execution_count": null,
      "outputs": [
        {
          "output_type": "stream",
          "name": "stdout",
          "text": [
            "[2, 4]\n"
          ]
        }
      ]
    },
    {
      "cell_type": "code",
      "source": [
        "len(\"Almabetter\")\n",
        "\n"
      ],
      "metadata": {
        "colab": {
          "base_uri": "https://localhost:8080/"
        },
        "id": "7ZA6AuRYmlrE",
        "outputId": "4a6e7c7d-e6e8-4866-d679-323af9844387"
      },
      "execution_count": null,
      "outputs": [
        {
          "output_type": "execute_result",
          "data": {
            "text/plain": [
              "10"
            ]
          },
          "metadata": {},
          "execution_count": 99
        }
      ]
    },
    {
      "cell_type": "code",
      "source": [
        "sentence=(\"Data Science\")\n",
        "sentence.count('Data')"
      ],
      "metadata": {
        "colab": {
          "base_uri": "https://localhost:8080/"
        },
        "id": "E89_N3g1m1Et",
        "outputId": "ef6499f6-544f-43ec-bf34-a6bcfe2d2584"
      },
      "execution_count": null,
      "outputs": [
        {
          "output_type": "execute_result",
          "data": {
            "text/plain": [
              "1"
            ]
          },
          "metadata": {},
          "execution_count": 100
        }
      ]
    },
    {
      "cell_type": "code",
      "source": [
        "sentence=\"Data Science is an interesting course\"\n",
        "print(\"interesting\" in sentence)"
      ],
      "metadata": {
        "colab": {
          "base_uri": "https://localhost:8080/"
        },
        "id": "-Y5ExGz8m5Zr",
        "outputId": "fd8a3834-a2bc-4220-ea1d-3b46ef35081b"
      },
      "execution_count": null,
      "outputs": [
        {
          "output_type": "stream",
          "name": "stdout",
          "text": [
            "True\n"
          ]
        }
      ]
    },
    {
      "cell_type": "code",
      "source": [
        "my_dict = {\"red\": 2, \"blue\": 3, \"green\": 4}\n",
        "print(len(my_dict))"
      ],
      "metadata": {
        "colab": {
          "base_uri": "https://localhost:8080/"
        },
        "id": "_ULCfvPDm_JW",
        "outputId": "8499c5be-86ef-45c3-b50c-0c4e5f4cb7ac"
      },
      "execution_count": null,
      "outputs": [
        {
          "output_type": "stream",
          "name": "stdout",
          "text": [
            "3\n"
          ]
        }
      ]
    },
    {
      "cell_type": "code",
      "source": [
        "my_list = [3, 7, 1, 5, 2]\n",
        "print(sorted(my_list))"
      ],
      "metadata": {
        "colab": {
          "base_uri": "https://localhost:8080/"
        },
        "id": "G-L8wNB3nZDH",
        "outputId": "877d2c95-e857-40f1-de00-72414d10b39f"
      },
      "execution_count": null,
      "outputs": [
        {
          "output_type": "stream",
          "name": "stdout",
          "text": [
            "[1, 2, 3, 5, 7]\n"
          ]
        }
      ]
    },
    {
      "cell_type": "code",
      "source": [
        "print(\"Almabetter\")"
      ],
      "metadata": {
        "colab": {
          "base_uri": "https://localhost:8080/"
        },
        "id": "t__2GT5MnvCN",
        "outputId": "09021bb2-882d-4661-c600-d572711dd161"
      },
      "execution_count": null,
      "outputs": [
        {
          "output_type": "stream",
          "name": "stdout",
          "text": [
            "Almabetter\n"
          ]
        }
      ]
    },
    {
      "cell_type": "code",
      "source": [
        "numbers = [1, 2, 3, 4, 5]\n",
        "new_numbers = []\n",
        "for num in numbers:\n",
        "    new_numbers.append(num * 2)\n",
        "print(new_numbers)"
      ],
      "metadata": {
        "colab": {
          "base_uri": "https://localhost:8080/"
        },
        "id": "VAoxsxjOn9ZT",
        "outputId": "f4f9d7ec-c19c-44e2-d3c4-d529337a2de0"
      },
      "execution_count": null,
      "outputs": [
        {
          "output_type": "stream",
          "name": "stdout",
          "text": [
            "[2, 4, 6, 8, 10]\n"
          ]
        }
      ]
    },
    {
      "cell_type": "code",
      "source": [
        "x = 5\n",
        "y = 5\n",
        "if x > y:\n",
        "    print(\"x is greater than y\")\n",
        "elif x == y:\n",
        "    print(\"x is equal to y\")\n",
        "else:\n",
        "    print(\"y is greater than x\")"
      ],
      "metadata": {
        "colab": {
          "base_uri": "https://localhost:8080/"
        },
        "id": "DTK-68jWpCrY",
        "outputId": "bdc73419-bc80-46d4-cc8a-051e6625f428"
      },
      "execution_count": null,
      "outputs": [
        {
          "output_type": "stream",
          "name": "stdout",
          "text": [
            "x is equal to y\n"
          ]
        }
      ]
    },
    {
      "cell_type": "code",
      "source": [
        "string1 = \"Data\"\n",
        "string2 = \"Science\"\n",
        "result = string1 + \" \" + string2\n",
        "print(result)"
      ],
      "metadata": {
        "colab": {
          "base_uri": "https://localhost:8080/"
        },
        "id": "CeouXuIHpWwi",
        "outputId": "2dd85177-e2f5-4f4a-e862-21c7655ac758"
      },
      "execution_count": null,
      "outputs": [
        {
          "output_type": "stream",
          "name": "stdout",
          "text": [
            "Data Science\n"
          ]
        }
      ]
    },
    {
      "cell_type": "code",
      "source": [
        "x = 10\n",
        "y = 5\n",
        "if x > y:\n",
        "  print(\"x is greater than y\")\n",
        "else:\n",
        "  print(\"y is greater than x\")"
      ],
      "metadata": {
        "colab": {
          "base_uri": "https://localhost:8080/"
        },
        "id": "l-lzLTqep3tT",
        "outputId": "9fb23abb-b3e5-4282-b740-e9ad456ce4cc"
      },
      "execution_count": null,
      "outputs": [
        {
          "output_type": "stream",
          "name": "stdout",
          "text": [
            "x is greater than y\n"
          ]
        }
      ]
    },
    {
      "cell_type": "code",
      "source": [
        "for i in range(1, 6):\n",
        "    if i % 2 == 0:\n",
        "        print(i)"
      ],
      "metadata": {
        "colab": {
          "base_uri": "https://localhost:8080/"
        },
        "id": "pjJ4_Rh1qDcX",
        "outputId": "392fc4da-5551-4724-f7ce-14f7ea0ddae8"
      },
      "execution_count": null,
      "outputs": [
        {
          "output_type": "stream",
          "name": "stdout",
          "text": [
            "2\n",
            "4\n"
          ]
        }
      ]
    },
    {
      "cell_type": "code",
      "source": [
        "print(4+10/5)"
      ],
      "metadata": {
        "colab": {
          "base_uri": "https://localhost:8080/"
        },
        "id": "-hn27dePqJuQ",
        "outputId": "b140bd63-8986-4534-f8a5-08fcdeca297b"
      },
      "execution_count": null,
      "outputs": [
        {
          "output_type": "stream",
          "name": "stdout",
          "text": [
            "6.0\n"
          ]
        }
      ]
    },
    {
      "cell_type": "code",
      "source": [
        "list1=[1,2,3,4,5]\n",
        "print(list1[1])"
      ],
      "metadata": {
        "colab": {
          "base_uri": "https://localhost:8080/"
        },
        "id": "1fwxNo78qTLb",
        "outputId": "c7745191-7034-47f7-d119-5549f9cd008e"
      },
      "execution_count": null,
      "outputs": [
        {
          "output_type": "stream",
          "name": "stdout",
          "text": [
            "2\n"
          ]
        },
        {
          "output_type": "execute_result",
          "data": {
            "text/plain": [
              "15"
            ]
          },
          "metadata": {},
          "execution_count": 1
        }
      ]
    },
    {
      "cell_type": "code",
      "source": [
        "sum(list1)"
      ],
      "metadata": {
        "colab": {
          "base_uri": "https://localhost:8080/"
        },
        "id": "Xx_OAjrpZ8Ee",
        "outputId": "8a902bfc-951b-4679-ca7a-3c595ffd91cc"
      },
      "execution_count": null,
      "outputs": [
        {
          "output_type": "execute_result",
          "data": {
            "text/plain": [
              "15"
            ]
          },
          "metadata": {},
          "execution_count": 2
        }
      ]
    },
    {
      "cell_type": "code",
      "source": [
        "str1 = \"AlmaBetter is a good place\"\n",
        "str1.split(\" \")"
      ],
      "metadata": {
        "colab": {
          "base_uri": "https://localhost:8080/"
        },
        "id": "AwvlnyntqaTt",
        "outputId": "e8e8f7f8-6f1c-4245-e5c8-7128a0c0cb47"
      },
      "execution_count": null,
      "outputs": [
        {
          "output_type": "execute_result",
          "data": {
            "text/plain": [
              "['AlmaBetter', 'is', 'a', 'good', 'place']"
            ]
          },
          "metadata": {},
          "execution_count": 120
        }
      ]
    },
    {
      "cell_type": "code",
      "source": [
        "a=10\n",
        "b=3\n",
        "print(a*b-b)\n"
      ],
      "metadata": {
        "colab": {
          "base_uri": "https://localhost:8080/"
        },
        "id": "3CDxIenOqr5A",
        "outputId": "032d00c4-419f-4cd9-ed56-6b4a3e9a6989"
      },
      "execution_count": null,
      "outputs": [
        {
          "output_type": "stream",
          "name": "stdout",
          "text": [
            "27\n"
          ]
        }
      ]
    },
    {
      "cell_type": "code",
      "source": [
        "x = 10\n",
        "if x > 5:\n",
        "    if x > 8:\n",
        "        print(\"x is greater than 8\")\n",
        "    else:\n",
        "        print(\"x is greater than 5 but less than or equal to 8\")\n",
        "else:\n",
        "    print(\"x is less than or equal to 5\")"
      ],
      "metadata": {
        "colab": {
          "base_uri": "https://localhost:8080/"
        },
        "id": "UFTY0oQZrHMr",
        "outputId": "3ac53188-7035-46c2-cb07-0f435c307f2e"
      },
      "execution_count": null,
      "outputs": [
        {
          "output_type": "stream",
          "name": "stdout",
          "text": [
            "x is greater than 8\n"
          ]
        }
      ]
    },
    {
      "cell_type": "code",
      "source": [
        "my_set = {1, 2, 3, 4, 5}\n",
        "my_set.clear()\n",
        "print(len(my_set))"
      ],
      "metadata": {
        "id": "u-dS1tbvrS36",
        "colab": {
          "base_uri": "https://localhost:8080/"
        },
        "outputId": "834efcfe-e9f1-4678-d5c2-63ce659cde33"
      },
      "execution_count": null,
      "outputs": [
        {
          "output_type": "stream",
          "name": "stdout",
          "text": [
            "0\n"
          ]
        }
      ]
    },
    {
      "cell_type": "code",
      "source": [
        "list1 = [1,1,0,1,0]\n",
        "print(sum(list1))"
      ],
      "metadata": {
        "colab": {
          "base_uri": "https://localhost:8080/"
        },
        "id": "_4lizq0VfkHB",
        "outputId": "09596aa7-4d38-4362-a53e-2b701b406ea7"
      },
      "execution_count": null,
      "outputs": [
        {
          "output_type": "stream",
          "name": "stdout",
          "text": [
            "3\n"
          ]
        }
      ]
    },
    {
      "cell_type": "code",
      "source": [
        "x = 10\n",
        "y = 5\n",
        "if x > y and x > 0:\n",
        "    print(\"x is greater than y and positive\")\n"
      ],
      "metadata": {
        "colab": {
          "base_uri": "https://localhost:8080/"
        },
        "id": "3d-Ilk8nfxkm",
        "outputId": "f0af8964-b088-431e-ead5-7434ef808527"
      },
      "execution_count": null,
      "outputs": [
        {
          "output_type": "stream",
          "name": "stdout",
          "text": [
            "x is greater than y and positive\n"
          ]
        }
      ]
    },
    {
      "cell_type": "code",
      "source": [
        "set_a = {1,2,6}\n",
        "set_b = {1,2,8}\n",
        "print(set_a - set_b)"
      ],
      "metadata": {
        "colab": {
          "base_uri": "https://localhost:8080/"
        },
        "id": "auIg2kJYgOdw",
        "outputId": "6373499a-c43d-4f0b-ee53-7f763f838354"
      },
      "execution_count": null,
      "outputs": [
        {
          "output_type": "stream",
          "name": "stdout",
          "text": [
            "{6}\n"
          ]
        }
      ]
    },
    {
      "cell_type": "code",
      "source": [
        "string=\"Almabetter!\"\n",
        "print(string[-1])"
      ],
      "metadata": {
        "colab": {
          "base_uri": "https://localhost:8080/"
        },
        "id": "8k36RT6nghKc",
        "outputId": "bfad8060-36aa-41e9-ce10-048266c6ac81"
      },
      "execution_count": null,
      "outputs": [
        {
          "output_type": "stream",
          "name": "stdout",
          "text": [
            "!\n"
          ]
        }
      ]
    },
    {
      "cell_type": "code",
      "source": [
        "numbers = [1, 2, 3, 4, 5]\n",
        "for number in numbers:\n",
        "    print(number)"
      ],
      "metadata": {
        "colab": {
          "base_uri": "https://localhost:8080/"
        },
        "id": "vX-ljsWngtCG",
        "outputId": "57db43b9-42e3-4d21-aaba-ab8f6a22dd8b"
      },
      "execution_count": null,
      "outputs": [
        {
          "output_type": "stream",
          "name": "stdout",
          "text": [
            "1\n",
            "2\n",
            "3\n",
            "4\n",
            "5\n"
          ]
        }
      ]
    },
    {
      "cell_type": "code",
      "source": [
        "my_string = \"hello world\"\n",
        "print(my_string[-5:-2])"
      ],
      "metadata": {
        "colab": {
          "base_uri": "https://localhost:8080/"
        },
        "id": "IvWpl8ykhU9C",
        "outputId": "1a247350-7801-4fe8-d766-9541b55ef747"
      },
      "execution_count": null,
      "outputs": [
        {
          "output_type": "stream",
          "name": "stdout",
          "text": [
            "wor\n"
          ]
        }
      ]
    },
    {
      "cell_type": "code",
      "source": [
        "sentence=\"Data Science is a pretty interesting subject\"\n",
        "\n",
        "print(type(\"sentence\"))"
      ],
      "metadata": {
        "colab": {
          "base_uri": "https://localhost:8080/"
        },
        "id": "5s5YOwsGhkSG",
        "outputId": "05b31b9b-13bc-4738-a40e-9cdbac7e9688"
      },
      "execution_count": null,
      "outputs": [
        {
          "output_type": "stream",
          "name": "stdout",
          "text": [
            "<class 'str'>\n"
          ]
        }
      ]
    },
    {
      "cell_type": "code",
      "source": [
        "set_a = {1,2,6}\n",
        "set_b = {1,2,8}\n",
        "print(set_a & set_b)\n"
      ],
      "metadata": {
        "colab": {
          "base_uri": "https://localhost:8080/"
        },
        "id": "mUky4NFSh4RV",
        "outputId": "fefe99ed-fb7b-4941-d6fa-b569fcdf6418"
      },
      "execution_count": null,
      "outputs": [
        {
          "output_type": "stream",
          "name": "stdout",
          "text": [
            "{1, 2}\n"
          ]
        }
      ]
    },
    {
      "cell_type": "code",
      "source": [
        "x = 10\n",
        "if x < 5:\n",
        "    print(\"x is less than 5\")\n",
        "elif x > 15:\n",
        "    print(\"x is greater than 15\")"
      ],
      "metadata": {
        "id": "cifDU7WCjZGI"
      },
      "execution_count": null,
      "outputs": []
    },
    {
      "cell_type": "code",
      "source": [
        "5 + 10.5"
      ],
      "metadata": {
        "colab": {
          "base_uri": "https://localhost:8080/"
        },
        "id": "xCCdzM6aj9p-",
        "outputId": "61ab5914-13d7-4e84-a756-a1acc99a8abe"
      },
      "execution_count": null,
      "outputs": [
        {
          "output_type": "execute_result",
          "data": {
            "text/plain": [
              "15.5"
            ]
          },
          "metadata": {},
          "execution_count": 15
        }
      ]
    },
    {
      "cell_type": "code",
      "source": [
        "my_tuple = (1, 2, 3, 4)\n",
        "for i in range(len(my_tuple)):\n",
        "    print(my_tuple[i])"
      ],
      "metadata": {
        "colab": {
          "base_uri": "https://localhost:8080/"
        },
        "id": "6eh4uDXnlktt",
        "outputId": "cda642bf-a218-4ec3-ccfd-86ae15eedacc"
      },
      "execution_count": null,
      "outputs": [
        {
          "output_type": "stream",
          "name": "stdout",
          "text": [
            "1\n",
            "2\n",
            "3\n",
            "4\n"
          ]
        }
      ]
    },
    {
      "cell_type": "markdown",
      "source": [
        "## Enumerate()"
      ],
      "metadata": {
        "id": "oCSJEgkaJ_7b"
      }
    },
    {
      "cell_type": "code",
      "source": [
        "ex = [8,9,10,11,15]\n",
        "list(enumerate(ex))"
      ],
      "metadata": {
        "id": "aoaCScjLl15D",
        "colab": {
          "base_uri": "https://localhost:8080/"
        },
        "outputId": "66faa05b-d1e1-4288-aa51-5c735f0f8767"
      },
      "execution_count": null,
      "outputs": [
        {
          "output_type": "execute_result",
          "data": {
            "text/plain": [
              "[(0, 8), (1, 9), (2, 10), (3, 11), (4, 15)]"
            ]
          },
          "metadata": {},
          "execution_count": 1
        }
      ]
    },
    {
      "cell_type": "code",
      "source": [
        "list1 = [2,3,5,6,7]\n",
        "list2 = [5,6,9,8]\n",
        "list3 = [5,7,8]\n",
        "list(zip(list1, list2, list3))"
      ],
      "metadata": {
        "colab": {
          "base_uri": "https://localhost:8080/"
        },
        "id": "PowwXZo5kewY",
        "outputId": "3c6cb84b-d44b-4112-b3a0-e7b984ae8cbe"
      },
      "execution_count": null,
      "outputs": [
        {
          "output_type": "execute_result",
          "data": {
            "text/plain": [
              "[(2, 5, 5), (3, 6, 7), (5, 9, 8)]"
            ]
          },
          "metadata": {},
          "execution_count": 4
        }
      ]
    },
    {
      "cell_type": "code",
      "source": [
        "list1 = list(range(1,6,1))\n",
        "list1[5:4]"
      ],
      "metadata": {
        "colab": {
          "base_uri": "https://localhost:8080/"
        },
        "id": "i-mb4MbqkwXb",
        "outputId": "013fffbd-e7f8-4199-fd86-6bc00dad9efe"
      },
      "execution_count": null,
      "outputs": [
        {
          "output_type": "execute_result",
          "data": {
            "text/plain": [
              "[]"
            ]
          },
          "metadata": {},
          "execution_count": 35
        }
      ]
    },
    {
      "cell_type": "code",
      "source": [
        "title = 'Us and them'\n",
        "title.split(' ')"
      ],
      "metadata": {
        "colab": {
          "base_uri": "https://localhost:8080/",
          "height": 36
        },
        "id": "ELGexXwClIYX",
        "outputId": "80fe4b18-7c17-4e23-db58-865d49e4fe5f"
      },
      "execution_count": null,
      "outputs": [
        {
          "output_type": "execute_result",
          "data": {
            "text/plain": [
              "'nine and them'"
            ],
            "application/vnd.google.colaboratory.intrinsic+json": {
              "type": "string"
            }
          },
          "metadata": {},
          "execution_count": 22
        }
      ]
    },
    {
      "cell_type": "code",
      "source": [
        "votes = {'red' : 3, 'blue' : 4, 'green' : 1}\n",
        "votes.get('red')"
      ],
      "metadata": {
        "colab": {
          "base_uri": "https://localhost:8080/"
        },
        "id": "ygXqUTDbn9rk",
        "outputId": "3152980c-dfe4-438e-ad40-2d112d353d10"
      },
      "execution_count": null,
      "outputs": [
        {
          "output_type": "execute_result",
          "data": {
            "text/plain": [
              "3"
            ]
          },
          "metadata": {},
          "execution_count": 23
        }
      ]
    },
    {
      "cell_type": "code",
      "source": [
        "import time\n",
        "time.sleep(60)\n",
        "print(\"Python Lab\")"
      ],
      "metadata": {
        "colab": {
          "base_uri": "https://localhost:8080/"
        },
        "id": "LnzXrKdln9iS",
        "outputId": "8f3c042a-e31b-4b4a-d3af-980e64d81989"
      },
      "execution_count": null,
      "outputs": [
        {
          "output_type": "stream",
          "name": "stdout",
          "text": [
            "Python Lab\n"
          ]
        }
      ]
    },
    {
      "cell_type": "code",
      "source": [
        "#2. all() - This function returns true if all items in an iterable object are true\n",
        "# syntax = all(iterable)\n",
        "# Example 3\n",
        "set1 = {True,False,True}\n",
        "x= all(set1) # Here for the given set, one element is false. Hence output is false\n",
        "print(x)"
      ],
      "metadata": {
        "colab": {
          "base_uri": "https://localhost:8080/"
        },
        "id": "jvkZk1XLn9UK",
        "outputId": "6bd3dc19-d7e0-431d-b80e-1241db6ff554"
      },
      "execution_count": null,
      "outputs": [
        {
          "output_type": "stream",
          "name": "stdout",
          "text": [
            "False\n"
          ]
        }
      ]
    },
    {
      "cell_type": "code",
      "source": [
        "#26. globals() - This function returns the global symbol table as a dictionary.\n",
        "#syntax = globals()\n",
        "x = globals()\n",
        "print(x)"
      ],
      "metadata": {
        "colab": {
          "base_uri": "https://localhost:8080/"
        },
        "id": "NebIASUAnr2A",
        "outputId": "29c8a98a-1f0b-49a8-8b55-ff865fa8450c"
      },
      "execution_count": null,
      "outputs": [
        {
          "output_type": "stream",
          "name": "stdout",
          "text": [
            "{'__name__': '__main__', '__doc__': 'Automatically created module for IPython interactive environment', '__package__': None, '__loader__': None, '__spec__': None, '__builtin__': <module 'builtins' (built-in)>, '__builtins__': <module 'builtins' (built-in)>, '_ih': ['', 'ex = [8,9,10,11,15]\\nlist(enumerate(ex))', 'list1 = [2,3,5,6,7]\\nlist2 = [5,6,9,8,1]\\nlist(zip(list1, list2))', 'list1 = [2,3,5,6,7]\\nlist2 = [5,6,9,8]\\nlist(zip(list1, list2))', 'list1 = [2,3,5,6,7]\\nlist2 = [5,6,9,8]\\nlist3 = [5,7,8]\\nlist(zip(list1, list2, list3))', 'list(range(1,6,1))', \"title = 'Us and them'\\ntitle.split(' ')\", \"title = 'Us and them'\\ntitle.split()\", \"title = 'Us and them'\\ntitle.split()\", \"title = 'Us and them'\\ntitle[2]\", \"title = 'Us and them'\\nlen(title)\", \"title = 'Us and them'\\n'. '.join(title)\", \"title = 'Us and them'\\n''.join(title)\", \"title = 'Us and them'\\n' '.join(title)\", \"title = 'Us and them'\\n'-'.join(title)\", \"title = 'Us and them'\\n'@'.join(title)\", \"title = 'Us and them'\\n'.'.join(title)\", \"title = 'Us and them'\\nnine = str(9)\", 'type(nine)', \"title = 'Us and them'\\nnine = str(9)title.replace('Us', nine)\", \"title = 'Us and them'\\nnine = title.replace('Us', nine)\", \"title = 'Us and them'\\ntitle.replace('Us', nine)\", \"title = 'Us and them'\\ntitle.replace('Us', 'nine')\", \"votes = {'red' : 3, 'blue' : 4, 'green' : 1}\\nvotes.get('red')\", 'import time\\ntime.sleep(6)\\nprint(\"Python Lab\")', 'import time\\ntime.sleep(6)\\nprint(\"Python Lab\")', 'import time\\ntime.sleep(60)\\nprint(\"Python Lab\")', 'inp = -10\\ny = abs(int(inp))\\nprint(\"The absolute value of\", inp, \"is\", y)', '# 1. abs() - This function returns the absolute value of a number.\\n# syntax = abs(number)\\ninp = -10\\ny = abs(int(inp))\\nprint(\"The absolute value of\", inp, \"is\", y)', '#2. all() - This function returns true if all items in an iterable object are true\\n# syntax = all(iterable)\\n# Example 1\\nL1 = [0,1,1]\\nx= all(L1) # Here the given list has 0 which is false. Since there is one false, output is false.\\nprint(x)', \"#2. all() - This function returns true if all items in an iterable object are true\\n# syntax = all(iterable)\\n# Example 2\\ntup1 = (1,1,1)\\nx=all(tup1) # Here for the given tuple has all 1's which are true. Hence output is True.\\nprint(x)\", '#2. all() - This function returns true if all items in an iterable object are true\\n# syntax = all(iterable)\\n# Example 3\\nset1 = {True,False,True}\\nx= all(set1) # Here for the given set, one element is false. Hence output is false\\nprint(x)', '#26. globals() - This function returns the global symbol table as a dictionary.\\n#syntax = globals()\\nx = globals()\\nprint(x)', '#26. globals() - This function returns the global symbol table as a dictionary.\\n#syntax = globals()\\nx = globals()\\nprint(x)'], '_oh': {1: [(0, 8), (1, 9), (2, 10), (3, 11), (4, 15)], 2: [(2, 5), (3, 6), (5, 9), (6, 8), (7, 1)], 3: [(2, 5), (3, 6), (5, 9), (6, 8)], 4: [(2, 5, 5), (3, 6, 7), (5, 9, 8)], 5: [1, 2, 3, 4, 5], 6: ['Us', 'and', 'them'], 7: ['Us', 'and', 'them'], 8: ['Us', 'and', 'them'], 9: ' ', 10: 11, 11: 'U. s.  . a. n. d.  . t. h. e. m', 12: 'Us and them', 13: 'U s   a n d   t h e m', 14: 'U-s- -a-n-d- -t-h-e-m', 15: 'U@s@ @a@n@d@ @t@h@e@m', 16: 'U.s. .a.n.d. .t.h.e.m', 18: <class 'str'>, 21: '9 and them and them', 22: 'nine and them', 23: 3}, '_dh': ['/content'], 'In': ['', 'ex = [8,9,10,11,15]\\nlist(enumerate(ex))', 'list1 = [2,3,5,6,7]\\nlist2 = [5,6,9,8,1]\\nlist(zip(list1, list2))', 'list1 = [2,3,5,6,7]\\nlist2 = [5,6,9,8]\\nlist(zip(list1, list2))', 'list1 = [2,3,5,6,7]\\nlist2 = [5,6,9,8]\\nlist3 = [5,7,8]\\nlist(zip(list1, list2, list3))', 'list(range(1,6,1))', \"title = 'Us and them'\\ntitle.split(' ')\", \"title = 'Us and them'\\ntitle.split()\", \"title = 'Us and them'\\ntitle.split()\", \"title = 'Us and them'\\ntitle[2]\", \"title = 'Us and them'\\nlen(title)\", \"title = 'Us and them'\\n'. '.join(title)\", \"title = 'Us and them'\\n''.join(title)\", \"title = 'Us and them'\\n' '.join(title)\", \"title = 'Us and them'\\n'-'.join(title)\", \"title = 'Us and them'\\n'@'.join(title)\", \"title = 'Us and them'\\n'.'.join(title)\", \"title = 'Us and them'\\nnine = str(9)\", 'type(nine)', \"title = 'Us and them'\\nnine = str(9)title.replace('Us', nine)\", \"title = 'Us and them'\\nnine = title.replace('Us', nine)\", \"title = 'Us and them'\\ntitle.replace('Us', nine)\", \"title = 'Us and them'\\ntitle.replace('Us', 'nine')\", \"votes = {'red' : 3, 'blue' : 4, 'green' : 1}\\nvotes.get('red')\", 'import time\\ntime.sleep(6)\\nprint(\"Python Lab\")', 'import time\\ntime.sleep(6)\\nprint(\"Python Lab\")', 'import time\\ntime.sleep(60)\\nprint(\"Python Lab\")', 'inp = -10\\ny = abs(int(inp))\\nprint(\"The absolute value of\", inp, \"is\", y)', '# 1. abs() - This function returns the absolute value of a number.\\n# syntax = abs(number)\\ninp = -10\\ny = abs(int(inp))\\nprint(\"The absolute value of\", inp, \"is\", y)', '#2. all() - This function returns true if all items in an iterable object are true\\n# syntax = all(iterable)\\n# Example 1\\nL1 = [0,1,1]\\nx= all(L1) # Here the given list has 0 which is false. Since there is one false, output is false.\\nprint(x)', \"#2. all() - This function returns true if all items in an iterable object are true\\n# syntax = all(iterable)\\n# Example 2\\ntup1 = (1,1,1)\\nx=all(tup1) # Here for the given tuple has all 1's which are true. Hence output is True.\\nprint(x)\", '#2. all() - This function returns true if all items in an iterable object are true\\n# syntax = all(iterable)\\n# Example 3\\nset1 = {True,False,True}\\nx= all(set1) # Here for the given set, one element is false. Hence output is false\\nprint(x)', '#26. globals() - This function returns the global symbol table as a dictionary.\\n#syntax = globals()\\nx = globals()\\nprint(x)', '#26. globals() - This function returns the global symbol table as a dictionary.\\n#syntax = globals()\\nx = globals()\\nprint(x)'], 'Out': {1: [(0, 8), (1, 9), (2, 10), (3, 11), (4, 15)], 2: [(2, 5), (3, 6), (5, 9), (6, 8), (7, 1)], 3: [(2, 5), (3, 6), (5, 9), (6, 8)], 4: [(2, 5, 5), (3, 6, 7), (5, 9, 8)], 5: [1, 2, 3, 4, 5], 6: ['Us', 'and', 'them'], 7: ['Us', 'and', 'them'], 8: ['Us', 'and', 'them'], 9: ' ', 10: 11, 11: 'U. s.  . a. n. d.  . t. h. e. m', 12: 'Us and them', 13: 'U s   a n d   t h e m', 14: 'U-s- -a-n-d- -t-h-e-m', 15: 'U@s@ @a@n@d@ @t@h@e@m', 16: 'U.s. .a.n.d. .t.h.e.m', 18: <class 'str'>, 21: '9 and them and them', 22: 'nine and them', 23: 3}, 'get_ipython': <bound method InteractiveShell.get_ipython of <google.colab._shell.Shell object at 0x7beb52651f90>>, 'exit': <IPython.core.autocall.ZMQExitAutocall object at 0x7beb52652530>, 'quit': <IPython.core.autocall.ZMQExitAutocall object at 0x7beb52652530>, '_': 3, '__': 'nine and them', '___': '9 and them and them', '_i': '#26. globals() - This function returns the global symbol table as a dictionary.\\n#syntax = globals()\\nx = globals()\\nprint(x)', '_ii': '#2. all() - This function returns true if all items in an iterable object are true\\n# syntax = all(iterable)\\n# Example 3\\nset1 = {True,False,True}\\nx= all(set1) # Here for the given set, one element is false. Hence output is false\\nprint(x)', '_iii': \"#2. all() - This function returns true if all items in an iterable object are true\\n# syntax = all(iterable)\\n# Example 2\\ntup1 = (1,1,1)\\nx=all(tup1) # Here for the given tuple has all 1's which are true. Hence output is True.\\nprint(x)\", '_i1': 'ex = [8,9,10,11,15]\\nlist(enumerate(ex))', 'ex': [8, 9, 10, 11, 15], '_1': [(0, 8), (1, 9), (2, 10), (3, 11), (4, 15)], '_i2': 'list1 = [2,3,5,6,7]\\nlist2 = [5,6,9,8,1]\\nlist(zip(list1, list2))', 'list1': [2, 3, 5, 6, 7], 'list2': [5, 6, 9, 8], '_2': [(2, 5), (3, 6), (5, 9), (6, 8), (7, 1)], '_i3': 'list1 = [2,3,5,6,7]\\nlist2 = [5,6,9,8]\\nlist(zip(list1, list2))', '_3': [(2, 5), (3, 6), (5, 9), (6, 8)], '_i4': 'list1 = [2,3,5,6,7]\\nlist2 = [5,6,9,8]\\nlist3 = [5,7,8]\\nlist(zip(list1, list2, list3))', 'list3': [5, 7, 8], '_4': [(2, 5, 5), (3, 6, 7), (5, 9, 8)], '_i5': 'list(range(1,6,1))', '_5': [1, 2, 3, 4, 5], '_i6': \"title = 'Us and them'\\ntitle.split(' ')\", 'title': 'Us and them', '_6': ['Us', 'and', 'them'], '_i7': \"title = 'Us and them'\\ntitle.split()\", '_7': ['Us', 'and', 'them'], '_i8': \"title = 'Us and them'\\ntitle.split()\", '_8': ['Us', 'and', 'them'], '_i9': \"title = 'Us and them'\\ntitle[2]\", '_9': ' ', '_i10': \"title = 'Us and them'\\nlen(title)\", '_10': 11, '_i11': \"title = 'Us and them'\\n'. '.join(title)\", '_11': 'U. s.  . a. n. d.  . t. h. e. m', '_i12': \"title = 'Us and them'\\n''.join(title)\", '_12': 'Us and them', '_i13': \"title = 'Us and them'\\n' '.join(title)\", '_13': 'U s   a n d   t h e m', '_i14': \"title = 'Us and them'\\n'-'.join(title)\", '_14': 'U-s- -a-n-d- -t-h-e-m', '_i15': \"title = 'Us and them'\\n'@'.join(title)\", '_15': 'U@s@ @a@n@d@ @t@h@e@m', '_i16': \"title = 'Us and them'\\n'.'.join(title)\", '_16': 'U.s. .a.n.d. .t.h.e.m', '_i17': \"title = 'Us and them'\\nnine = str(9)\", 'nine': '9 and them', '_i18': 'type(nine)', '_18': <class 'str'>, '_i19': \"title = 'Us and them'\\nnine = str(9)title.replace('Us', nine)\", '_i20': \"title = 'Us and them'\\nnine = title.replace('Us', nine)\", '_i21': \"title = 'Us and them'\\ntitle.replace('Us', nine)\", '_21': '9 and them and them', '_i22': \"title = 'Us and them'\\ntitle.replace('Us', 'nine')\", '_22': 'nine and them', '_i23': \"votes = {'red' : 3, 'blue' : 4, 'green' : 1}\\nvotes.get('red')\", 'votes': {'red': 3, 'blue': 4, 'green': 1}, '_23': 3, '_i24': 'import time\\ntime.sleep(6)\\nprint(\"Python Lab\")', 'time': <module 'time' (built-in)>, '_i25': 'import time\\ntime.sleep(6)\\nprint(\"Python Lab\")', '_i26': 'import time\\ntime.sleep(60)\\nprint(\"Python Lab\")', '_i27': 'inp = -10\\ny = abs(int(inp))\\nprint(\"The absolute value of\", inp, \"is\", y)', 'inp': -10, 'y': 10, '_i28': '# 1. abs() - This function returns the absolute value of a number.\\n# syntax = abs(number)\\ninp = -10\\ny = abs(int(inp))\\nprint(\"The absolute value of\", inp, \"is\", y)', '_i29': '#2. all() - This function returns true if all items in an iterable object are true\\n# syntax = all(iterable)\\n# Example 1\\nL1 = [0,1,1]\\nx= all(L1) # Here the given list has 0 which is false. Since there is one false, output is false.\\nprint(x)', 'L1': [0, 1, 1], 'x': {...}, '_i30': \"#2. all() - This function returns true if all items in an iterable object are true\\n# syntax = all(iterable)\\n# Example 2\\ntup1 = (1,1,1)\\nx=all(tup1) # Here for the given tuple has all 1's which are true. Hence output is True.\\nprint(x)\", 'tup1': (1, 1, 1), '_i31': '#2. all() - This function returns true if all items in an iterable object are true\\n# syntax = all(iterable)\\n# Example 3\\nset1 = {True,False,True}\\nx= all(set1) # Here for the given set, one element is false. Hence output is false\\nprint(x)', 'set1': {False, True}, '_i32': '#26. globals() - This function returns the global symbol table as a dictionary.\\n#syntax = globals()\\nx = globals()\\nprint(x)', '_i33': '#26. globals() - This function returns the global symbol table as a dictionary.\\n#syntax = globals()\\nx = globals()\\nprint(x)'}\n"
          ]
        }
      ]
    },
    {
      "cell_type": "code",
      "source": [
        "#27. hasattr() - This function returns true if the specified object has specified attribute.\n",
        "# syntax = hasattr(object,attribute)\n",
        "class Student:\n",
        "    Name = \"Ravi\"\n",
        "    Age = 25\n",
        "    Country = \"India\"\n",
        "x = hasattr(Student,\"Age\") # Since age attribute is present in the object Student. Hence this returns true.\n",
        "print(x)"
      ],
      "metadata": {
        "colab": {
          "base_uri": "https://localhost:8080/"
        },
        "id": "vqz2TPnIw8ex",
        "outputId": "aeedcb50-ef73-4db3-94a7-f48346e7bc3b"
      },
      "execution_count": null,
      "outputs": [
        {
          "output_type": "stream",
          "name": "stdout",
          "text": [
            "True\n"
          ]
        }
      ]
    },
    {
      "cell_type": "code",
      "source": [
        "str1 = '''Python'''\n",
        "print(str1.upper())"
      ],
      "metadata": {
        "colab": {
          "base_uri": "https://localhost:8080/"
        },
        "id": "NKj_uoeXxezf",
        "outputId": "b297f792-6460-4593-8d13-01d44b9eb716"
      },
      "execution_count": null,
      "outputs": [
        {
          "output_type": "stream",
          "name": "stdout",
          "text": [
            "PYTHON\n"
          ]
        }
      ]
    },
    {
      "cell_type": "code",
      "source": [
        "my_dict = {\"a\": 1, \"b\": 2, \"c\": 3}\n",
        "print(my_dict.get(\"d\", 0))"
      ],
      "metadata": {
        "colab": {
          "base_uri": "https://localhost:8080/"
        },
        "id": "nbla7P9S8Auc",
        "outputId": "20abb301-b836-4965-8e23-2a8378a3ed60"
      },
      "execution_count": null,
      "outputs": [
        {
          "output_type": "stream",
          "name": "stdout",
          "text": [
            "0\n"
          ]
        }
      ]
    },
    {
      "cell_type": "code",
      "source": [
        "if 10 in [0,10,20]:\n",
        "\n",
        "print(\"Yes\")"
      ],
      "metadata": {
        "colab": {
          "base_uri": "https://localhost:8080/",
          "height": 106
        },
        "id": "tGnV4mDB_-ax",
        "outputId": "f21cef4b-170a-48d6-d183-7ddd1e80f4c7"
      },
      "execution_count": null,
      "outputs": [
        {
          "output_type": "error",
          "ename": "IndentationError",
          "evalue": "expected an indented block after 'if' statement on line 1 (<ipython-input-49-0162db9c720c>, line 3)",
          "traceback": [
            "\u001b[0;36m  File \u001b[0;32m\"<ipython-input-49-0162db9c720c>\"\u001b[0;36m, line \u001b[0;32m3\u001b[0m\n\u001b[0;31m    print(\"Yes\")\u001b[0m\n\u001b[0m    ^\u001b[0m\n\u001b[0;31mIndentationError\u001b[0m\u001b[0;31m:\u001b[0m expected an indented block after 'if' statement on line 1\n"
          ]
        }
      ]
    },
    {
      "cell_type": "code",
      "source": [
        "my_tuple = (1, 2, 3, 4)\n",
        "for i in range(len(my_tuple)):\n",
        "    print(my_tuple[i])"
      ],
      "metadata": {
        "colab": {
          "base_uri": "https://localhost:8080/"
        },
        "id": "azmeLjor_-Xj",
        "outputId": "1582ffad-be77-46cb-fe4a-6106d36380ed"
      },
      "execution_count": null,
      "outputs": [
        {
          "output_type": "stream",
          "name": "stdout",
          "text": [
            "1\n",
            "2\n",
            "3\n",
            "4\n"
          ]
        }
      ]
    },
    {
      "cell_type": "code",
      "source": [
        "#INput the base and height from the user\n",
        "b = float(input(\"Enter the base of the triangle: \"))\n",
        "h = float(input(\"Enter the height of the triangle: \"))\n",
        "#Calculate the are of the Triangle\n",
        "area = 0.5*b*h\n",
        "#Display the result\n",
        "print(f\"The area of the triangle is: {area}\")"
      ],
      "metadata": {
        "colab": {
          "base_uri": "https://localhost:8080/"
        },
        "id": "qB0h7Yrcs10x",
        "outputId": "ad5b96ba-55c0-4886-e3db-4bba9526453b"
      },
      "execution_count": null,
      "outputs": [
        {
          "output_type": "stream",
          "name": "stdout",
          "text": [
            "Enter the base of the triangle: 10\n",
            "Enter the height of the triangle: 20\n",
            "The area of the triangle is: 100.0\n"
          ]
        }
      ]
    },
    {
      "cell_type": "markdown",
      "source": [
        "## WAF to print the length of a list. (list is the parameter)"
      ],
      "metadata": {
        "id": "YeOhgQCtTF0z"
      }
    },
    {
      "cell_type": "code",
      "source": [
        "cities = [\"delhi\", \"surat\", \"gurgaon\", \"noida\", \"pune\", \"mumbai\", \"chennai\"]\n",
        "heroes = [\"thor\", \"ironman\", \"captain america\", \"shaktiman\"]\n",
        "\n",
        "def cal_lan(cities, heroes):\n",
        "  i = 0\n",
        "  j = 0\n",
        "  while i < len(cities):\n",
        "    i = i + 1\n",
        "  while j < len(heroes):\n",
        "    j = j + 1\n",
        "\n",
        "  return i, j\n",
        "\n",
        "cal_lan(cities, heroes)\n"
      ],
      "metadata": {
        "id": "WK5dMs24s1rr",
        "colab": {
          "base_uri": "https://localhost:8080/"
        },
        "outputId": "dc0ce7cb-b64d-434a-874f-139ed13acd9f"
      },
      "execution_count": null,
      "outputs": [
        {
          "output_type": "execute_result",
          "data": {
            "text/plain": [
              "(7, 4)"
            ]
          },
          "metadata": {},
          "execution_count": 6
        }
      ]
    },
    {
      "cell_type": "markdown",
      "source": [
        "## WAF to print the elements of a list in a single line. (list is the parameter)"
      ],
      "metadata": {
        "id": "JLCimHIxVAGq"
      }
    },
    {
      "cell_type": "code",
      "source": [
        "heroes = [\"thor\", \"ironman\", \"captain america\", \"shaktiman\"]\n",
        "\n",
        "def print_list(heroes):\n",
        "  for i in heroes:\n",
        "    print(i, end = \" \")\n",
        "\n",
        "print_list(heroes)\n",
        "\n"
      ],
      "metadata": {
        "id": "p5C910ou6KmH",
        "colab": {
          "base_uri": "https://localhost:8080/"
        },
        "outputId": "53fae3cf-5eb8-4bed-9d90-1dd6d66a8697"
      },
      "execution_count": null,
      "outputs": [
        {
          "output_type": "stream",
          "name": "stdout",
          "text": [
            "thor ironman captain america shaktiman "
          ]
        }
      ]
    },
    {
      "cell_type": "markdown",
      "source": [
        "## Mingle to Single\n",
        "\n",
        "In a competition, participants were given a number to sum its digits until it was a single-digit number. So, write a Python program to add the digits of a positive integer repeatedly until the result has a single digit."
      ],
      "metadata": {
        "id": "bxFA7vGiYm4J"
      }
    },
    {
      "cell_type": "code",
      "source": [
        "n = eval(input())\n",
        "new_list = []\n",
        "first_ele = min(n)\n",
        "new_list = new_list.append(first_ele)\n",
        "sec_ele = max(n)\n",
        "new_list = new_list.append(sec_ele)\n",
        "print(first_ele)"
      ],
      "metadata": {
        "id": "5ojQJjOws1mF",
        "colab": {
          "base_uri": "https://localhost:8080/",
          "height": 211
        },
        "outputId": "ab15263d-ef7f-49d8-fdec-2cae964a6d0c"
      },
      "execution_count": null,
      "outputs": [
        {
          "name": "stdout",
          "output_type": "stream",
          "text": [
            "[1, 3, 4, 5, 11]\n"
          ]
        },
        {
          "output_type": "error",
          "ename": "AttributeError",
          "evalue": "'NoneType' object has no attribute 'append'",
          "traceback": [
            "\u001b[0;31m---------------------------------------------------------------------------\u001b[0m",
            "\u001b[0;31mAttributeError\u001b[0m                            Traceback (most recent call last)",
            "\u001b[0;32m<ipython-input-26-7187ad3f6d0c>\u001b[0m in \u001b[0;36m<cell line: 6>\u001b[0;34m()\u001b[0m\n\u001b[1;32m      4\u001b[0m \u001b[0mnew_list\u001b[0m \u001b[0;34m=\u001b[0m \u001b[0mnew_list\u001b[0m\u001b[0;34m.\u001b[0m\u001b[0mappend\u001b[0m\u001b[0;34m(\u001b[0m\u001b[0mfirst_ele\u001b[0m\u001b[0;34m)\u001b[0m\u001b[0;34m\u001b[0m\u001b[0;34m\u001b[0m\u001b[0m\n\u001b[1;32m      5\u001b[0m \u001b[0msec_ele\u001b[0m \u001b[0;34m=\u001b[0m \u001b[0mmax\u001b[0m\u001b[0;34m(\u001b[0m\u001b[0mn\u001b[0m\u001b[0;34m)\u001b[0m\u001b[0;34m\u001b[0m\u001b[0;34m\u001b[0m\u001b[0m\n\u001b[0;32m----> 6\u001b[0;31m \u001b[0mnew_list\u001b[0m \u001b[0;34m=\u001b[0m \u001b[0mnew_list\u001b[0m\u001b[0;34m.\u001b[0m\u001b[0mappend\u001b[0m\u001b[0;34m(\u001b[0m\u001b[0msec_ele\u001b[0m\u001b[0;34m)\u001b[0m\u001b[0;34m\u001b[0m\u001b[0;34m\u001b[0m\u001b[0m\n\u001b[0m\u001b[1;32m      7\u001b[0m \u001b[0mprint\u001b[0m\u001b[0;34m(\u001b[0m\u001b[0mfirst_ele\u001b[0m\u001b[0;34m)\u001b[0m\u001b[0;34m\u001b[0m\u001b[0;34m\u001b[0m\u001b[0m\n",
            "\u001b[0;31mAttributeError\u001b[0m: 'NoneType' object has no attribute 'append'"
          ]
        }
      ]
    },
    {
      "cell_type": "code",
      "source": [
        "n = n.remove(first_ele)\n",
        "    print(new_list)\n",
        "    secon_ele = max(n)\n",
        "    new_list = new_list.append(secon_ele)\n",
        "    n = n.remove(secon_ele)\n",
        "    print(new_list)\n"
      ],
      "metadata": {
        "id": "Te0uZbK7s1jl",
        "colab": {
          "base_uri": "https://localhost:8080/",
          "height": 106
        },
        "outputId": "d178f258-2fc3-4af6-95c8-fc3f6a4096ea"
      },
      "execution_count": null,
      "outputs": [
        {
          "output_type": "error",
          "ename": "IndentationError",
          "evalue": "unexpected indent (<ipython-input-27-90183ddc84d6>, line 2)",
          "traceback": [
            "\u001b[0;36m  File \u001b[0;32m\"<ipython-input-27-90183ddc84d6>\"\u001b[0;36m, line \u001b[0;32m2\u001b[0m\n\u001b[0;31m    print(new_list)\u001b[0m\n\u001b[0m    ^\u001b[0m\n\u001b[0;31mIndentationError\u001b[0m\u001b[0;31m:\u001b[0m unexpected indent\n"
          ]
        }
      ]
    },
    {
      "cell_type": "code",
      "source": [
        "n = int(input())\n",
        "factorial = 1\n",
        "\n",
        "while n > 1:\n",
        "  factorial = factorial * n\n",
        "  n = n - 1\n",
        "\n",
        "print(factorial)"
      ],
      "metadata": {
        "id": "svh1s24ws1hR",
        "colab": {
          "base_uri": "https://localhost:8080/"
        },
        "outputId": "2bd354b3-c02f-4676-ac1a-5c102ee5aa7f"
      },
      "execution_count": null,
      "outputs": [
        {
          "output_type": "stream",
          "name": "stdout",
          "text": [
            "4\n",
            "24\n"
          ]
        }
      ]
    },
    {
      "cell_type": "code",
      "source": [
        "def reversestring(string):\n",
        "  string = string[::-1]\n",
        "  return string\n",
        "\n",
        "reversestring(\"1234abcd\")"
      ],
      "metadata": {
        "id": "cwXYAhMqs1df",
        "colab": {
          "base_uri": "https://localhost:8080/",
          "height": 36
        },
        "outputId": "26c3caa5-1e4c-496c-f4d9-0a20b8d7aff3"
      },
      "execution_count": null,
      "outputs": [
        {
          "output_type": "execute_result",
          "data": {
            "text/plain": [
              "'dcba4321'"
            ],
            "application/vnd.google.colaboratory.intrinsic+json": {
              "type": "string"
            }
          },
          "metadata": {},
          "execution_count": 5
        }
      ]
    },
    {
      "cell_type": "code",
      "source": [
        "#creating a function for list to multiply all elements\n",
        "def multiplyelements(list1):\n",
        "  temp = 1\n",
        "  for i in list1:\n",
        "    temp = temp * i\n",
        "  return temp\n",
        "\n",
        "#take input from user and call function & print output\n",
        "list1 = eval(input())\n",
        "print(multiplyelements(list1))\n"
      ],
      "metadata": {
        "id": "tYpwn3NCs1Tt",
        "colab": {
          "base_uri": "https://localhost:8080/"
        },
        "outputId": "787fe80b-b628-49d0-be75-15d0ee210cbd"
      },
      "execution_count": null,
      "outputs": [
        {
          "output_type": "stream",
          "name": "stdout",
          "text": [
            "[8, 2, 3, -1, 7]\n",
            "-336\n"
          ]
        }
      ]
    },
    {
      "cell_type": "code",
      "source": [
        "#creating a function for list to add all elements\n",
        "def addelements(list1):\n",
        "  temp = 0\n",
        "  for i in list1:\n",
        "    temp = temp + i\n",
        "  return temp\n",
        "\n",
        "#take input from user and call function & print output\n",
        "list1 = eval(input())\n",
        "print(addelements(list1))\n"
      ],
      "metadata": {
        "id": "E57aPRGn_-L7",
        "colab": {
          "base_uri": "https://localhost:8080/"
        },
        "outputId": "ece728fa-aaeb-4790-f026-10598aed04e3"
      },
      "execution_count": null,
      "outputs": [
        {
          "output_type": "stream",
          "name": "stdout",
          "text": [
            "[8, 2, 3, 0, 7]\n",
            "20\n"
          ]
        }
      ]
    },
    {
      "cell_type": "code",
      "source": [
        "#take input from user\n",
        "month = input()\n",
        "\n",
        "if month == \"January\" or month == \"March\" or month == \"May\" or month == \"July\" or month == \"August\" or month == \"October\" or month == \"December\":\n",
        "  print(\"No. of days: 31 days\")\n",
        "elif month == \"April\" or month == \"June\" or month == \"September\" or month == \"November\":\n",
        "  print(\"No. of days: 30 days\")\n",
        "elif month == \"February\":\n",
        "  print(\"No. of days: 28/29 days\")\n",
        "else:\n",
        "  print(\"Not Month\")"
      ],
      "metadata": {
        "id": "JFk8-AbI-P24",
        "colab": {
          "base_uri": "https://localhost:8080/"
        },
        "outputId": "940fd8ff-66ab-4b7f-ee84-6454202c1756"
      },
      "execution_count": null,
      "outputs": [
        {
          "output_type": "stream",
          "name": "stdout",
          "text": [
            "March\n",
            "No. of days: 31 days\n"
          ]
        }
      ]
    },
    {
      "cell_type": "code",
      "source": [
        "# Write your code here\n",
        "\n",
        "#take input from user\n",
        "nums = eval(input())\n",
        "positive_list = []\n",
        "second_list = []\n",
        "for i in nums:\n",
        "    if i > 0:\n",
        "        positive_list.append(i)\n",
        "    elif i == 0:\n",
        "        pass\n",
        "    elif i < 0:\n",
        "        second_list.append(i)\n",
        "\n",
        "print(positive_list)"
      ],
      "metadata": {
        "colab": {
          "base_uri": "https://localhost:8080/"
        },
        "id": "FucgReSdwTYc",
        "outputId": "92266430-1b7b-4973-d34e-682e9b5beab2"
      },
      "execution_count": null,
      "outputs": [
        {
          "output_type": "stream",
          "name": "stdout",
          "text": [
            "[34, 1, 0, -23, 12, -88]\n",
            "[34, 1, 12]\n"
          ]
        }
      ]
    },
    {
      "cell_type": "code",
      "source": [
        "def areaofcircle(r):\n",
        "  area = 3.14159 * r * r\n",
        "  area = round(area, 4)\n",
        "  return area\n",
        "\n",
        "r = float(input())\n",
        "areaofcircle(r)"
      ],
      "metadata": {
        "colab": {
          "base_uri": "https://localhost:8080/"
        },
        "id": "gNxu65m8zBaY",
        "outputId": "a1be9052-bf82-4c75-98bd-920e62d12f29"
      },
      "execution_count": null,
      "outputs": [
        {
          "name": "stdout",
          "output_type": "stream",
          "text": [
            "1.1\n"
          ]
        },
        {
          "output_type": "execute_result",
          "data": {
            "text/plain": [
              "3.8013"
            ]
          },
          "metadata": {},
          "execution_count": 14
        }
      ]
    },
    {
      "cell_type": "code",
      "source": [
        "def odd_even(n):\n",
        "  if n % 2 == 0:\n",
        "    return \"This is an even number\"\n",
        "  else:\n",
        "    return \"This is an odd number\"\n",
        "\n",
        "\n",
        "n = int(input())\n",
        "print(odd_even(n))"
      ],
      "metadata": {
        "colab": {
          "base_uri": "https://localhost:8080/"
        },
        "id": "XfpWkXjV0Od0",
        "outputId": "e5f7338f-fa9b-474a-bbae-8403e7fc06ef"
      },
      "execution_count": null,
      "outputs": [
        {
          "output_type": "stream",
          "name": "stdout",
          "text": [
            "5\n",
            "This is an odd number\n"
          ]
        }
      ]
    },
    {
      "cell_type": "code",
      "source": [
        "favorite_movie = []\n",
        "\n",
        "favorite_movie.append(\"Titanic\")\n",
        "favorite_movie.extend([\"Star Wars\", \"Star Trek\", \"Iron Man\", \"Captain America\"])\n",
        "favorite_movie.insert(1, \"The Avengers\")\n",
        "favorite_movie.remove(\"Star Trek\")\n",
        "favorite_movie.pop()\n",
        "favorite_movie.sort()\n",
        "favorite_movie.reverse()\n",
        "\n",
        "print(favorite_movie)\n"
      ],
      "metadata": {
        "id": "w9CSBAVb2RgK",
        "colab": {
          "base_uri": "https://localhost:8080/"
        },
        "outputId": "d75e7054-46bd-47f3-85cf-b5e5969eda06"
      },
      "execution_count": null,
      "outputs": [
        {
          "output_type": "stream",
          "name": "stdout",
          "text": [
            "['Titanic', 'The Avengers', 'Star Wars', 'Iron Man']\n"
          ]
        }
      ]
    },
    {
      "cell_type": "markdown",
      "source": [
        "# Count how many movies are in the collection using the count() method\n"
      ],
      "metadata": {
        "id": "trWBs0thE9eN"
      }
    },
    {
      "cell_type": "code",
      "source": [
        "# Count how many movies are in the collection using the count() method\n",
        "movie_collection = ['The Hulk', 'The Godfather', 'The Shawshank Redemption', 'The Dark Knight', 'Pulp Fiction', 'Goodfellas']\n",
        "print(movie_collection.count(\"The Godfather\"))"
      ],
      "metadata": {
        "colab": {
          "base_uri": "https://localhost:8080/"
        },
        "id": "RCGjS18kBsvE",
        "outputId": "765120b4-1b31-414a-9dd0-ff2f5153cdbd"
      },
      "execution_count": null,
      "outputs": [
        {
          "output_type": "stream",
          "name": "stdout",
          "text": [
            "1\n"
          ]
        }
      ]
    },
    {
      "cell_type": "code",
      "source": [
        "'Hello World'.split(' ')\n",
        "'Hello World'.encode(encoding='UTF-8',errors='strict')"
      ],
      "metadata": {
        "colab": {
          "base_uri": "https://localhost:8080/"
        },
        "id": "ox4oS_L7Ht5L",
        "outputId": "6c546c8a-67d9-484c-9f0c-4de942168375"
      },
      "execution_count": null,
      "outputs": [
        {
          "output_type": "execute_result",
          "data": {
            "text/plain": [
              "b'Hello World'"
            ]
          },
          "metadata": {},
          "execution_count": 10
        }
      ]
    },
    {
      "cell_type": "code",
      "source": [
        "(lambda x: x**2) (2)"
      ],
      "metadata": {
        "colab": {
          "base_uri": "https://localhost:8080/"
        },
        "id": "U2eJj5TY0w8L",
        "outputId": "8b3da7e1-d8a2-454f-e02d-ebccc457c396"
      },
      "execution_count": null,
      "outputs": [
        {
          "output_type": "execute_result",
          "data": {
            "text/plain": [
              "4"
            ]
          },
          "metadata": {},
          "execution_count": 38
        }
      ]
    },
    {
      "cell_type": "code",
      "source": [
        "(lambda x, y, z: x+y-z) (2, 3, 4)"
      ],
      "metadata": {
        "colab": {
          "base_uri": "https://localhost:8080/"
        },
        "id": "kfxcXwqA4JcJ",
        "outputId": "7daa91ee-a568-4a17-ed19-a3f1f8fe5549"
      },
      "execution_count": null,
      "outputs": [
        {
          "output_type": "execute_result",
          "data": {
            "text/plain": [
              "1"
            ]
          },
          "metadata": {},
          "execution_count": 39
        }
      ]
    },
    {
      "cell_type": "code",
      "source": [
        "(lambda x: 100 if x > 100 else (50 if x > 50 else x))(101)\n"
      ],
      "metadata": {
        "colab": {
          "base_uri": "https://localhost:8080/"
        },
        "id": "pnAMYpIa4nbg",
        "outputId": "0c99f028-e8f0-4d76-f316-e59654c6f419"
      },
      "execution_count": null,
      "outputs": [
        {
          "output_type": "execute_result",
          "data": {
            "text/plain": [
              "100"
            ]
          },
          "metadata": {},
          "execution_count": 41
        }
      ]
    },
    {
      "cell_type": "code",
      "source": [
        "welcome_msg = lambda name: print(\"Welcome \" + name + \"! This is your computer\")\n",
        "welcome_msg(\"Ravi\")"
      ],
      "metadata": {
        "colab": {
          "base_uri": "https://localhost:8080/"
        },
        "id": "Zjp-c2PI450d",
        "outputId": "a6006d8f-38ec-41c1-e340-dd8c24f13197"
      },
      "execution_count": null,
      "outputs": [
        {
          "output_type": "stream",
          "name": "stdout",
          "text": [
            "Welcome Ravi! This is your computer\n"
          ]
        }
      ]
    },
    {
      "cell_type": "code",
      "source": [
        "lambda x, y : x**y\n",
        "_(\"Hello\", \"Neha\")"
      ],
      "metadata": {
        "colab": {
          "base_uri": "https://localhost:8080/",
          "height": 158
        },
        "id": "Yg4Pf6zW5slE",
        "outputId": "94f8a306-83bd-4057-f729-de4bee381627"
      },
      "execution_count": null,
      "outputs": [
        {
          "output_type": "error",
          "ename": "TypeError",
          "evalue": "'int' object is not callable",
          "traceback": [
            "\u001b[0;31m---------------------------------------------------------------------------\u001b[0m",
            "\u001b[0;31mTypeError\u001b[0m                                 Traceback (most recent call last)",
            "\u001b[0;32m<ipython-input-50-0b69e7bf973f>\u001b[0m in \u001b[0;36m<cell line: 2>\u001b[0;34m()\u001b[0m\n\u001b[1;32m      1\u001b[0m \u001b[0;32mlambda\u001b[0m \u001b[0mx\u001b[0m\u001b[0;34m,\u001b[0m \u001b[0my\u001b[0m \u001b[0;34m:\u001b[0m \u001b[0mx\u001b[0m\u001b[0;34m**\u001b[0m\u001b[0my\u001b[0m\u001b[0;34m\u001b[0m\u001b[0;34m\u001b[0m\u001b[0m\n\u001b[0;32m----> 2\u001b[0;31m \u001b[0m_\u001b[0m\u001b[0;34m(\u001b[0m\u001b[0;34m\"Hello\"\u001b[0m\u001b[0;34m,\u001b[0m \u001b[0;34m\"Neha\"\u001b[0m\u001b[0;34m)\u001b[0m\u001b[0;34m\u001b[0m\u001b[0;34m\u001b[0m\u001b[0m\n\u001b[0m",
            "\u001b[0;31mTypeError\u001b[0m: 'int' object is not callable"
          ]
        }
      ]
    },
    {
      "cell_type": "code",
      "source": [
        "print(list(map(lambda x: x**2, range(1,11))))\n"
      ],
      "metadata": {
        "colab": {
          "base_uri": "https://localhost:8080/"
        },
        "id": "YPLJ6vvl580L",
        "outputId": "65ac382f-958c-42c2-9e3b-20daf1b38b38"
      },
      "execution_count": null,
      "outputs": [
        {
          "output_type": "stream",
          "name": "stdout",
          "text": [
            "[1, 4, 9, 16, 25, 36, 49, 64, 81, 100]\n"
          ]
        }
      ]
    },
    {
      "cell_type": "markdown",
      "source": [
        "##Using lambda find items begin with char.\n",
        "\n",
        "Write a Python program to find whether a given string starts with a given character using Lambda."
      ],
      "metadata": {
        "id": "emO53P6K9rAu"
      }
    },
    {
      "cell_type": "code",
      "source": [
        "#Function Signature\n",
        "def lenght_of_longest_substring(s: str) -> int:\n",
        "  # Initialize variables\n",
        "  list_s = []\n",
        "  max_len = 0\n",
        "\n",
        "  # Iterate through the string\n",
        "  for i in range(len(s)):\n",
        "    #check if the element is not in the list\n",
        "    if s[i] not in list_s:\n",
        "      #if not in the list append the element\n",
        "      list_s.append(s[i])\n",
        "  #count the length of the list\n",
        "  max_len = len(list_s)\n",
        "  #return the max length of the substring\n",
        "  return max_len\n",
        "\n",
        "input_str = \"pwwkew\"\n",
        "print(lenght_of_longest_substring(input_str))"
      ],
      "metadata": {
        "id": "Zc4KP5wpBo88",
        "colab": {
          "base_uri": "https://localhost:8080/"
        },
        "outputId": "bd18a0a9-a61c-4f28-fedb-5645a5f2feaa"
      },
      "execution_count": null,
      "outputs": [
        {
          "output_type": "stream",
          "name": "stdout",
          "text": [
            "4\n"
          ]
        }
      ]
    },
    {
      "cell_type": "code",
      "source": [
        "def length_oflongest_substring(s: str) -> int:\n",
        "  char_index_map = {}\n",
        "  max_length = 0\n",
        "  start = 0\n",
        "\n",
        "  for end in range(len(s)):\n",
        "    if s[end] in char_index_map:\n",
        "      start = max(start, char_index_map[s[end]] + 1)\n",
        "    char_index_map[s[end]] = end\n",
        "    max_length = max(max_length, end - start + 1)\n",
        "\n",
        "  return max_length\n",
        "\n",
        "input_str = \"bppwekw\"\n",
        "print(length_oflongest_substring(input_str))"
      ],
      "metadata": {
        "colab": {
          "base_uri": "https://localhost:8080/"
        },
        "id": "8oG_3b3Cn6oX",
        "outputId": "3f743e09-f5f5-41f8-81f9-1f53b2081435"
      },
      "execution_count": null,
      "outputs": [
        {
          "output_type": "stream",
          "name": "stdout",
          "text": [
            "4\n"
          ]
        }
      ]
    },
    {
      "cell_type": "code",
      "source": [
        "def adder(*num):\n",
        "  sum = 0\n",
        "  for i in num:\n",
        "    sum = sum + i\n",
        "  return sum\n",
        "\n",
        "print(adder(10,15,16,17,20,21)) #arguments passed as tuple\n",
        "print(adder(10,15,16,17)) #arguments passed as tuple\n",
        "print(adder(10,15)) #arguments passed as tuple"
      ],
      "metadata": {
        "colab": {
          "base_uri": "https://localhost:8080/"
        },
        "id": "pUN4vegyRiwQ",
        "outputId": "66039e44-a0e6-42f5-cfea-1fa9078d21e2"
      },
      "execution_count": null,
      "outputs": [
        {
          "output_type": "stream",
          "name": "stdout",
          "text": [
            "99\n",
            "58\n",
            "25\n"
          ]
        }
      ]
    },
    {
      "cell_type": "code",
      "source": [
        "def intro(**data):\n",
        "  print(\"\\nData type of argument:\",type(data))\n",
        "\n",
        "  for key, value in data.items():\n",
        "    print(\"{} is {}\". format(key, value))\n",
        "\n",
        "intro(Firstname=\"Sita\", Lastname=\"Sharma\", Age=25, Country=\"India\")"
      ],
      "metadata": {
        "colab": {
          "base_uri": "https://localhost:8080/"
        },
        "id": "1_Cpzx_bRis5",
        "outputId": "fd283bd5-b973-4401-9eab-1fd24886f7f9"
      },
      "execution_count": null,
      "outputs": [
        {
          "output_type": "stream",
          "name": "stdout",
          "text": [
            "\n",
            "Data type of argument: <class 'dict'>\n",
            "Firstname is Sita\n",
            "Lastname is Sharma\n",
            "Age is 25\n",
            "Country is India\n"
          ]
        }
      ]
    },
    {
      "cell_type": "markdown",
      "source": [
        "## Find closest palindrome\n",
        "\n",
        "Write a Python program to find the closest palindrome from a given string."
      ],
      "metadata": {
        "id": "45yj33Wdm6aF"
      }
    },
    {
      "cell_type": "code",
      "source": [
        "def palindrome(n):\n",
        "  if n == n[::-1]:\n",
        "    return True\n",
        "  else:\n",
        "    return False\n",
        "\n",
        "\n",
        "\n",
        "n = input()\n",
        "palindrome(n)"
      ],
      "metadata": {
        "colab": {
          "base_uri": "https://localhost:8080/"
        },
        "id": "PE_YQ3tCRim3",
        "outputId": "5a229548-829e-4e50-b9ec-fb1ddfcffb44"
      },
      "execution_count": null,
      "outputs": [
        {
          "name": "stdout",
          "output_type": "stream",
          "text": [
            "cac\n"
          ]
        },
        {
          "output_type": "execute_result",
          "data": {
            "text/plain": [
              "True"
            ]
          },
          "metadata": {},
          "execution_count": 53
        }
      ]
    },
    {
      "cell_type": "code",
      "source": [
        "list1 = ['This is', 'the only tool']\n",
        "list2 = ['that', 'lets', 'you', 'visually']\n",
        "print(' '.join(list1 + list2))"
      ],
      "metadata": {
        "id": "I9YiNIwWl_zH",
        "colab": {
          "base_uri": "https://localhost:8080/"
        },
        "outputId": "07f355cb-390c-4c66-bf6e-0c8abdcadea4"
      },
      "execution_count": null,
      "outputs": [
        {
          "output_type": "stream",
          "name": "stdout",
          "text": [
            "This is the only tool that lets you visually\n"
          ]
        }
      ]
    },
    {
      "cell_type": "code",
      "source": [
        "dict1 = {\"a\": 1, \"b\": 2, \"c\": 3}\n",
        "len(dict1)"
      ],
      "metadata": {
        "id": "3qJip06wmKfd",
        "colab": {
          "base_uri": "https://localhost:8080/"
        },
        "outputId": "88ef0903-f720-4d2c-a56a-19f969382011"
      },
      "execution_count": null,
      "outputs": [
        {
          "output_type": "execute_result",
          "data": {
            "text/plain": [
              "3"
            ]
          },
          "metadata": {},
          "execution_count": 2
        }
      ]
    },
    {
      "cell_type": "code",
      "source": [
        "list2 = ['that', 'lets', 'you', 'visually']\n",
        "list2.index('lets')"
      ],
      "metadata": {
        "id": "8oq0itBdmKVe",
        "colab": {
          "base_uri": "https://localhost:8080/"
        },
        "outputId": "c65b8fc5-bc10-484a-90dd-d3ae7d972572"
      },
      "execution_count": null,
      "outputs": [
        {
          "output_type": "execute_result",
          "data": {
            "text/plain": [
              "1"
            ]
          },
          "metadata": {},
          "execution_count": 4
        }
      ]
    },
    {
      "cell_type": "code",
      "source": [
        "my_set = {1, 2, 3, 4, 5}\n",
        "my_set.discard(2)\n",
        "print(my_set)"
      ],
      "metadata": {
        "colab": {
          "base_uri": "https://localhost:8080/"
        },
        "id": "k6gWdI_bNXaU",
        "outputId": "446bec57-4847-4af0-80c0-2ed13928574e"
      },
      "execution_count": null,
      "outputs": [
        {
          "output_type": "stream",
          "name": "stdout",
          "text": [
            "{1, 3, 4, 5}\n"
          ]
        }
      ]
    },
    {
      "cell_type": "code",
      "source": [
        "number = 25\n",
        "if number < 10:\n",
        "    print(\"Single-digit number.\")\n",
        "elif number >= 10 and number <= 99:\n",
        "    print(\"Double-digit number.\")\n",
        "else:\n",
        "    print(\"Large number.\")"
      ],
      "metadata": {
        "colab": {
          "base_uri": "https://localhost:8080/"
        },
        "id": "xsQ7m0UYUb0E",
        "outputId": "30b7174f-2571-49bb-adf9-5c60475ea88c"
      },
      "execution_count": null,
      "outputs": [
        {
          "output_type": "stream",
          "name": "stdout",
          "text": [
            "Double-digit number.\n"
          ]
        }
      ]
    },
    {
      "cell_type": "code",
      "source": [
        "\n",
        "number = 25\n",
        "if number < 10:\n",
        "    print(\"Single-digit number.\")\n",
        "elif 10 <= number <= 99:\n",
        "    print(\"Double-digit number.\")\n",
        "else:\n",
        "    print(\"Large number.\")"
      ],
      "metadata": {
        "id": "7S9aXTLhsegN",
        "colab": {
          "base_uri": "https://localhost:8080/"
        },
        "outputId": "5d115e3c-cb64-4b4b-f405-900995e16a81"
      },
      "execution_count": null,
      "outputs": [
        {
          "output_type": "stream",
          "name": "stdout",
          "text": [
            "Double-digit number.\n"
          ]
        }
      ]
    },
    {
      "cell_type": "code",
      "source": [
        "number = 25\n",
        "if number < 10:\n",
        "    print(\"Single-digit number.\")\n",
        "if 10 <= number <= 99:\n",
        "    print(\"Double-digit number.\")\n",
        "else:\n",
        "    print(\"Large number.\")"
      ],
      "metadata": {
        "colab": {
          "base_uri": "https://localhost:8080/"
        },
        "id": "407oqubzS8t-",
        "outputId": "2910db08-0918-4094-ba08-bbbed895bc8b"
      },
      "execution_count": null,
      "outputs": [
        {
          "output_type": "stream",
          "name": "stdout",
          "text": [
            "Double-digit number.\n"
          ]
        }
      ]
    },
    {
      "cell_type": "code",
      "source": [
        "age = 25\n",
        "if age < 13:\n",
        "    print(\"Child.\")\n",
        "if age >= 13 and age <= 19:\n",
        "    print(\"Teenager.\")\n",
        "if age >= 20:\n",
        "    print(\"Adult.\")"
      ],
      "metadata": {
        "colab": {
          "base_uri": "https://localhost:8080/"
        },
        "id": "WwPYhwRATBEp",
        "outputId": "7b67099c-c3ee-415d-e6ba-a3476f526e78"
      },
      "execution_count": null,
      "outputs": [
        {
          "output_type": "stream",
          "name": "stdout",
          "text": [
            "Adult.\n"
          ]
        }
      ]
    },
    {
      "cell_type": "code",
      "source": [
        "import random\n",
        "# library that we use in order to choose\n",
        "# on random words from a list of words\n",
        "\n",
        "name = input(\"What is your name? \")\n",
        "\n",
        "# Here the user is asked to enter the name first\n",
        "\n",
        "print(\"Good Luck ! \", name)\n",
        "\n",
        "words = ['rainbow', 'computer', 'science', 'programming',\n",
        "         'python', 'mathematics', 'player', 'condition',\n",
        "         'reverse', 'water', 'board', 'geeks']\n",
        "\n",
        "# Function will choose one random\n",
        "# word from this list of words\n",
        "word = random.choice(words)\n",
        "\n",
        "\n",
        "print(\"Guess the characters\")\n",
        "\n",
        "guesses = ''\n",
        "\n",
        "# any number of turns can be used here\n",
        "turns = 12\n",
        "\n",
        "\n",
        "while turns > 0:\n",
        "\n",
        "    # counts the number of times a user fails\n",
        "    failed = 0\n",
        "\n",
        "    # all characters from the input\n",
        "    # word taking one at a time.\n",
        "    for char in word:\n",
        "\n",
        "        # comparing that character with\n",
        "        # the character in guesses\n",
        "        if char in guesses:\n",
        "            print(char, end=\" \")\n",
        "\n",
        "        else:\n",
        "            print(\"_\")\n",
        "\n",
        "            # for every failure 1 will be\n",
        "            # incremented in failure\n",
        "            failed += 1\n",
        "\n",
        "    if failed == 0:\n",
        "        # user will win the game if failure is 0\n",
        "        # and 'You Win' will be given as output\n",
        "        print(\"You Win\")\n",
        "\n",
        "        # this print the correct word\n",
        "        print(\"The word is: \", word)\n",
        "        break\n",
        "\n",
        "    # if user has input the wrong alphabet then\n",
        "    # it will ask user to enter another alphabet\n",
        "    print()\n",
        "    guess = input(\"guess a character:\")\n",
        "\n",
        "    # every input character will be stored in guesses\n",
        "    guesses += guess\n",
        "\n",
        "    # check input with the character in word\n",
        "    if guess not in word:\n",
        "\n",
        "        turns -= 1\n",
        "\n",
        "        # if the character doesn’t match the word\n",
        "        # then “Wrong” will be given as output\n",
        "        print(\"Wrong\")\n",
        "\n",
        "        # this will print the number of\n",
        "        # turns left for the user\n",
        "        print(\"You have\", + turns, 'more guesses')\n",
        "\n",
        "        if turns == 0:\n",
        "            print(\"You Loose\")"
      ],
      "metadata": {
        "id": "I9xuRPNuTMBJ"
      },
      "execution_count": null,
      "outputs": []
    },
    {
      "cell_type": "code",
      "source": [
        "dict1 = {\"a\": 1, \"b\": 2, \"c\": 3}\n",
        "x = dict1.items()\n",
        "print(x)"
      ],
      "metadata": {
        "colab": {
          "base_uri": "https://localhost:8080/"
        },
        "id": "I9Ff-ordbbuj",
        "outputId": "270557dc-e70b-40be-cced-ed8c68a57736"
      },
      "execution_count": null,
      "outputs": [
        {
          "output_type": "stream",
          "name": "stdout",
          "text": [
            "dict_items([('a', 1), ('b', 2), ('c', 3)])\n"
          ]
        }
      ]
    },
    {
      "cell_type": "code",
      "source": [
        "fruits = ['apples', 'oranges', 'bananas']\n",
        "x = list(enumerate(fruits))\n",
        "print(x)"
      ],
      "metadata": {
        "colab": {
          "base_uri": "https://localhost:8080/"
        },
        "id": "Sg2JfWNBmZPh",
        "outputId": "5e94be52-539c-4e06-de7d-86331fc3825a"
      },
      "execution_count": null,
      "outputs": [
        {
          "output_type": "stream",
          "name": "stdout",
          "text": [
            "[(0, 'apples'), (1, 'oranges'), (2, 'bananas')]\n"
          ]
        }
      ]
    },
    {
      "cell_type": "code",
      "source": [
        "for i, fruit in x:\n",
        "    print('the ' + fruit + ' are in position ' + str(i))"
      ],
      "metadata": {
        "colab": {
          "base_uri": "https://localhost:8080/"
        },
        "id": "FZ9g-5uSnrGF",
        "outputId": "e3a3e2c6-4243-4330-d086-9664ada0071d"
      },
      "execution_count": null,
      "outputs": [
        {
          "output_type": "stream",
          "name": "stdout",
          "text": [
            "the apples are in position 0\n",
            "the oranges are in position 1\n",
            "the bananas are in position 2\n"
          ]
        }
      ]
    },
    {
      "cell_type": "code",
      "source": [
        "x = int(input(\"Please enter an integer: \"))\n",
        "#Please enter an integer: 42\n",
        "if x < 0:\n",
        "    x = 0\n",
        "    print('Negative changed to zero')\n",
        "elif x == 0:\n",
        "    print('Zero')\n",
        "elif x == 1:\n",
        "    print('Single')\n",
        "else:\n",
        "    print('More')"
      ],
      "metadata": {
        "colab": {
          "base_uri": "https://localhost:8080/"
        },
        "id": "5d2r2342n4xo",
        "outputId": "c851cf74-3e46-436d-ecc8-9837599735d4"
      },
      "execution_count": null,
      "outputs": [
        {
          "output_type": "stream",
          "name": "stdout",
          "text": [
            "Please enter an integer: 42\n",
            "More\n"
          ]
        }
      ]
    },
    {
      "cell_type": "code",
      "source": [
        "num = int(input())\n",
        "rem = num\n",
        "list1 = []\n",
        "list2 = []\n",
        "count = 0\n",
        "\n",
        "while rem != 0:\n",
        "  count = rem % 10\n",
        "  list1.append(count)\n",
        "  rem = rem // 10\n",
        "  sum1 = sum(list1)\n",
        "\n",
        "print(f\"Step-1 Sum: {sum1}\")\n",
        "\n",
        "rem = sum1\n",
        "\n",
        "while rem != 0:\n",
        "  count = rem % 10\n",
        "  list2.append(count)\n",
        "  rem = rem // 10\n",
        "  sum2 = sum(list2)\n",
        "\n",
        "print(f\"Step-2 Sum: {sum2}\")"
      ],
      "metadata": {
        "id": "Qb0qLhPDoAx0",
        "colab": {
          "base_uri": "https://localhost:8080/"
        },
        "outputId": "4d6ecdf6-02f4-48bf-855c-da4862c7515a"
      },
      "execution_count": null,
      "outputs": [
        {
          "output_type": "stream",
          "name": "stdout",
          "text": [
            "7548\n",
            "Step-1 Sum: 24\n",
            "Step-2 Sum: 6\n"
          ]
        }
      ]
    },
    {
      "cell_type": "markdown",
      "source": [
        "remove odd index character\n",
        "\n",
        "Write a Python program to decode a message for security officials by removing the characters which have odd index values of a given string."
      ],
      "metadata": {
        "id": "votlJcXYy4ft"
      }
    },
    {
      "cell_type": "code",
      "source": [
        "str1 = input()\n",
        "\n",
        "for i in range(len(str1)):\n",
        "  if i % 2 == 0:\n",
        "    print(str1[i], end=\"\")\n"
      ],
      "metadata": {
        "colab": {
          "base_uri": "https://localhost:8080/"
        },
        "id": "PecMQVwj0hhj",
        "outputId": "965976b2-0973-4eb1-fc88-699ffaaac7ff"
      },
      "execution_count": null,
      "outputs": [
        {
          "output_type": "stream",
          "name": "stdout",
          "text": [
            "data science\n",
            "dt cec"
          ]
        }
      ]
    },
    {
      "cell_type": "markdown",
      "source": [
        "##check whether a number is prime or not\n",
        "\n",
        "**Write a Python function that takes a number as a parameter and checks whether the number is prime or not.\n",
        "\n",
        "Note : A prime number (or a prime) is a natural number greater than 1 and that has no positive divisors other than 1 and itself.**"
      ],
      "metadata": {
        "id": "cBUjV8IXAVm9"
      }
    },
    {
      "cell_type": "code",
      "source": [
        "# Write your code here\n",
        "\n",
        "def is_prime(num):\n",
        "    if n == 1:\n",
        "        return False\n",
        "    if num > 1:\n",
        "        for i in range(2, num):\n",
        "            if (num % i) == 0:\n",
        "                return False\n",
        "                break\n",
        "        else:\n",
        "            return True\n",
        "\n",
        "num = int(input())\n",
        "is_prime(num)"
      ],
      "metadata": {
        "colab": {
          "base_uri": "https://localhost:8080/"
        },
        "id": "K8B9d9A8_79C",
        "outputId": "02157a0e-6274-40a7-abb2-adb4ce6586b3"
      },
      "execution_count": null,
      "outputs": [
        {
          "name": "stdout",
          "output_type": "stream",
          "text": [
            "7\n"
          ]
        },
        {
          "output_type": "execute_result",
          "data": {
            "text/plain": [
              "True"
            ]
          },
          "metadata": {},
          "execution_count": 63
        }
      ]
    },
    {
      "cell_type": "markdown",
      "source": [
        "##Find closest palindrome\n",
        "\n",
        "Write a Python program to find the closest palindrome from a given string."
      ],
      "metadata": {
        "id": "CJyxU86zGTND"
      }
    },
    {
      "cell_type": "code",
      "source": [
        "str1 = input()\n",
        "a = \"\"\n",
        "b = \"\"\n",
        "\n",
        "if str1 == str1[::-1]:\n",
        "  print(\"Palindrome\")\n",
        "\n",
        "elif len(str1) % 2 == 0:\n",
        "  a = str1[0:int(len(str1)/2)]\n",
        "  b = str1[int(len(str1)/2):]\n",
        "  a = a[::-1]\n",
        "  for i in range(len(a)):\n",
        "    if a[i] != b[i]:\n",
        "      print(a[::-1] + b.replace(b[i], a[i]))\n",
        "\n",
        "elif len(str1) % 2 != 0:\n",
        "  a = str1[0:int(len(str1)/2)]\n",
        "  b = str1[int(len(str1)/2)+1:]\n",
        "  c = str1[int(len(str1)/2)]\n",
        "  a = a[::-1]\n",
        "  for i in range(len(a)):\n",
        "    if a[i] == b[i]:\n",
        "      continue\n",
        "    else:\n",
        "      print(a[::-1] + c + b.replace(b[i], a[i]))\n"
      ],
      "metadata": {
        "id": "fFoq5qOgAnR4",
        "colab": {
          "base_uri": "https://localhost:8080/"
        },
        "outputId": "434b16d1-0e31-4eaf-97f5-3bee9c3ee488"
      },
      "execution_count": 2,
      "outputs": [
        {
          "output_type": "stream",
          "name": "stdout",
          "text": [
            "madan\n",
            "madam\n"
          ]
        }
      ]
    },
    {
      "cell_type": "code",
      "source": [],
      "metadata": {
        "id": "5co5q_9YTzly"
      },
      "execution_count": null,
      "outputs": []
    }
  ]
}